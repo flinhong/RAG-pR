{
  "cells": [
    {
      "cell_type": "markdown",
      "id": "83489860",
      "metadata": {
        "id": "83489860"
      },
      "source": [
        "## Retrieving Wikipedia data"
      ]
    },
    {
      "cell_type": "markdown",
      "id": "7acd5625",
      "metadata": {
        "id": "7acd5625"
      },
      "source": [
        "## Defining the tokenization function"
      ]
    },
    {
      "cell_type": "code",
      "execution_count": 71,
      "id": "77b3102b",
      "metadata": {
        "colab": {
          "base_uri": "https://localhost:8080/"
        },
        "id": "77b3102b",
        "outputId": "35a7b4de-af40-44fc-93d9-fc1c11077e28"
      },
      "outputs": [
        {
          "name": "stderr",
          "output_type": "stream",
          "text": [
            "[nltk_data] Downloading package punkt to /home/ongin/nltk_data...\n",
            "[nltk_data]   Package punkt is already up-to-date!\n",
            "[nltk_data] Downloading package punkt_tab to /home/ongin/nltk_data...\n",
            "[nltk_data]   Package punkt_tab is already up-to-date!\n"
          ]
        }
      ],
      "source": [
        "import os\n",
        "import nltk\n",
        "from nltk.tokenize import word_tokenize\n",
        "\n",
        "# Ensure you have the necessary NLTK resource downloaded\n",
        "nltk.download('punkt')\n",
        "nltk.download('punkt_tab')\n",
        "\n",
        "def nb_tokens(text):\n",
        "    # More sophisticated tokenization can be used here, such as punctuation\n",
        "    tokens = word_tokenize(text)\n",
        "    return len(tokens)"
      ]
    },
    {
      "cell_type": "markdown",
      "id": "ea8143f0",
      "metadata": {
        "id": "ea8143f0"
      },
      "source": [
        "## Creating an Wikipedia API instance"
      ]
    },
    {
      "cell_type": "code",
      "execution_count": 72,
      "id": "86fd4469",
      "metadata": {
        "id": "86fd4469"
      },
      "outputs": [],
      "source": [
        "import wikipediaapi\n",
        "wikipedia = wikipediaapi.Wikipedia(language='en', user_agent='KnowledgeGraph/0.0.2 (honglin@duck.com)')\n",
        "\n",
        "topic = \"Solar_cell\""
      ]
    },
    {
      "cell_type": "markdown",
      "id": "6b2768c7",
      "metadata": {
        "id": "6b2768c7"
      },
      "source": [
        "### Root page summary"
      ]
    },
    {
      "cell_type": "code",
      "execution_count": 73,
      "id": "719e84a3",
      "metadata": {
        "colab": {
          "base_uri": "https://localhost:8080/"
        },
        "id": "719e84a3",
        "outputId": "a9160491-23ea-4bd1-ca6a-f2a2796d5117"
      },
      "outputs": [
        {
          "name": "stdout",
          "output_type": "stream",
          "text": [
            "Title: Solar cell\n",
            "Summary: A solar cell, also known as a photovoltaic cell (PV cell), is an electronic\n",
            "device that converts the energy of light directly into electricity by means of\n",
            "the photovoltaic effect. It is a type of photoelectric cell, a device whose\n",
            "electrical characteristics (such as current, voltage, or resistance) vary when\n",
            "it is exposed to light. Individual solar cell devices are often the electrical\n",
            "building blocks of photovoltaic modules, known colloquially as \"solar panels\".\n",
            "Almost all commercial PV cells consist of crystalline silicon, with a market\n",
            "share of 95%. Cadmium telluride thin-film solar cells account for the remainder.\n",
            "The common single-junction silicon solar cell can produce a maximum open-circuit\n",
            "voltage of approximately 0.5 to 0.6 volts. Photovoltaic cells may operate under\n",
            "sunlight or artificial light. In addition to producing solar power, they can be\n",
            "used as a photodetector (for example infrared detectors), to detect light or\n",
            "other electromagnetic radiation near the visible light range, as well as to\n",
            "measure light intensity. The operation of a PV cell requires three basic\n",
            "attributes:  The absorption of light, generating excitons (bound electron-hole\n",
            "pairs), unbound electron-hole pairs (via excitons), or plasmons. The separation\n",
            "of charge carriers of opposite types. The separate extraction of those carriers\n",
            "to an external circuit. There are multiple input factors that affect the output\n",
            "power of solar cells such as temperature, material properties, weather\n",
            "conditions, solar irradiance and more. A similar type of \"photoelectrolytic\n",
            "cell\" (photoelectrochemical cell), can refer to devices  using light to excite\n",
            "electrons that can further be transported by a semiconductor which delivers the\n",
            "energy (like that explored by Edmond Becquerel and implemented in modern dye-\n",
            "sensitized solar cells) using light to split water directly into hydrogen and\n",
            "oxygen which can further be used in power generation In contrast to outputting\n",
            "power directly, a solar thermal collector absorbs sunlight, to produce either\n",
            "direct heat as a \"solar thermal module\" or \"solar hot water panel\" indirect heat\n",
            "to be used to spin turbines in electrical power generation.     Arrays of solar\n",
            "cells are used to make solar modules that generate a usable amount of direct\n",
            "current (DC) from sunlight. Strings of solar modules create a solar array to\n",
            "generate solar power using solar energy, many times using an inverter to convert\n",
            "the solar power to alternating current (AC).\n",
            "\n",
            "Number of tokens: 440\n"
          ]
        }
      ],
      "source": [
        "import textwrap\n",
        "\n",
        "page = wikipedia.page(topic)\n",
        "\n",
        "if page.exists():\n",
        "    print(f\"Title: {page.title}\")\n",
        "    print(f\"Summary: {textwrap.fill(page.summary, width=80)}\\n\")\n",
        "    print(f\"Number of tokens: {nb_tokens(page.summary)}\")\n",
        "else:\n",
        "    print(\"Page not found!\")"
      ]
    },
    {
      "cell_type": "markdown",
      "id": "b3ba46ca",
      "metadata": {
        "id": "b3ba46ca"
      },
      "source": [
        "### Collecting URLs and fetch content to documents"
      ]
    },
    {
      "cell_type": "code",
      "execution_count": 74,
      "id": "51cfad6a",
      "metadata": {
        "colab": {
          "base_uri": "https://localhost:8080/"
        },
        "id": "51cfad6a",
        "outputId": "09ad8217-2728-4a9e-c8f5-c8c703cbf339"
      },
      "outputs": [
        {
          "name": "stdout",
          "output_type": "stream",
          "text": [
            "https://en.wikipedia.org/wiki/Solar_cell\n",
            "Number of links: 568\n"
          ]
        }
      ],
      "source": [
        "print(page.fullurl)\n",
        "\n",
        "# Get all the links on the page\n",
        "links = page.links\n",
        "print(f\"Number of links: {len(links)}\")\n",
        "\n",
        "def safe_file_name(s):\n",
        "    # Replace spaces with underscores\n",
        "    s = s.replace(' ', '_')\n",
        "    # Remove any characters that are not allowed in file names\n",
        "    safe_str = ''.join(c for c in s if c.isalpha() or c.isdigit() or c in [' ', '.', '_', '-'])\n",
        "    return safe_str\n",
        "\n",
        "def file_exists_and_has_content(file_path):\n",
        "    # Check if the file exists\n",
        "    if not os.path.exists(file_path):\n",
        "        return False\n",
        "    \n",
        "    # Check if the file is not empty\n",
        "    with open(file_path, 'r', encoding='utf-8') as file:\n",
        "        first_char = file.read(1)\n",
        "        if first_char:\n",
        "            return True\n",
        "        else:\n",
        "            return False\n",
        "\n",
        "# Directory to store the output file\n",
        "output_dir = './documents/'\n",
        "os.makedirs(output_dir, exist_ok=True)\n",
        "\n",
        "def save_document(page):\n",
        "    file_name = safe_file_name(page.title)\n",
        "    file_path = os.path.join(output_dir, f\"{file_name}.txt\")\n",
        "    \n",
        "    if file_exists_and_has_content(file_path):\n",
        "        return\n",
        "\n",
        "    with open(file_path, 'w', encoding='utf-8') as file:\n",
        "        file.write(f\"Title: {page.title}\\n\\n\")\n",
        "        file.write(f\"URL: {page.fullurl}\\n\\n\")\n",
        "        file.write(f\"Content:\\n{page.text}\\n\")\n",
        "\n",
        "# Save topic document\n",
        "save_document(page)"
      ]
    },
    {
      "cell_type": "code",
      "execution_count": 75,
      "id": "ab7f044a",
      "metadata": {},
      "outputs": [
        {
          "name": "stderr",
          "output_type": "stream",
          "text": [
            "Fetching Wikipedia articles: 100%|██████████| 568/568 [14:19<00:00,  1.51s/it]\n"
          ]
        }
      ],
      "source": [
        "\n",
        "from tqdm import tqdm\n",
        "import time\n",
        "\n",
        "for link in tqdm(sorted(links), desc=\"Fetching Wikipedia articles\"):\n",
        "    page = wikipedia.page(link)\n",
        "    if page.exists() and page.fullurl:\n",
        "        save_document(page)\n",
        "        time.sleep(0.5)"
      ]
    }
  ],
  "metadata": {
    "colab": {
      "include_colab_link": true,
      "provenance": []
    },
    "kernelspec": {
      "display_name": ".venv",
      "language": "python",
      "name": "python3"
    },
    "language_info": {
      "codemirror_mode": {
        "name": "ipython",
        "version": 3
      },
      "file_extension": ".py",
      "mimetype": "text/x-python",
      "name": "python",
      "nbconvert_exporter": "python",
      "pygments_lexer": "ipython3",
      "version": "3.13.4"
    }
  },
  "nbformat": 4,
  "nbformat_minor": 5
}
