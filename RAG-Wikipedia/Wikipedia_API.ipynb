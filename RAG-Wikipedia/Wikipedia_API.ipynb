{
  "cells": [
    {
      "cell_type": "markdown",
      "id": "83489860",
      "metadata": {
        "id": "83489860"
      },
      "source": [
        "## Retrieving Wikipedia data"
      ]
    },
    {
      "cell_type": "markdown",
      "id": "7acd5625",
      "metadata": {
        "id": "7acd5625"
      },
      "source": [
        "## Defining the tokenization function"
      ]
    },
    {
      "cell_type": "code",
      "execution_count": 1,
      "id": "77b3102b",
      "metadata": {
        "colab": {
          "base_uri": "https://localhost:8080/"
        },
        "id": "77b3102b",
        "outputId": "35a7b4de-af40-44fc-93d9-fc1c11077e28"
      },
      "outputs": [
        {
          "name": "stderr",
          "output_type": "stream",
          "text": [
            "[nltk_data] Downloading package punkt to /home/ongin/nltk_data...\n",
            "[nltk_data]   Package punkt is already up-to-date!\n",
            "[nltk_data] Downloading package punkt_tab to /home/ongin/nltk_data...\n",
            "[nltk_data]   Package punkt_tab is already up-to-date!\n"
          ]
        }
      ],
      "source": [
        "import os\n",
        "import nltk\n",
        "from nltk.tokenize import word_tokenize\n",
        "\n",
        "# Ensure you have the necessary NLTK resource downloaded\n",
        "nltk.download('punkt')\n",
        "nltk.download('punkt_tab')\n",
        "\n",
        "def nb_tokens(text):\n",
        "    # More sophisticated tokenization can be used here, such as punctuation\n",
        "    tokens = word_tokenize(text)\n",
        "    return len(tokens)"
      ]
    },
    {
      "cell_type": "markdown",
      "id": "ea8143f0",
      "metadata": {
        "id": "ea8143f0"
      },
      "source": [
        "## Creating an Wikipedia API instance"
      ]
    },
    {
      "cell_type": "code",
      "execution_count": null,
      "id": "86fd4469",
      "metadata": {
        "id": "86fd4469"
      },
      "outputs": [],
      "source": [
        "import wikipediaapi\n",
        "wikipedia = wikipediaapi.Wikipedia(language='en', user_agent='KnowledgeGraph/0.0.2 (honglin@duck.com)')\n",
        "\n",
        "topic = \"Solar-cell_efficiency\""
      ]
    },
    {
      "cell_type": "markdown",
      "id": "6b2768c7",
      "metadata": {
        "id": "6b2768c7"
      },
      "source": [
        "### Root page summary"
      ]
    },
    {
      "cell_type": "code",
      "execution_count": 3,
      "id": "719e84a3",
      "metadata": {
        "colab": {
          "base_uri": "https://localhost:8080/"
        },
        "id": "719e84a3",
        "outputId": "a9160491-23ea-4bd1-ca6a-f2a2796d5117"
      },
      "outputs": [
        {
          "name": "stdout",
          "output_type": "stream",
          "text": [
            "Title: Photovoltaics\n",
            "Summary: Photovoltaics (PV) is the conversion of light into electricity using\n",
            "semiconducting materials that exhibit the photovoltaic effect, a phenomenon\n",
            "studied in physics, photochemistry, and electrochemistry. The photovoltaic\n",
            "effect is commercially used for electricity generation and as photosensors. A\n",
            "photovoltaic system employs solar modules, each comprising a number of solar\n",
            "cells, which generate electrical power. PV installations may be ground-mounted,\n",
            "rooftop-mounted, wall-mounted or floating. The mount may be fixed or use a solar\n",
            "tracker to follow the sun across the sky. Photovoltaic technology helps to\n",
            "mitigate climate change because it emits much less carbon dioxide than fossil\n",
            "fuels. Solar PV has specific advantages as an energy source: once installed, its\n",
            "operation does not generate any pollution or any greenhouse gas emissions; it\n",
            "shows scalability in respect of power needs and silicon has large availability\n",
            "in the Earth's crust, although other materials required in PV system manufacture\n",
            "such as silver may constrain further growth in the technology. Other major\n",
            "constraints identified include competition for land use. The use of PV as a main\n",
            "source requires energy storage systems or global distribution by high-voltage\n",
            "direct current power lines causing additional costs, and also has a number of\n",
            "other specific disadvantages such as variable power generation which have to be\n",
            "balanced. Production and installation does cause some pollution and greenhouse\n",
            "gas emissions, though only a fraction of the emissions caused by fossil fuels.\n",
            "Photovoltaic systems have long been used in specialized applications as stand-\n",
            "alone installations and grid-connected PV systems have been in use since the\n",
            "1990s. Photovoltaic modules were first mass-produced in 2000, when the German\n",
            "government funded a one hundred thousand roof program. Decreasing costs has\n",
            "allowed PV to grow as an energy source. This has been partially driven by\n",
            "massive Chinese government investment in developing solar production capacity\n",
            "since 2000, and achieving economies of scale. Improvements in manufacturing\n",
            "technology and efficiency have also led to decreasing costs. Net metering and\n",
            "financial incentives, such as preferential feed-in tariffs for solar-generated\n",
            "electricity, have supported solar PV installations in many countries. Panel\n",
            "prices dropped by a factor of 4 between 2004 and 2011. Module prices dropped by\n",
            "about 90% over the 2010s. In 2022, worldwide installed PV capacity increased to\n",
            "more than 1 terawatt (TW) covering nearly two percent of global electricity\n",
            "demand. After hydro and wind powers, PV is the third renewable energy source in\n",
            "terms of global capacity. In 2022, the International Energy Agency expected a\n",
            "growth by over 1 TW from 2022 to 2027. In some instances, PV has offered the\n",
            "cheapest source of electrical power in regions with a high solar potential, with\n",
            "a bid for pricing as low as 0.015 US$/kWh in Qatar in 2023. In 2023, the\n",
            "International Energy Agency stated in its World Energy Outlook that '[f]or\n",
            "projects with low cost financing that tap high quality resources, solar PV is\n",
            "now the cheapest source of electricity in history.\n",
            "\n",
            "Number of tokens: 539\n"
          ]
        }
      ],
      "source": [
        "import textwrap\n",
        "\n",
        "page = wikipedia.page(topic)\n",
        "\n",
        "if page.exists():\n",
        "    print(f\"Title: {page.title}\")\n",
        "    print(f\"Summary: {textwrap.fill(page.summary, width=80)}\\n\")\n",
        "    print(f\"Number of tokens: {nb_tokens(page.summary)}\")\n",
        "else:\n",
        "    print(\"Page not found!\")"
      ]
    },
    {
      "cell_type": "markdown",
      "id": "b3ba46ca",
      "metadata": {
        "id": "b3ba46ca"
      },
      "source": [
        "### Collecting URLs and fetch content to documents"
      ]
    },
    {
      "cell_type": "code",
      "execution_count": 4,
      "id": "51cfad6a",
      "metadata": {
        "colab": {
          "base_uri": "https://localhost:8080/"
        },
        "id": "51cfad6a",
        "outputId": "09ad8217-2728-4a9e-c8f5-c8c703cbf339"
      },
      "outputs": [
        {
          "name": "stdout",
          "output_type": "stream",
          "text": [
            "https://en.wikipedia.org/wiki/Photovoltaics\n",
            "Number of links: 596\n"
          ]
        }
      ],
      "source": [
        "print(page.fullurl)\n",
        "\n",
        "# Get all the links on the page\n",
        "links = page.links\n",
        "print(f\"Number of links: {len(links)}\")\n",
        "\n",
        "def safe_file_name(s):\n",
        "    # Replace spaces with underscores\n",
        "    s = s.replace(' ', '_')\n",
        "    # Remove any characters that are not allowed in file names\n",
        "    safe_str = ''.join(c for c in s if c.isalpha() or c.isdigit() or c in [' ', '.', '_', '-'])\n",
        "    return safe_str\n",
        "\n",
        "def file_exists_and_has_content(file_path):\n",
        "    # Check if the file exists\n",
        "    if not os.path.exists(file_path):\n",
        "        return False\n",
        "    \n",
        "    # Check if the file is not empty\n",
        "    with open(file_path, 'r', encoding='utf-8') as file:\n",
        "        first_char = file.read(1)\n",
        "        if first_char:\n",
        "            return True\n",
        "        else:\n",
        "            return False\n",
        "\n",
        "# Directory to store the output file\n",
        "output_dir = './documents/'\n",
        "os.makedirs(output_dir, exist_ok=True)\n",
        "\n",
        "def save_document(page):\n",
        "    file_name = safe_file_name(page.title)\n",
        "    file_path = os.path.join(output_dir, f\"{file_name}.txt\")\n",
        "    \n",
        "    if file_exists_and_has_content(file_path):\n",
        "        return\n",
        "\n",
        "    with open(file_path, 'w', encoding='utf-8') as file:\n",
        "        file.write(f\"Title: {page.title}\\n\\n\")\n",
        "        file.write(f\"URL: {page.fullurl}\\n\\n\")\n",
        "        file.write(f\"Content:\\n{page.text}\\n\")\n",
        "\n",
        "# Save topic document\n",
        "save_document(page)"
      ]
    },
    {
      "cell_type": "code",
      "execution_count": 5,
      "id": "ab7f044a",
      "metadata": {},
      "outputs": [
        {
          "name": "stderr",
          "output_type": "stream",
          "text": [
            "Fetching Wikipedia articles:   0%|          | 0/596 [00:00<?, ?it/s]"
          ]
        },
        {
          "name": "stderr",
          "output_type": "stream",
          "text": [
            "Fetching Wikipedia articles: 100%|██████████| 596/596 [12:25<00:00,  1.25s/it]\n"
          ]
        }
      ],
      "source": [
        "\n",
        "from tqdm import tqdm\n",
        "import time\n",
        "\n",
        "for link in tqdm(sorted(links), desc=\"Fetching Wikipedia articles\"):\n",
        "    page = wikipedia.page(link)\n",
        "    if page.exists() and page.fullurl:\n",
        "        save_document(page)\n",
        "        time.sleep(0.5)"
      ]
    }
  ],
  "metadata": {
    "colab": {
      "include_colab_link": true,
      "provenance": []
    },
    "kernelspec": {
      "display_name": ".venv",
      "language": "python",
      "name": "python3"
    },
    "language_info": {
      "codemirror_mode": {
        "name": "ipython",
        "version": 3
      },
      "file_extension": ".py",
      "mimetype": "text/x-python",
      "name": "python",
      "nbconvert_exporter": "python",
      "pygments_lexer": "ipython3",
      "version": "3.13.4"
    }
  },
  "nbformat": 4,
  "nbformat_minor": 5
}
