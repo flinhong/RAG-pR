{
  "cells": [
    {
      "cell_type": "markdown",
      "id": "83489860",
      "metadata": {
        "id": "83489860"
      },
      "source": [
        "## Retrieving Wikipedia data"
      ]
    },
    {
      "cell_type": "markdown",
      "id": "7acd5625",
      "metadata": {
        "id": "7acd5625"
      },
      "source": [
        "## Defining the tokenization function"
      ]
    },
    {
      "cell_type": "code",
      "execution_count": null,
      "id": "77b3102b",
      "metadata": {
        "colab": {
          "base_uri": "https://localhost:8080/"
        },
        "id": "77b3102b",
        "outputId": "35a7b4de-af40-44fc-93d9-fc1c11077e28"
      },
      "outputs": [],
      "source": [
        "import os\n",
        "import nltk\n",
        "from nltk.tokenize import word_tokenize\n",
        "\n",
        "# Ensure you have the necessary NLTK resource downloaded\n",
        "nltk.download('punkt')\n",
        "nltk.download('punkt_tab')\n",
        "\n",
        "def nb_tokens(text):\n",
        "    # More sophisticated tokenization can be used here, such as punctuation\n",
        "    tokens = word_tokenize(text)\n",
        "    return len(tokens)"
      ]
    },
    {
      "cell_type": "markdown",
      "id": "ea8143f0",
      "metadata": {
        "id": "ea8143f0"
      },
      "source": [
        "## Creating an Wikipedia API instance"
      ]
    },
    {
      "cell_type": "code",
      "execution_count": null,
      "id": "86fd4469",
      "metadata": {
        "id": "86fd4469"
      },
      "outputs": [],
      "source": [
        "import wikipediaapi\n",
        "wikipedia = wikipediaapi.Wikipedia(language='en', user_agent='KnowledgeGraph/0.0.2 (honglin@duck.com)')\n",
        "\n",
        "topic = \"Solar_cell\""
      ]
    },
    {
      "cell_type": "markdown",
      "id": "6b2768c7",
      "metadata": {
        "id": "6b2768c7"
      },
      "source": [
        "### Root page summary"
      ]
    },
    {
      "cell_type": "code",
      "execution_count": null,
      "id": "719e84a3",
      "metadata": {
        "colab": {
          "base_uri": "https://localhost:8080/"
        },
        "id": "719e84a3",
        "outputId": "a9160491-23ea-4bd1-ca6a-f2a2796d5117"
      },
      "outputs": [],
      "source": [
        "import textwrap\n",
        "\n",
        "page = wikipedia.page(topic)\n",
        "\n",
        "if page.exists():\n",
        "    print(f\"Title: {page.title}\")\n",
        "    print(f\"Summary: {textwrap.fill(page.summary, width=80)}\\n\")\n",
        "    print(f\"Number of tokens: {nb_tokens(page.summary)}\")\n",
        "else:\n",
        "    print(\"Page not found!\")"
      ]
    },
    {
      "cell_type": "markdown",
      "id": "b3ba46ca",
      "metadata": {
        "id": "b3ba46ca"
      },
      "source": [
        "### Collecting URLs and fetch content to documents"
      ]
    },
    {
      "cell_type": "code",
      "execution_count": null,
      "id": "51cfad6a",
      "metadata": {
        "colab": {
          "base_uri": "https://localhost:8080/"
        },
        "id": "51cfad6a",
        "outputId": "09ad8217-2728-4a9e-c8f5-c8c703cbf339"
      },
      "outputs": [],
      "source": [
        "print(page.fullurl)\n",
        "\n",
        "# Get all the links on the page\n",
        "links = page.links\n",
        "print(f\"Number of links: {len(links)}\")\n",
        "\n",
        "def safe_file_name(s):\n",
        "    # Replace spaces with underscores\n",
        "    s = s.replace(' ', '_')\n",
        "    # Remove any characters that are not allowed in file names\n",
        "    safe_str = ''.join(c for c in s if c.isalpha() or c.isdigit() or c in [' ', '.', '_', '-'])\n",
        "    return safe_str\n",
        "\n",
        "def file_exists_and_has_content(file_path):\n",
        "    # Check if the file exists\n",
        "    if not os.path.exists(file_path):\n",
        "        return False\n",
        "    \n",
        "    # Check if the file is not empty\n",
        "    with open(file_path, 'r', encoding='utf-8') as file:\n",
        "        first_char = file.read(1)\n",
        "        if first_char:\n",
        "            return True\n",
        "        else:\n",
        "            return False\n",
        "\n",
        "# Directory to store the output file\n",
        "output_dir = './documents/'\n",
        "os.makedirs(output_dir, exist_ok=True)\n",
        "\n",
        "def save_document(page):\n",
        "    file_name = safe_file_name(page.title)\n",
        "    file_path = os.path.join(output_dir, f\"{file_name}.txt\")\n",
        "    \n",
        "    if file_exists_and_has_content(file_path):\n",
        "        return\n",
        "\n",
        "    with open(file_path, 'w', encoding='utf-8') as file:\n",
        "        file.write(f\"Title: {page.title}\\n\\n\")\n",
        "        file.write(f\"URL: {page.fullurl}\\n\\n\")\n",
        "        file.write(f\"Content:\\n{page.text}\\n\")\n",
        "\n",
        "# Save topic document\n",
        "save_document(page)"
      ]
    },
    {
      "cell_type": "code",
      "execution_count": null,
      "id": "ab7f044a",
      "metadata": {},
      "outputs": [],
      "source": [
        "\n",
        "from tqdm import tqdm\n",
        "import time\n",
        "\n",
        "for link in tqdm(sorted(links), desc=\"Fetching Wikipedia articles\"):\n",
        "    page = wikipedia.page(link)\n",
        "    if page.exists() and page.fullurl:\n",
        "        save_document(page)\n",
        "        time.sleep(0.5)"
      ]
    }
  ],
  "metadata": {
    "colab": {
      "include_colab_link": true,
      "provenance": []
    },
    "kernelspec": {
      "display_name": ".venv",
      "language": "python",
      "name": "python3"
    },
    "language_info": {
      "codemirror_mode": {
        "name": "ipython",
        "version": 3
      },
      "file_extension": ".py",
      "mimetype": "text/x-python",
      "name": "python",
      "nbconvert_exporter": "python",
      "pygments_lexer": "ipython3",
      "version": "3.13.4"
    }
  },
  "nbformat": 4,
  "nbformat_minor": 5
}
