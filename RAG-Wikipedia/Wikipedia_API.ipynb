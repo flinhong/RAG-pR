{
  "cells": [
    {
      "cell_type": "markdown",
      "id": "83489860",
      "metadata": {
        "id": "83489860"
      },
      "source": [
        "## Retrieving Wikipedia data and metadata"
      ]
    },
    {
      "cell_type": "markdown",
      "id": "7acd5625",
      "metadata": {
        "id": "7acd5625"
      },
      "source": [
        "## Defining the tokenization function"
      ]
    },
    {
      "cell_type": "code",
      "execution_count": 19,
      "id": "77b3102b",
      "metadata": {
        "colab": {
          "base_uri": "https://localhost:8080/"
        },
        "id": "77b3102b",
        "outputId": "35a7b4de-af40-44fc-93d9-fc1c11077e28"
      },
      "outputs": [
        {
          "name": "stderr",
          "output_type": "stream",
          "text": [
            "[nltk_data] Downloading package punkt to /home/ongin/nltk_data...\n",
            "[nltk_data]   Package punkt is already up-to-date!\n",
            "[nltk_data] Downloading package punkt_tab to /home/ongin/nltk_data...\n",
            "[nltk_data]   Package punkt_tab is already up-to-date!\n"
          ]
        }
      ],
      "source": [
        "import nltk\n",
        "from nltk.tokenize import word_tokenize\n",
        "\n",
        "# Ensure you have the necessary NLTK resource downloaded\n",
        "nltk.download('punkt')\n",
        "nltk.download('punkt_tab')\n",
        "\n",
        "def nb_tokens(text):\n",
        "    # More sophisticated tokenization can be used here, such as punctuation\n",
        "    tokens = word_tokenize(text)\n",
        "    return len(tokens)"
      ]
    },
    {
      "cell_type": "markdown",
      "id": "ea8143f0",
      "metadata": {
        "id": "ea8143f0"
      },
      "source": [
        "## Creating an Wikipedia API instance"
      ]
    },
    {
      "cell_type": "code",
      "execution_count": 20,
      "id": "86fd4469",
      "metadata": {
        "id": "86fd4469"
      },
      "outputs": [],
      "source": [
        "import wikipediaapi\n",
        "wikipedia = wikipediaapi.Wikipedia(language='en', user_agent='KnowledgeGraph/0.0.2 (honglin@duck.com)')\n",
        "\n",
        "topic = \"Solar_cell\"\n",
        "filename = \"Solar_cell\""
      ]
    },
    {
      "cell_type": "markdown",
      "id": "6b2768c7",
      "metadata": {
        "id": "6b2768c7"
      },
      "source": [
        "### Root page summary"
      ]
    },
    {
      "cell_type": "code",
      "execution_count": 21,
      "id": "719e84a3",
      "metadata": {
        "colab": {
          "base_uri": "https://localhost:8080/"
        },
        "id": "719e84a3",
        "outputId": "a9160491-23ea-4bd1-ca6a-f2a2796d5117"
      },
      "outputs": [
        {
          "name": "stdout",
          "output_type": "stream",
          "text": [
            "Title: Solar cell\n",
            "Summary: A solar cell, also known as a photovoltaic cell (PV cell), is an electronic\n",
            "device that converts the energy of light directly into electricity by means of\n",
            "the photovoltaic effect. It is a type of photoelectric cell, a device whose\n",
            "electrical characteristics (such as current, voltage, or resistance) vary when\n",
            "it is exposed to light. Individual solar cell devices are often the electrical\n",
            "building blocks of photovoltaic modules, known colloquially as \"solar panels\".\n",
            "Almost all commercial PV cells consist of crystalline silicon, with a market\n",
            "share of 95%. Cadmium telluride thin-film solar cells account for the remainder.\n",
            "The common single-junction silicon solar cell can produce a maximum open-circuit\n",
            "voltage of approximately 0.5 to 0.6 volts. Photovoltaic cells may operate under\n",
            "sunlight or artificial light. In addition to producing solar power, they can be\n",
            "used as a photodetector (for example infrared detectors), to detect light or\n",
            "other electromagnetic radiation near the visible light range, as well as to\n",
            "measure light intensity. The operation of a PV cell requires three basic\n",
            "attributes:  The absorption of light, generating excitons (bound electron-hole\n",
            "pairs), unbound electron-hole pairs (via excitons), or plasmons. The separation\n",
            "of charge carriers of opposite types. The separate extraction of those carriers\n",
            "to an external circuit. There are multiple input factors that affect the output\n",
            "power of solar cells such as temperature, material properties, weather\n",
            "conditions, solar irradiance and more. A similar type of \"photoelectrolytic\n",
            "cell\" (photoelectrochemical cell), can refer to devices  using light to excite\n",
            "electrons that can further be transported by a semiconductor which delivers the\n",
            "energy (like that explored by Edmond Becquerel and implemented in modern dye-\n",
            "sensitized solar cells) using light to split water directly into hydrogen and\n",
            "oxygen which can further be used in power generation In contrast to outputting\n",
            "power directly, a solar thermal collector absorbs sunlight, to produce either\n",
            "direct heat as a \"solar thermal module\" or \"solar hot water panel\" indirect heat\n",
            "to be used to spin turbines in electrical power generation.     Arrays of solar\n",
            "cells are used to make solar modules that generate a usable amount of direct\n",
            "current (DC) from sunlight. Strings of solar modules create a solar array to\n",
            "generate solar power using solar energy, many times using an inverter to convert\n",
            "the solar power to alternating current (AC).\n",
            "Number of tokens: 440\n"
          ]
        }
      ],
      "source": [
        "import textwrap\n",
        "\n",
        "page = wikipedia.page(topic)\n",
        "\n",
        "if page.exists():\n",
        "    print(f\"Title: {page.title}\")\n",
        "    print(f\"Summary: {textwrap.fill(page.summary, width=80)}\")\n",
        "    print(f\"Number of tokens: {nb_tokens(page.summary)}\")\n",
        "else:\n",
        "    print(\"Page not found!\")"
      ]
    },
    {
      "cell_type": "markdown",
      "id": "b3ba46ca",
      "metadata": {
        "id": "b3ba46ca"
      },
      "source": [
        "### URLs and Citations"
      ]
    },
    {
      "cell_type": "code",
      "execution_count": 22,
      "id": "51cfad6a",
      "metadata": {
        "colab": {
          "base_uri": "https://localhost:8080/"
        },
        "id": "51cfad6a",
        "outputId": "09ad8217-2728-4a9e-c8f5-c8c703cbf339"
      },
      "outputs": [
        {
          "name": "stdout",
          "output_type": "stream",
          "text": [
            "https://en.wikipedia.org/wiki/Solar_cell\n",
            "Number of links: 568\n",
            "Title: 1973 oil crisis\n",
            "URL: https://en.wikipedia.org/wiki/1973_oil_crisis\n",
            "Summary: In October 1973, the Organization of Arab Petroleum Exporting Countries (OAPEC)\n",
            "announced that it was implementing a total oil embargo against countries that\n",
            "had supported Israel at any point during the 1973 Yom Kippur War, which began\n",
            "after Egypt and Syria launched a large-scale surprise attack in an ultimately\n",
            "unsuccessful attempt to recover the territories that they had lost to Israel\n",
            "during the 1967 Six-Day War. In an effort that was led by Faisal of Saudi\n",
            "Arabia, the initial countries that OAPEC targeted were Canada, Japan, the\n",
            "Netherlands, the United Kingdom, and the United States. This list was later\n",
            "expanded to include Portugal, Rhodesia, and South Africa. In March 1974, OAPEC\n",
            "lifted the embargo, but the price of oil had risen by nearly 300%: from US$3 per\n",
            "barrel ($19/m3) to nearly US$12 per barrel ($75/m3) globally. Prices in the\n",
            "United States were significantly higher than the global average. After it was\n",
            "implemented, the embargo caused an oil crisis, or \"shock\", with many short- and\n",
            "long-term effects on the global economy as well as on global politics. The 1973\n",
            "embargo later came to be referred to as the \"first oil shock\" vis-à-vis the\n",
            "\"second oil shock\" that was the 1979 oil crisis, brought upon by the Iranian\n",
            "Revolution.\n",
            "Number of tokens: 249\n",
            "\n",
            "Title: ARCO\n",
            "URL: https://en.wikipedia.org/wiki/ARCO\n",
            "Summary: ARCO ( AR-koh) is a brand of gasoline stations owned by Marathon Petroleum. BP,\n",
            "which formerly owned the brand, uses it in California, Oregon and Washington,\n",
            "while Marathon has rights for the rest of the United States and Mexico. ARCO was\n",
            "established in 1966 as the Atlantic Richfield Company, an independent oil and\n",
            "gas company formed from the merger of Atlantic Petroleum and the Richfield Oil\n",
            "Corporation.\n",
            "Number of tokens: 76\n",
            "\n",
            "Title: Absorption (electromagnetic radiation)\n",
            "URL: https://en.wikipedia.org/wiki/Absorption_(electromagnetic_radiation)\n",
            "Summary: In physics, absorption of electromagnetic radiation is how matter (typically\n",
            "electrons bound in atoms) takes up a photon's energy—and so transforms\n",
            "electromagnetic energy into internal energy of the absorber (for example,\n",
            "thermal energy). A notable effect of the absorption of electromagnetic radiation\n",
            "is attenuation of the radiation; attenuation is the gradual reduction of the\n",
            "intensity of light waves as they propagate through a medium. Although the\n",
            "absorption of waves does not usually depend on their intensity (linear\n",
            "absorption), in certain conditions (optics) the medium's transparency changes by\n",
            "a factor that varies as a function of wave intensity, and saturable absorption\n",
            "(or nonlinear absorption) occurs.\n",
            "Number of tokens: 124\n",
            "\n",
            "Title: Acrylate polymer\n",
            "URL: https://en.wikipedia.org/wiki/Acrylate_polymer\n",
            "Summary: An acrylate polymer (also known as acrylic or polyacrylate) is any of a group of\n",
            "polymers prepared from acrylate monomers. These plastics are noted for their\n",
            "transparency, resistance to breakage, and elasticity. Acrylate polymer is\n",
            "commonly used in cosmetics, such as nail polish, as an adhesive.\n",
            "Number of tokens: 55\n",
            "\n",
            "Title: Albedo\n",
            "URL: https://en.wikipedia.org/wiki/Albedo\n",
            "Summary: Albedo (  al-BEE-doh; from Latin  albedo 'whiteness') is the fraction of\n",
            "sunlight that is diffusely reflected by a body. It is measured on a scale from 0\n",
            "(corresponding to a black body that absorbs all incident radiation) to 1\n",
            "(corresponding to a body that reflects all incident radiation). Surface albedo\n",
            "is defined as the ratio of radiosity Je to the irradiance Ee (flux per unit\n",
            "area) received by a surface. The proportion reflected is not only determined by\n",
            "properties of the surface itself, but also by the spectral and angular\n",
            "distribution of solar radiation reaching the Earth's surface. These factors vary\n",
            "with atmospheric composition, geographic location, and time (see position of the\n",
            "Sun). While directional-hemispherical reflectance factor is calculated for a\n",
            "single angle of incidence (i.e., for a given position of the Sun), albedo is the\n",
            "directional integration of reflectance over all solar angles in a given period.\n",
            "The temporal resolution may range from seconds (as obtained from flux\n",
            "measurements) to daily, monthly, or annual averages. Unless given for a specific\n",
            "wavelength (spectral albedo), albedo refers to the entire spectrum of solar\n",
            "radiation. Due to measurement constraints, it is often given for the spectrum in\n",
            "which most solar energy reaches the surface (between 0.3 and 3 μm). This\n",
            "spectrum includes visible light (0.4–0.7 μm), which explains why surfaces with a\n",
            "low albedo appear dark (e.g., trees absorb most radiation), whereas surfaces\n",
            "with a high albedo appear bright (e.g., snow reflects most radiation).\n",
            "Ice–albedo feedback is a positive feedback climate process where a change in the\n",
            "area of ice caps, glaciers, and sea ice alters the albedo and surface\n",
            "temperature of a planet. Ice is very reflective, therefore it reflects far more\n",
            "solar energy back to space than the other types of land area or open water.\n",
            "Ice–albedo feedback plays an important role in global climate change. Albedo is\n",
            "an important concept in climate science.\n",
            "Number of tokens: 370\n",
            "\n",
            "Title: Albert Einstein\n",
            "URL: https://en.wikipedia.org/wiki/Albert_Einstein\n",
            "Summary: Albert Einstein (14 March 1879 – 18 April 1955) was a German-born theoretical\n",
            "physicist who is best known for developing the theory of relativity. Einstein\n",
            "also made important contributions to quantum mechanics. His mass–energy\n",
            "equivalence formula E = mc2, which arises from special relativity, has been\n",
            "called \"the world's most famous equation\". He received the 1921 Nobel Prize in\n",
            "Physics for his services to theoretical physics, and especially for his\n",
            "discovery of the law of the photoelectric effect. Born in the German Empire,\n",
            "Einstein moved to Switzerland in 1895, forsaking his German citizenship (as a\n",
            "subject of the Kingdom of Württemberg) the following year. In 1897, at the age\n",
            "of seventeen, he enrolled in the mathematics and physics teaching diploma\n",
            "program at the Swiss federal polytechnic school in Zurich, graduating in 1900.\n",
            "He acquired Swiss citizenship a year later, which he kept for the rest of his\n",
            "life, and afterwards secured a permanent position at the Swiss Patent Office in\n",
            "Bern. In 1905, he submitted a successful PhD dissertation to the University of\n",
            "Zurich. In 1914, he moved to Berlin to join the Prussian Academy of Sciences and\n",
            "the Humboldt University of Berlin, becoming director of the Kaiser Wilhelm\n",
            "Institute for Physics in 1917; he also became a German citizen again, this time\n",
            "as a subject of the Kingdom of Prussia. In 1933, while Einstein was visiting the\n",
            "United States, Adolf Hitler came to power in Germany. Horrified by the Nazi\n",
            "persecution of his fellow Jews, he decided to remain in the US, and was granted\n",
            "American citizenship in 1940. On the eve of World War II, he endorsed a letter\n",
            "to President Franklin D. Roosevelt alerting him to the potential German nuclear\n",
            "weapons program and recommending that the US begin similar research. In 1905,\n",
            "sometimes described as his annus mirabilis (miracle year), he published four\n",
            "groundbreaking papers. In them, he outlined a theory of the photoelectric\n",
            "effect, explained Brownian motion, introduced his special theory of relativity,\n",
            "and demonstrated that if the special theory is correct, mass and energy are\n",
            "equivalent to each other. In 1915, he proposed a general theory of relativity\n",
            "that extended his system of mechanics to incorporate gravitation. A cosmological\n",
            "paper that he published the following year laid out the implications of general\n",
            "relativity for the modeling of the structure and evolution of the universe as a\n",
            "whole. In 1917, Einstein wrote a paper which introduced the concepts of\n",
            "spontaneous emission and stimulated emission, the latter of which is the core\n",
            "mechanism behind the laser and maser, and which contained a trove of information\n",
            "that would be beneficial to developments in physics later on, such as quantum\n",
            "electrodynamics and quantum optics. In the middle part of his career, Einstein\n",
            "made important contributions to statistical mechanics and quantum theory.\n",
            "Especially notable was his work on the quantum physics of radiation, in which\n",
            "light consists of particles, subsequently called photons. With physicist\n",
            "Satyendra Nath Bose, he laid the groundwork for Bose–Einstein statistics. For\n",
            "much of the last phase of his academic life, Einstein worked on two endeavors\n",
            "that ultimately proved unsuccessful. First, he advocated against quantum\n",
            "theory's introduction of fundamental randomness into science's picture of the\n",
            "world, objecting that God does not play dice. Second, he attempted to devise a\n",
            "unified field theory by generalizing his geometric theory of gravitation to\n",
            "include electromagnetism. As a result, he became increasingly isolated from\n",
            "mainstream modern physics.\n",
            "Number of tokens: 642\n",
            "\n",
            "Title: Aleksandr Stoletov\n",
            "URL: https://en.wikipedia.org/wiki/Aleksandr_Stoletov\n",
            "Summary: Alexander Grigorievich Stoletov (Russian: Алекса́ндр Григо́рьевич Столе́тов; 10\n",
            "August 1839 – 27 May 1896) was a Russian physicist, founder of electrical\n",
            "engineering, and professor in Moscow University. He was the brother of general\n",
            "Nikolai Stoletov.\n",
            "Number of tokens: 43\n",
            "\n",
            "Title: Alkaline battery\n",
            "URL: https://en.wikipedia.org/wiki/Alkaline_battery\n",
            "Summary: An alkaline battery (IEC code: L) is a type of primary battery where the\n",
            "electrolyte (most commonly potassium hydroxide) has a pH value above 7.\n",
            "Typically, these batteries derive energy from the reaction between zinc metal\n",
            "and manganese dioxide. Compared with zinc–carbon batteries of the Leclanché cell\n",
            "or zinc chloride types, alkaline batteries have a higher energy density and\n",
            "longer shelf life yet provide the same voltage. The alkaline battery gets its\n",
            "name because it has an alkaline electrolyte of potassium hydroxide (KOH) instead\n",
            "of the acidic ammonium chloride (NH4Cl) or zinc chloride (ZnCl2) electrolyte of\n",
            "the zinc–carbon batteries. Other battery systems also use alkaline electrolytes,\n",
            "but they use different active materials for the electrodes. As of 2011, alkaline\n",
            "batteries accounted for 80% of manufactured batteries in the US and over 10\n",
            "billion individual units produced worldwide. In Japan, alkaline batteries\n",
            "accounted for 46% of all primary battery sales. In Switzerland, alkaline\n",
            "batteries accounted for 68%, in the UK 60% and in the EU 47% of all battery\n",
            "sales including secondary types.  Alkaline batteries contain zinc (Zn) and\n",
            "manganese dioxide (MnO2), which is a cumulative neurotoxin and can be toxic in\n",
            "higher concentrations. However, compared to other battery types, the toxicity of\n",
            "alkaline batteries is moderate. Alkaline batteries are used in many household\n",
            "items such as portable media players, digital cameras, toys, flashlights, and\n",
            "radios.\n",
            "Number of tokens: 270\n",
            "\n",
            "Title: Alternating current\n",
            "URL: https://en.wikipedia.org/wiki/Alternating_current\n",
            "Summary: Alternating current (AC) is an electric current that periodically reverses\n",
            "direction and changes its magnitude continuously with time, in contrast to\n",
            "direct current (DC), which flows only in one direction. Alternating current is\n",
            "the form in which electric power is delivered to businesses and residences, and\n",
            "it is the form of electrical energy that consumers typically use when they plug\n",
            "kitchen appliances, televisions, fans and electric lamps into a wall socket. The\n",
            "abbreviations AC and DC are often used to mean simply alternating and direct,\n",
            "respectively, as when they modify current or voltage. The usual waveform of\n",
            "alternating current in most electric power circuits is a sine wave, whose\n",
            "positive half-period corresponds with positive direction of the current and vice\n",
            "versa (the full period is called a cycle). \"Alternating current\" most commonly\n",
            "refers to power distribution, but a wide range of other applications are\n",
            "technically alternating current although it is less common to describe them by\n",
            "that term.   In many applications, like guitar amplifiers, different waveforms\n",
            "are used, such as triangular waves or square waves. Audio and radio signals\n",
            "carried on electrical wires are also examples of alternating current. These\n",
            "types of alternating current carry information such as sound (audio) or images\n",
            "(video) sometimes carried by modulation of an AC carrier signal. These currents\n",
            "typically alternate at higher frequencies than those used in power transmission.\n",
            "Number of tokens: 258\n",
            "\n",
            "Title: Aluminium–air battery\n",
            "URL: https://en.wikipedia.org/wiki/Aluminium%E2%80%93air_battery\n",
            "Summary: Aluminium–air batteries (Al–air batteries) produce electricity from the reaction\n",
            "of oxygen in the air with aluminium. They have one of the highest energy\n",
            "densities of all batteries, but they are not widely used because of problems\n",
            "with high anode cost and byproduct removal when using traditional electrolytes.\n",
            "This has restricted their use to mainly military applications. However, an\n",
            "electric vehicle with aluminium batteries has the potential for up to eight\n",
            "times the range of a lithium-ion battery with a significantly lower total\n",
            "weight. Aluminium–air batteries are primary cells, i.e., non-rechargeable. Once\n",
            "the aluminium anode is consumed by its reaction with atmospheric oxygen at a\n",
            "cathode immersed in a water-based electrolyte to form hydrated aluminium oxide,\n",
            "the battery will no longer produce electricity. However, it is possible to\n",
            "mechanically recharge the battery with new aluminium anodes made from recycling\n",
            "the hydrated aluminium oxide. Such recycling would be essential if aluminium–air\n",
            "batteries were to be widely adopted. Aluminium-powered vehicles have been under\n",
            "discussion for some decades. Hybridisation mitigates the costs, and in 1989 road\n",
            "tests of a hybridised aluminium–air/lead–acid battery in an electric vehicle\n",
            "were reported. An aluminium-powered plug-in hybrid minivan was demonstrated in\n",
            "Ontario in 1990. In March 2013, Phinergy released a video demonstration of an\n",
            "electric car using aluminium–air cells driven 330 km using a special cathode and\n",
            "potassium hydroxide. On May 27, 2013, the Israeli channel 10 evening news\n",
            "broadcast showed a car with Phinergy battery in the back, claiming 2,000\n",
            "kilometres (1,200 mi) range before replacement of the aluminium anodes is\n",
            "necessary.\n",
            "Number of tokens: 282\n",
            "\n"
          ]
        }
      ],
      "source": [
        "print(page.fullurl)\n",
        "\n",
        "# Get all the links on the page\n",
        "links = page.links\n",
        "print(f\"Number of links: {len(links)}\")\n",
        "\n",
        "# Print the first 10 link with a summary\n",
        "for i, (title, link) in enumerate(links.items()):\n",
        "    if i >= 10:\n",
        "        break\n",
        "    print(f\"Title: {title}\")\n",
        "    print(f\"URL: {link.fullurl}\")\n",
        "    print(f\"Summary: {textwrap.fill(link.summary, width=80)}\")\n",
        "    print(f\"Number of tokens: {nb_tokens(link.summary)}\")\n",
        "    print()"
      ]
    },
    {
      "cell_type": "markdown",
      "id": "e3f47e28",
      "metadata": {
        "id": "e3f47e28"
      },
      "source": [
        "### Writing the citations page and collecting the URLs"
      ]
    },
    {
      "cell_type": "code",
      "execution_count": 23,
      "id": "b9825556",
      "metadata": {
        "id": "b9825556"
      },
      "outputs": [
        {
          "name": "stderr",
          "output_type": "stream",
          "text": [
            "Processing links: 100%|██████████| 50/50 [01:26<00:00,  1.72s/it]\n"
          ]
        }
      ],
      "source": [
        "from datetime import datetime\n",
        "from tqdm import tqdm\n",
        "\n",
        "# Get all the links on the page\n",
        "links = page.links\n",
        "maxl = min(len(page.links), 50) # Maximum number of links to retrieve.\n",
        "\n",
        "# Prepare a file to store the outputs\n",
        "fname = filename + \"_citations.txt\"\n",
        "with open(fname, \"w\") as file:\n",
        "    # Write the citation header\n",
        "    file.write(f\"# Citations for {topic} in Wikipedia.\\n\")\n",
        "    file.write(\"Root page: \" + page.fullurl + \"\\n\\n\")\n",
        "    counter = 0\n",
        "    urls = []\n",
        "    urls.append(page.fullurl)\n",
        "\n",
        "    # Loop through the links and write the summary\n",
        "    for link in tqdm(list(links)[:maxl], desc=\"Processing links\"):\n",
        "        try:\n",
        "            counter += 1\n",
        "            page_detail = wikipedia.page(link)\n",
        "            summary = page_detail.summary\n",
        "            file.write(f\"## {counter}. {link}\\n\")\n",
        "            file.write(f\"URL: {page_detail.fullurl}\\n\")\n",
        "            file.write(f\"Summary: {textwrap.fill(summary, width=80)}\\n\")\n",
        "            file.write(\"\\n\")\n",
        "            urls.append(page_detail.fullurl)\n",
        "\n",
        "        except wikipedia.exceptions.PageError:\n",
        "            continue  # Skip if the page does not exist\n",
        "\n",
        "    # Write the footer with the date, time and metadata\n",
        "    file.write(f\"Total links processed: {counter}\\n\")\n",
        "    file.write(f\"Date and time: {datetime.now().strftime('%Y-%m-%d %H:%M:%S')}\\n\")"
      ]
    },
    {
      "cell_type": "code",
      "execution_count": 24,
      "id": "30cd3004",
      "metadata": {
        "colab": {
          "base_uri": "https://localhost:8080/"
        },
        "id": "30cd3004",
        "outputId": "8ada9ef3-3b1a-4c6c-dac8-e0b417f395ff"
      },
      "outputs": [
        {
          "name": "stdout",
          "output_type": "stream",
          "text": [
            "Read URLs:\n",
            "https://en.wikipedia.org/wiki/Solar_cell\n",
            "https://en.wikipedia.org/wiki/1973_oil_crisis\n",
            "https://en.wikipedia.org/wiki/ARCO\n",
            "https://en.wikipedia.org/wiki/Absorption_(electromagnetic_radiation)\n",
            "https://en.wikipedia.org/wiki/Acrylate_polymer\n",
            "https://en.wikipedia.org/wiki/Albedo\n",
            "https://en.wikipedia.org/wiki/Albert_Einstein\n",
            "https://en.wikipedia.org/wiki/Aleksandr_Stoletov\n",
            "https://en.wikipedia.org/wiki/Alkaline_battery\n",
            "https://en.wikipedia.org/wiki/Alternating_current\n",
            "https://en.wikipedia.org/wiki/Aluminium%E2%80%93air_battery\n",
            "https://en.wikipedia.org/wiki/American_Solar_Challenge\n",
            "https://en.wikipedia.org/wiki/Amorphous_silicon\n",
            "https://en.wikipedia.org/wiki/Ion\n",
            "https://en.wikipedia.org/wiki/Anita_Ho-Baillie\n",
            "https://en.wikipedia.org/wiki/Anode\n",
            "https://en.wikipedia.org/wiki/Anomalous_photovoltaic_effect\n",
            "https://en.wikipedia.org/wiki/Anti-reflective_coating\n",
            "https://en.wikipedia.org/wiki/Antonio_Luque\n",
            "https://en.wikipedia.org/wiki/ArXiv\n",
            "https://en.wikipedia.org/wiki/Atmospheric_pressure\n",
            "https://en.wikipedia.org/wiki/Atomic_battery\n",
            "https://en.wikipedia.org/wiki/Automotive_battery\n",
            "https://en.wikipedia.org/wiki/Autonomous_building\n",
            "https://en.wikipedia.org/wiki/Balance_of_system\n",
            "https://en.wikipedia.org/wiki/Band_gap\n",
            "https://en.wikipedia.org/wiki/Band_gap\n",
            "https://en.wikipedia.org/wiki/Bayer\n",
            "https://en.wikipedia.org/wiki/Bell_Labs\n",
            "https://en.wikipedia.org/wiki/Bibcode\n",
            "https://en.wikipedia.org/wiki/Bifacial_solar_cells\n",
            "https://en.wikipedia.org/wiki/Binder_(material)\n",
            "https://en.wikipedia.org/wiki/Black_silicon\n",
            "https://en.wikipedia.org/wiki/Copolymer\n",
            "https://en.wikipedia.org/wiki/Boeing_X-37\n",
            "https://en.wikipedia.org/wiki/Boron\n",
            "https://en.wikipedia.org/wiki/Boule_(crystal)\n",
            "https://en.wikipedia.org/wiki/Bound_state\n",
            "https://en.wikipedia.org/wiki/Building-integrated_photovoltaics\n",
            "https://en.wikipedia.org/wiki/Building-integrated_photovoltaics\n",
            "https://en.wikipedia.org/wiki/Bunsen_cell\n",
            "https://en.wikipedia.org/wiki/Buoy\n",
            "https://en.wikipedia.org/wiki/Busbar\n",
            "https://en.wikipedia.org/wiki/Cadmium\n",
            "https://en.wikipedia.org/wiki/Cadmium_selenide\n",
            "https://en.wikipedia.org/wiki/Cadmium_sulfide\n",
            "https://en.wikipedia.org/wiki/Cadmium_telluride\n",
            "https://en.wikipedia.org/wiki/Cadmium_telluride_photovoltaics\n",
            "https://en.wikipedia.org/wiki/California\n",
            "https://en.wikipedia.org/wiki/California_NanoSystems_Institute\n",
            "https://en.wikipedia.org/wiki/Calvin_Souther_Fuller\n"
          ]
        }
      ],
      "source": [
        "# Write URLs to a file\n",
        "ufname = filename + \"_urls.txt\"\n",
        "with open(ufname, \"w\") as file:\n",
        "    for url in urls:\n",
        "        file.write(url + \"\\n\")\n",
        "# Read URLs from the file\n",
        "with open(ufname, \"r\") as file:\n",
        "    urls = [line.strip() for line in file]\n",
        "print(\"Read URLs:\")\n",
        "for url in urls:\n",
        "    print(url)"
      ]
    }
  ],
  "metadata": {
    "colab": {
      "include_colab_link": true,
      "provenance": []
    },
    "kernelspec": {
      "display_name": ".venv",
      "language": "python",
      "name": "python3"
    },
    "language_info": {
      "codemirror_mode": {
        "name": "ipython",
        "version": 3
      },
      "file_extension": ".py",
      "mimetype": "text/x-python",
      "name": "python",
      "nbconvert_exporter": "python",
      "pygments_lexer": "ipython3",
      "version": "3.13.4"
    }
  },
  "nbformat": 4,
  "nbformat_minor": 5
}
