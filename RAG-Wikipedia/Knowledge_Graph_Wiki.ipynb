{
 "cells": [
  {
   "cell_type": "markdown",
   "id": "01d0a07d",
   "metadata": {},
   "source": [
    "## Setting up the environment"
   ]
  },
  {
   "cell_type": "code",
   "execution_count": 32,
   "id": "7023b58e",
   "metadata": {},
   "outputs": [
    {
     "name": "stdout",
     "output_type": "stream",
     "text": [
      "[0.0731334239244461, 0.07449399679899216, -0.003810458118095994, -0.024098584428429604, -0.02073613367974758]\n"
     ]
    }
   ],
   "source": [
    "import os\n",
    "from dotenv import load_dotenv\n",
    "load_dotenv()\n",
    "\n",
    "# Setup embedding model\n",
    "from llama_index.core import Settings\n",
    "\n",
    "# Use local embedding models served by LM Studio\n",
    "# Use fake API key (LM Studio doesn't validate it)\n",
    "from llama_index.embeddings.openai import OpenAIEmbedding\n",
    "embed_model = OpenAIEmbedding(\n",
    "    api_base = os.getenv(\"LM_STUDIO_API_BASE\"),\n",
    "    api_key = \"whatever-it-is\",\n",
    "    model_name = os.getenv(\"LM_STUDIO_EMBED_MODEL\"),\n",
    "    embed_batch_size = 2\n",
    ")\n",
    "\n",
    "# Embedding model verification\n",
    "Settings.embed_model = embed_model\n",
    "embed = embed_model.get_text_embedding(\"The quick brown fox jumps over the lazy dog.\")\n",
    "print(embed[:5])  # Should print a list of floats"
   ]
  },
  {
   "cell_type": "code",
   "execution_count": 33,
   "id": "9f112655",
   "metadata": {},
   "outputs": [
    {
     "name": "stdout",
     "output_type": "stream",
     "text": [
      "我是一个致力于提供帮助的人工智能助手。\n"
     ]
    }
   ],
   "source": [
    "# 使用智谱免费模型，提取节点关系\n",
    "from llama_index.llms.zhipuai import ZhipuAI\n",
    "llm_extraction = ZhipuAI(\n",
    "    api_key=os.getenv(\"ZHIPU_API_KEY\"),\n",
    "    model=os.getenv(\"ZHIPU_LLM_MODEL_NAME\")\n",
    ")\n",
    "Settings.llm = llm_extraction\n",
    "\n",
    "# Verify the LLM\n",
    "print(llm_extraction.complete(\"\\nBriefly introduce yourself in 50 Chinese characters.\"))"
   ]
  },
  {
   "cell_type": "markdown",
   "id": "56910fb2",
   "metadata": {},
   "source": [
    "## Pipeline 1: Collecting & preparing the documents"
   ]
  },
  {
   "cell_type": "code",
   "execution_count": 34,
   "id": "fb21713c",
   "metadata": {},
   "outputs": [
    {
     "name": "stdout",
     "output_type": "stream",
     "text": [
      "Doc ID: 39303fef-98aa-417d-a446-12b26225c155\n",
      "Text: Title: Aleksandr Stoletov  URL:\n",
      "https://en.wikipedia.org/wiki/Aleksandr_Stoletov  Content: Alexander\n",
      "Grigorievich Stoletov (Russian: Алекса́ндр Григо́рьевич Столе́тов; 10\n",
      "August 1839 – 27 May 1896) was a Russian physicist, founder of\n",
      "electrical engineering, and professor in Moscow University. He was the\n",
      "brother of general Nikolai Stoletov.  Biog...\n"
     ]
    }
   ],
   "source": [
    "from llama_index.core import SimpleDirectoryReader\n",
    "\n",
    "# Load documents\n",
    "documents = SimpleDirectoryReader(\"./documents\").load_data()\n",
    "print(documents[7])"
   ]
  },
  {
   "cell_type": "markdown",
   "id": "a3b45ef8",
   "metadata": {},
   "source": [
    "## Pipeline 2: Creating vector store"
   ]
  },
  {
   "cell_type": "code",
   "execution_count": 4,
   "id": "eceedf6d",
   "metadata": {},
   "outputs": [
    {
     "name": "stdout",
     "output_type": "stream",
     "text": [
      "Uploading data to deeplake dataset.\n"
     ]
    },
    {
     "name": "stderr",
     "output_type": "stream",
     "text": [
      "100%|██████████| 700/700 [00:01<00:00, 631.32it/s]\n"
     ]
    },
    {
     "name": "stdout",
     "output_type": "stream",
     "text": [
      "Dataset(path='./dataset/vector_storage', tensors=['text', 'metadata', 'embedding', 'id'])\n",
      "\n",
      "  tensor      htype       shape      dtype  compression\n",
      "  -------    -------     -------    -------  ------- \n",
      "   text       text      (2748, 1)     str     None   \n",
      " metadata     json      (2748, 1)     str     None   \n",
      " embedding  embedding  (2748, 768)  float32   None   \n",
      "    id        text      (2748, 1)     str     None   \n"
     ]
    },
    {
     "name": "stderr",
     "output_type": "stream",
     "text": []
    }
   ],
   "source": [
    "from llama_index.vector_stores.deeplake import DeepLakeVectorStore\n",
    "from llama_index.core import StorageContext, VectorStoreIndex\n",
    "\n",
    "# Path for vector store and dataset\n",
    "vector_dataset = \"./dataset/vector_storage\" # local storage\n",
    "vector_store_path = vector_dataset\n",
    "dataset_path = vector_dataset\n",
    "\n",
    "# Create an index over the documents\n",
    "# Overwrites the existing dataset if True\n",
    "ow = True\n",
    "\n",
    "if ow==True:\n",
    "    try:\n",
    "        vector_store = DeepLakeVectorStore(dataset_path=dataset_path, overwrite=ow)\n",
    "        storage_context = StorageContext.from_defaults(vector_store=vector_store)\n",
    "        index = VectorStoreIndex.from_documents(documents, storage_context, show_progress=True)\n",
    "    except Exception as e:\n",
    "        print(f\"An error occurred: {e}\")\n",
    "        print(f\"Error type: {type(e)}\")\n",
    "        print(f\"Error traceback: {e.__traceback__}\")"
   ]
  },
  {
   "cell_type": "code",
   "execution_count": 5,
   "id": "26b9c9c6",
   "metadata": {},
   "outputs": [
    {
     "name": "stdout",
     "output_type": "stream",
     "text": [
      "./dataset/vector_storage loaded successfully.\n",
      "\n"
     ]
    },
    {
     "name": "stderr",
     "output_type": "stream",
     "text": []
    },
    {
     "name": "stdout",
     "output_type": "stream",
     "text": [
      "Dataset(path='./dataset/vector_storage', tensors=['embedding', 'id', 'metadata', 'text'])\n",
      "\n",
      "  tensor      htype       shape      dtype  compression\n",
      "  -------    -------     -------    -------  ------- \n",
      " embedding  embedding  (2748, 768)  float32   None   \n",
      "    id        text      (2748, 1)     str     None   \n",
      " metadata     json      (2748, 1)     str     None   \n",
      "   text       text      (2748, 1)     str     None   \n"
     ]
    }
   ],
   "source": [
    "import deeplake\n",
    "import pandas as pd\n",
    "import numpy as np\n",
    "\n",
    "# Create a dictionary to hold the data\n",
    "data = {}\n",
    "\n",
    "# Load vector store data\n",
    "ds = deeplake.load(dataset_path)\n",
    "ds.summary()\n",
    "\n",
    "# Iterate through the tensors in the dataset\n",
    "for tensor_name in ds.tensors:\n",
    "    tensor_data = ds[tensor_name].numpy()\n",
    "\n",
    "    # Check if the tensor is multi-dimensional\n",
    "    if tensor_data.ndim > 1:\n",
    "        # Flatten multi-dimensional tensors\n",
    "        data[tensor_name] = [np.array(e).flatten().tolist() for e in tensor_data]\n",
    "    else:\n",
    "        # Convert 1D tensors directly to lists and decode text\n",
    "        if tensor_name == \"text\":\n",
    "            data[tensor_name] = [t.tobytes().decode('utf-8') if t else \"\" for t in tensor_data]\n",
    "        else:\n",
    "            data[tensor_name] = tensor_data.tolist()\n",
    "\n",
    "# Create a Pandas DataFrame from the dictionary\n",
    "df = pd.DataFrame(data)"
   ]
  },
  {
   "cell_type": "code",
   "execution_count": 6,
   "id": "21fd6452",
   "metadata": {},
   "outputs": [
    {
     "name": "stdout",
     "output_type": "stream",
     "text": [
      "ID:\n",
      "['bf84f0ca-85ca-4e05-9bb7-dd004c1b877c']\n",
      "\n",
      "Metadata:\n",
      "file_path: /home/ongin/github/RAG-pR/RAG-Wikipedia/documents/Absorption_electromagnetic_radiation.txt\n",
      "file_name: Absorption_electromagnetic_radiation.txt\n",
      "file_type: text/plain\n",
      "file_size: 5392\n",
      "creation_date: 2025-06-12\n",
      "last_modified_date: 2025-06-12\n",
      "_node_content: {\"id_\": \"bf84f0ca-85ca-4e05-9bb7-dd004c1b877c\", \"embedding\": null, \"metadata\": {\"file_path\": \"/home/ongin/github/RAG-pR/RAG-Wikipedia/documents/Absorption_electromagnetic_radiation.txt\", \"file_name\": \"Absorption_electromagnetic_radiation.txt\", \"file_type\": \"text/plain\", \"file_size\": 5392, \"creation_date\": \"2025-06-12\", \"last_modified_date\": \"2025-06-12\"}, \"excluded_embed_metadata_keys\": [\"file_name\", \"file_type\", \"file_size\", \"creation_date\", \"last_modified_date\", \"last_accessed_date\"], \"excluded_llm_metadata_keys\": [\"file_name\", \"file_type\", \"file_size\", \"creation_date\", \"last_modified_date\", \"last_accessed_date\"], \"relationships\": {\"1\": {\"node_id\": \"74a7f798-7083-4995-b78f-9f43dc051692\", \"node_type\": \"4\", \"metadata\": {\"file_path\": \"/home/ongin/github/RAG-pR/RAG-Wikipedia/documents/Absorption_electromagnetic_radiation.txt\", \"file_name\": \"Absorption_electromagnetic_radiation.txt\", \"file_type\": \"text/plain\", \"file_size\": 5392, \"creation_date\": \"2025-06-12\", \"last_modified_date\": \"2025-06-12\"}, \"hash\": \"38c5ae738bf9104430fe26372e205a9e3a98480409b46abfccfe1445fb6ccc25\", \"class_name\": \"RelatedNodeInfo\"}, \"2\": {\"node_id\": \"406f1ead-aa84-41da-bec5-6369b7641f53\", \"node_type\": \"1\", \"metadata\": {\"file_path\": \"/home/ongin/github/RAG-pR/RAG-Wikipedia/documents/Absorption_electromagnetic_radiation.txt\", \"file_name\": \"Absorption_electromagnetic_radiation.txt\", \"file_type\": \"text/plain\", \"file_size\": 5392, \"creation_date\": \"2025-06-12\", \"last_modified_date\": \"2025-06-12\"}, \"hash\": \"029f257a5c347883e9fd4cb28a858d60923bd918c2de79c5beac53eb90f3015d\", \"class_name\": \"RelatedNodeInfo\"}}, \"metadata_template\": \"{key}: {value}\", \"metadata_separator\": \"\\n\", \"text\": \"In scientific literature is known a system of mirrors and lenses that with a laser \\\"can enable any material to absorb all light from a wide range of angles.\\\"\\n\\nSee also\\nAbsorption spectroscopy\\nAlbedo\\nAttenuation\\nElectromagnetic absorption by water\\nHydroxyl ion absorption\\nOptoelectronics\\nPhotoelectric effect\\nPhotosynthesis\\nPhysical crystallography before X-rays\\nSolar cell\\nSpectral line\\nTotal absorption spectroscopy\\nUltraviolet-visible spectroscopy\\n\\nReferences\\n\\nThomas, Michael E. (January 2006). Optical Propagation in Linear Media: Atmospheric Gases and Particles, Solid-State Components, and Water. Oxford University Press, USA. pp. 3... (Chapter 1, 2, 7). Bibcode:2006oplm.book.....T. ISBN 978-0-19-509161-8. {{cite book}}: |journal= ignored (help)\\nProfHoff, Ken Mellendorf; Vince Calder (November 2010). \\\"Reflection and Absorption\\\". Physics Archive - Ask a scientist. Argonne National Laboratory. Archived from the original on 2010-11-21. Retrieved 2010-11-14.\", \"mimetype\": \"text/plain\", \"start_char_idx\": 4417, \"end_char_idx\": 5383, \"metadata_seperator\": \"\\n\", \"text_template\": \"{metadata_str}\\n\\n{content}\", \"class_name\": \"TextNode\"}\n",
      "_node_type: TextNode\n",
      "document_id: 74a7f798-7083-4995-b78f-9f43dc051692\n",
      "doc_id: 74a7f798-7083-4995-b78f-9f43dc051692\n",
      "ref_doc_id: 74a7f798-7083-4995-b78f-9f43dc051692\n",
      "\n",
      "\n",
      "Text:\n",
      "['In scientific literature is known a system of mirrors and lenses that with a laser \"can enable any material to absorb all light from a wide range of angles.\"\\n\\nSee also\\nAbsorption spectroscopy\\nAlbedo\\nAttenuation\\nElectromagnetic absorption by water\\nHydroxyl ion absorption\\nOptoelectronics\\nPhotoelectric effect\\nPhotosynthesis\\nPhysical crystallography before X-rays\\nSolar cell\\nSpectral line\\nTotal absorption spectroscopy\\nUltraviolet-visible spectroscopy\\n\\nReferences\\n\\nThomas, Michael E. (January 2006). Optical Propagation in Linear Media: Atmospheric Gases and Particles, Solid-State Components, and Water. Oxford University Press, USA. pp. 3... (Chapter 1, 2, 7). Bibcode:2006oplm.book.....T. ISBN 978-0-19-509161-8. {{cite book}}: |journal= ignored (help)\\nProfHoff, Ken Mellendorf; Vince Calder (November 2010). \"Reflection and Absorption\". Physics Archive - Ask a scientist. Argonne National Laboratory. Archived from the original on 2010-11-21. Retrieved 2010-11-14.']\n",
      "\n",
      "Embedding:\n",
      "[-0.04438262805342674, -0.008708024397492409, -0.024409260600805283, -0.007352099753916264, 0.00625360244885087, 0.00523722730576992, 0.04469722509384155, 0.02141161635518074, 0.0405334010720253, 0.0720524787902832, -0.014337454922497272, -0.030879434198141098, -0.010796704329550266, 0.04302239045500755, 0.028592221438884735, -0.05584388226270676, 0.011754936538636684, -0.026253746822476387, 0.05213117599487305, -0.024402737617492676, 0.006825816351920366, -0.019269030541181564, -0.040432386100292206, -0.07574066519737244, -0.09740868210792542, -0.010553012602031231, -0.02852643094956875, 0.01574983447790146, -0.014389379881322384, 0.023906296119093895, -0.014670785516500473, -0.0816667377948761, 0.016699492931365967, 0.08422628790140152, 0.005080142989754677, -0.004857981577515602, 0.012640283443033695, -0.00910867378115654, 0.050404567271471024, 0.059950485825538635, 0.005816745106130838, 0.04372275620698929, -0.036991626024246216, 0.024928467348217964, 0.04498552158474922, 0.06318116188049316, -0.010720163583755493, 0.010253977961838245, -0.033851273357868195, 0.06540682911872864, 0.0190868116915226, -0.029977068305015564, -0.007364891469478607, 0.013741210103034973, -0.017242709174752235, -0.016037432476878166, -0.035896968096494675, 0.017905190587043762, 0.0414828322827816, -0.04428742080926895, 0.009952699765563011, 0.0030573869589716196, 0.09227415174245834, 0.04214532673358917, -0.02700243890285492, 0.012319565750658512, 0.02563600242137909, -0.02676990069448948, -0.025386082008481026, 0.031500350683927536, -0.04299969971179962, -0.005998886656016111, 0.016439802944660187, -0.02570435032248497, -0.008796771056950092, -0.038232073187828064, 0.014257121831178665, 0.028589189052581787, -0.022280864417552948, -0.014130407944321632, -0.07698168605566025, -0.036352287977933884, -0.022432930767536163, 0.005706503987312317, 0.0059201158583164215, 0.03825068101286888, 0.0007160163368098438, 0.014140618033707142, -0.09310495108366013, 0.022306939586997032, -0.0016940566711127758, 0.028387678787112236, 0.0625491738319397, 0.08300477266311646, 0.0027479310519993305, 0.015529394149780273, -0.06439720094203949, 0.0053009516559541225, -0.0036734475288540125, 0.04221147298812866, -0.039874155074357986, 0.027472930029034615, -0.13529008626937866, -0.02533634379506111, -0.023674441501498222, 0.022750800475478172, -0.03974805399775505, -0.0128096304833889, 0.034065112471580505, -0.05741036683320999, -0.05438980460166931, -0.05435525253415108, -0.006239634472876787, 0.06921734660863876, 0.018950926139950752, -0.01885923370718956, -0.004972694907337427, -0.05249561741948128, 0.021752148866653442, 0.035340815782547, 0.04880208894610405, 0.04775457829236984, -0.025271302089095116, -0.008266076445579529, -0.02156706526875496, -0.034094203263521194, -0.04617121070623398, -0.015739763155579567, 0.017499109730124474, -0.008257497102022171, 0.01288214698433876, -0.03781592473387718, -0.05152522400021553, -0.05450814962387085, 0.020857786759734154, -0.02533857896924019, -0.001891639083623886, 0.021337565034627914, -0.048395898193120956, 0.022461481392383575, -0.03692379593849182, -0.016206564381718636, 0.02144962176680565, -0.08956077694892883, -0.015948552638292313, -0.049304042011499405, -0.025204917415976524, 0.06967893242835999, 0.019523195922374725, 0.0036519521381706, -0.01434626616537571, 0.021709315478801727, -0.02824648655951023, 0.006946215871721506, -0.006467313971370459, 0.006941399537026882, -0.11439721286296844, 0.046432092785835266, 0.02761727198958397, -0.05480733513832092, 0.055638670921325684, 0.07461830973625183, 0.001605459488928318, 0.005634009838104248, 0.0605863556265831, -0.014226381666958332, -0.0462815947830677, -0.002837743842974305, 0.007300559431314468, -0.018412113189697266, 0.057416390627622604, -0.027205150574445724, -0.004885480273514986, -0.0239381343126297, 0.05621137097477913, 0.029155397787690163, 0.0433228425681591, 0.030111441388726234, 0.04476876184344292, 0.021055441349744797, -0.039578117430210114, -0.01840301603078842, -0.03612060099840164, 0.000683434889651835, 0.03216235339641571, -0.0860992893576622, 0.022343141958117485, 0.022980783134698868, 0.014777064323425293, -0.010085446760058403, 0.009913298301398754, 0.019927101209759712, 0.006276372354477644, -0.02184579148888588, -0.020881304517388344, -0.00023269005760084838, -0.05466661602258682, 0.06078094616532326, 0.012908759526908398, -0.012975163757801056, 0.021999021992087364, -0.014029953628778458, -0.04623299464583397, 0.01903386227786541, 0.08811798691749573, 0.01644117943942547, -0.08480477333068848, -0.010202163830399513, -0.08440028131008148, 0.010776732116937637, -0.05550762638449669, -0.03838009759783745, -0.06430378556251526, 0.018058236688375473, 0.0682184100151062, 0.047046855092048645, 0.07141518592834473, 0.006703794933855534, 0.030413413420319557, 0.006552564445883036, -0.06995614618062973, -0.06205882504582405, 0.03802552819252014, 0.013350274413824081, 0.01488566305488348, 2.369204958085902e-05, 0.03644857928156853, 0.036487605422735214, -0.023510491475462914, -0.02587469108402729, -0.011710998602211475, -0.009048526175320148, -0.02450616843998432, 0.022482773289084435, 0.013912864960730076, 0.05587606504559517, 0.05472363531589508, 0.0012882594019174576, -0.037074241787195206, -0.03877153620123863, 0.0441715233027935, -0.04758301377296448, -0.05604555457830429, -0.016731062904000282, 0.019670922309160233, -0.06645921617746353, -0.0014225576305761933, -0.043077532202005386, 0.006578371860086918, -0.020985018461942673, -0.011247294023633003, 0.020090647041797638, -0.014681389555335045, -0.007940721698105335, -0.051021888852119446, 0.044313084334135056, 0.0947321355342865, 0.032832060009241104, 0.019553907215595245, -0.06333696842193604, 0.027473028749227524, -0.02222595177590847, 0.023073740303516388, 0.07444820553064346, 0.046013835817575455, -0.044297534972429276, -0.017701592296361923, -0.061047207564115524, -0.014761019498109818, 0.017976926639676094, -0.007358759641647339, 0.01947048492729664, -0.061061084270477295, -0.011088045313954353, -0.0031092402059584856, 0.04981154203414917, 0.01590748317539692, 0.050237830728292465, 0.04465995356440544, -0.08764225244522095, -0.06177579239010811, 0.05250043421983719, 0.046684764325618744, -0.0076329209841787815, -0.039017170667648315, 0.07161861658096313, 0.019503671675920486, -0.024697842076420784, 0.006470589432865381, -0.024534033611416817, 0.04014003276824951, 0.0016918930923566222, 0.0163564532995224, -0.022909782826900482, -0.011034426279366016, 0.023776711896061897, -0.0016705940943211317, -0.008688950911164284, 0.04279167577624321, -0.03942709416151047, -0.02791036106646061, 0.027654895558953285, -0.0005003642290830612, -0.024523871019482613, 0.03493550047278404, 0.015885040163993835, 0.012593243271112442, -0.05778752639889717, -0.01743934489786625, 0.010320371948182583, -0.04184238612651825, 0.07601740956306458, 0.027270976454019547, -0.029505662620067596, 0.030415117740631104, 0.020979125052690506, 0.04731689766049385, 0.011172102764248848, 0.07014351338148117, 0.0398407019674778, -0.00910964235663414, -0.01614443212747574, -0.013739952817559242, 0.0063190399669110775, -0.014130722731351852, 0.044667068868875504, -0.020133107900619507, 0.03182931989431381, -0.002520442008972168, 0.07142671942710876, -0.02266339585185051, 0.08138857781887054, 0.05681406334042549, 0.05860891565680504, 0.010562143288552761, -0.0358877032995224, 0.015090585686266422, 0.008279569447040558, -0.020907536149024963, -0.002247850876301527, -0.03690647333860397, -0.05066479742527008, -0.08046824485063553, 0.008279901929199696, 0.027448710054159164, -0.022395635023713112, -0.00445362227037549, -0.03001229092478752, 0.03172493353486061, 0.03935060277581215, 0.018046822398900986, -0.02785761095583439, -0.0052197338081896305, 0.015158788301050663, -0.00990842655301094, 0.039679694920778275, -0.003730465890839696, -0.008209159597754478, 0.03405440226197243, 0.02689540758728981, -0.06468430906534195, 0.001947939395904541, 0.022324997931718826, -0.003951279446482658, -0.03962740674614906, 0.0015907140914350748, 0.05413948744535446, 0.013553916476666927, -0.006379280239343643, 0.052364617586135864, -0.045378945767879486, 0.12953495979309082, -0.0531482920050621, 0.006758151110261679, -0.04603341966867447, -0.022207727655768394, -0.04355825483798981, 0.02382083795964718, 0.005806382745504379, 0.008932824246585369, 0.04946025833487511, 0.02961575612425804, 0.07271865010261536, -0.04959200695157051, 0.005070865619927645, 9.220558422384784e-05, 0.040078990161418915, -0.011196288280189037, 0.010950068011879921, -0.024447308853268623, -0.007766402792185545, 0.024835651740431786, -0.018058735877275467, -0.003908124286681414, 0.0051731448620557785, 0.04101681709289551, 0.0066808066330850124, 0.00962909497320652, 0.004945425782352686, 0.01339133083820343, -0.04645533487200737, -0.027972135692834854, -0.00427255779504776, 0.02797711454331875, 0.03999120369553566, 0.005636234767735004, -0.002646008040755987, -0.011960924603044987, -0.0008848644210956991, -0.002091010333970189, 0.034223057329654694, -0.02408747747540474, 0.010958082042634487, 0.06387747079133987, -0.025035543367266655, -0.06304056942462921, -0.061779674142599106, 0.05078621953725815, 0.016824815422296524, -0.04247237369418144, 0.03720976412296295, 0.014230537228286266, -0.03256351128220558, -0.024671340361237526, 0.028423674404621124, -0.010341986082494259, -0.021363021805882454, 0.06606153398752213, 0.044663675129413605, -0.027270566672086716, -0.00611058808863163, -0.05263202264904976, 0.011356284841895103, 0.049256715923547745, -0.06375160813331604, -0.07175782322883606, 0.030439211055636406, -0.02400994300842285, 0.036273371428251266, 0.016259966418147087, 0.03990862891077995, 0.02367567829787731, -0.019687164574861526, -0.0145301204174757, -0.019513636827468872, 0.01239778846502304, 0.043072111904621124, 0.007638614159077406, -0.00022751490178052336, 0.01747197099030018, 0.013389244675636292, -0.031221145763993263, -0.01555897481739521, 0.009868505410850048, -0.05285150185227394, 0.04340279847383499, 0.04119834303855896, -0.0062365843914449215, -0.04532972723245621, -0.028082121163606644, 0.042505376040935516, 0.03459581732749939, -0.0073955366387963295, -0.008990638889372349, -0.0011927138548344374, -0.03409682959318161, -0.007848151959478855, 0.022997351363301277, -0.0434287004172802, -0.04232421889901161, 0.003876812756061554, -0.0029208522755652666, -0.012398447841405869, 0.008241516537964344, -0.008565633557736874, -0.011381314136087894, -0.014803352765738964, -0.005705568939447403, 0.02425583079457283, 0.008151317946612835, 0.003140456508845091, -0.027649367228150368, 0.013783156871795654, 0.1176808774471283, 0.028895677998661995, 0.066287100315094, 0.05206499621272087, -0.05120854824781418, 0.029453491792082787, 0.035935744643211365, 0.05022409185767174, -0.05546710267663002, -0.008951474912464619, -0.008944648317992687, -0.011302364990115166, 0.03457215800881386, -0.0008625080226920545, -0.03481980040669441, 0.03079797327518463, 0.032383982092142105, -0.07175365835428238, -0.01895485259592533, -0.08304902166128159, -0.03807789087295532, -0.04072563722729683, 0.034353483468294144, -0.0390787236392498, -0.004630164243280888, 0.0619601309299469, 0.010184048675000668, 0.011724554002285004, -0.07059894502162933, -0.00014004686090629548, -0.03800881281495094, 0.05974508449435234, 0.025797823444008827, -0.03084547072649002, -0.02963842637836933, 0.01846892572939396, -0.024797961115837097, 0.016530117020010948, 0.04065144434571266, -0.03667246922850609, -0.010096224024891853, -0.019984852522611618, -0.009462681598961353, 0.01654518023133278, -0.02513042651116848, 0.009051033295691013, -0.031969696283340454, 0.020930053666234016, -0.007249235175549984, 0.05334160104393959, 0.033636946231126785, 0.06172003224492073, -0.014222565107047558, -0.010572979226708412, 0.02371668443083763, -0.002471132669597864, 0.055257610976696014, -0.025622837245464325, -0.025355307385325432, -0.008581670932471752, -0.01262772735208273, -0.021313568577170372, -0.047013599425554276, -0.020346302539110184, -0.010000605136156082, -0.0032581868581473827, -0.013751687481999397, -0.023179156705737114, -0.0195105392485857, 0.0026202204171568155, -0.03884409740567207, -0.035000018775463104, -0.0321766659617424, 0.024318506941199303, 0.02613670751452446, 0.02282947115600109, 0.04446163401007652, -0.020817367359995842, 0.003954226616770029, -0.013418139889836311, -0.011792682111263275, -0.015186738222837448, 0.02092607505619526, -0.04751860722899437, 0.016980456188321114, -0.0060074664652347565, 0.024020925164222717, 0.031076371669769287, 0.022953849285840988, 0.006071555893868208, 0.03890610858798027, -0.06222228333353996, -0.05274220183491707, -0.020074190571904182, 0.018679462373256683, 0.013640698045492172, -0.03381214290857315, 0.0014840802177786827, 0.014783446677029133, -0.013750816695392132, 0.01664893515408039, 0.005275842268019915, -0.057383716106414795, 0.05744126811623573, -0.03757433965802193, -0.017078397795557976, 0.062367018312215805, -0.02756797894835472, -0.03018205426633358, -0.021421758458018303, -0.02428746223449707, 0.009100263006985188, 0.02382543683052063, -0.07076677680015564, -0.010170765221118927, 0.04292064532637596, 0.003995685838162899, -0.05879950895905495, 0.056108828634023666, 0.03390488773584366, 0.0026488821022212505, 0.014283875934779644, 0.014448998495936394, -0.009864593856036663, 0.025306669995188713, -0.04732838273048401, -0.011897674761712551, -0.03201057389378548, 0.03604273125529289, -0.02951943129301071, -0.015555656515061855, 0.009331348352134228, 0.010224085301160812, 0.013087832368910313, 0.005182797554880381, 0.029794445261359215, 0.008621500805020332, -0.0004915118333883584, 0.033205296844244, 0.006488383747637272, 0.044557392597198486, -0.004473713226616383, -0.008655431680381298, -0.023722324520349503, -0.03168526291847229, -0.027947712689638138, -0.020299391821026802, -0.015029549598693848, -0.019843634217977524, -0.0697128176689148, 0.0019689504988491535, 0.05987851694226265, -0.05148176848888397, -0.038905009627342224, 0.006779613438993692, -0.007438021712005138, -0.06906887888908386, -0.01303609274327755, -0.00552899856120348, 0.02641729824244976, 0.03837178274989128, -0.07277413457632065, -0.033452846109867096, -0.024181457236409187, 0.032781317830085754, -0.023372741416096687, -0.06115050986409187, 0.031940508633852005, 0.019627364352345467, -0.04593219608068466, -0.0435297004878521, 0.026807337999343872, -0.0047676037065684795, 0.014105631038546562, 0.051561515778303146, -0.019616128876805305, -0.009831922128796577, 0.03839360922574997, 0.012322204187512398, -0.06987814605236053, 0.009140064008533955, 0.01989763230085373, 0.02759620174765587, 0.03805771470069885, -0.021680088713765144, 0.06704090535640717, -0.02750757336616516, -0.03916613757610321, 0.011888490058481693, 0.04133354127407074, -0.005663854535669088, -0.02067399024963379, -0.012448144145309925, 0.042124319821596146, -0.015135200694203377, 0.01798013225197792, -0.08060985803604126, -0.005975506268441677, -0.032146964222192764, -0.022187426686286926, 0.048434872180223465, -0.02897990308701992, -0.023898962885141373, 0.019707681611180305, 0.03873826935887337, -0.0218014158308506, 0.018597852438688278, -0.01049927156418562, -0.030928276479244232, -0.004072428680956364, 0.07263574749231339, -0.024274636059999466, 0.002383585786446929, 0.04174467548727989, -0.02177293412387371, -0.0291216392070055, -0.03312516584992409, 0.03361091762781143, -0.020251629874110222, 0.008840849623084068, -0.035939235240221024, -0.012177622877061367, 0.018442358821630478, -0.027535196393728256, 0.04070506989955902, 0.02192148193717003, -0.020018255338072777, -0.04492897540330887, -0.008658693172037601, 0.014604301191866398, -0.0710904598236084, 0.012394017539918423, 0.023334264755249023, 0.0024207979440689087, -0.012603383511304855, 0.00019741288269869983, 0.011676247231662273, -0.01317243929952383, 0.006928096525371075, -0.00977402925491333, -0.009211733005940914, 0.06706137210130692, -0.02329166606068611, 0.09236669540405273, -0.036991216242313385, 0.02299249917268753, -0.027546796947717667, 0.028801150619983673, 0.0309413094073534, 0.023561401292681694, -0.0031532892026007175, -9.470773511566222e-05, -0.053131114691495895, -0.07861187309026718, 0.026262447237968445, -0.018455512821674347, 0.008361972868442535, -0.034433696419000626, 0.10470877587795258, 0.03360424563288689, -0.01073900330811739, -0.015232732519507408, -0.011001699604094028, 0.029753552749753, -0.01550497580319643, 0.017551368102431297, 0.028530089184641838, -0.057646095752716064, 0.02275777980685234, -0.0182220246642828, -0.010655741207301617, 0.00014523870777338743, -0.023656390607357025, -0.019509071484208107, 0.01946134679019451, 0.021897828206419945, 0.04595562443137169, 0.020260734483599663, 0.007580745033919811, -0.00644565699622035, 0.004076900891959667, -0.033008038997650146, -0.0159929059445858, -0.001346968929283321, 0.0296529121696949]\n",
      "\n"
     ]
    }
   ],
   "source": [
    "# Function to display a selected record\n",
    "def display_record(record_number):\n",
    "    record = df.iloc[record_number]\n",
    "    display_data = {\n",
    "        \"ID\": record.get(\"id\", \"N/A\"),\n",
    "        \"Metadata\": record.get(\"metadata\", \"N/A\"),\n",
    "        \"Text\": record.get(\"text\", \"N/A\"),\n",
    "        \"Embedding\": record.get(\"embedding\", \"N/A\")\n",
    "    }\n",
    "\n",
    "    # Print the ID\n",
    "    print(\"ID:\")\n",
    "    print(display_data[\"ID\"])\n",
    "    print()\n",
    "\n",
    "    # Print the metadata in a structured format\n",
    "    print(\"Metadata:\")\n",
    "    metadata = display_data[\"Metadata\"]\n",
    "    if isinstance(metadata, list):\n",
    "        for item in metadata:\n",
    "            for key, value in item.items():\n",
    "                print(f\"{key}: {value}\")\n",
    "            print()\n",
    "    else:\n",
    "        print(metadata)\n",
    "    print()\n",
    "\n",
    "    # Print the text\n",
    "    print(\"Text:\")\n",
    "    print(display_data[\"Text\"])\n",
    "    print()\n",
    "\n",
    "    # Print the embedding\n",
    "    print(\"Embedding:\")\n",
    "    print(display_data[\"Embedding\"])\n",
    "    print()\n",
    "\n",
    "# Example usage\n",
    "rec = 7  # Replace with the desired record number\n",
    "display_record(rec)"
   ]
  },
  {
   "cell_type": "markdown",
   "id": "52a9728a",
   "metadata": {},
   "source": [
    "## Pipeline 3: Knowledge graph index-based RAG"
   ]
  },
  {
   "cell_type": "code",
   "execution_count": 7,
   "id": "e26db46a",
   "metadata": {},
   "outputs": [],
   "source": [
    "from llama_index.core import Document\n",
    "\n",
    "# Ensure 'text' column is of type string\n",
    "df['text'] = df['text'].astype(str)\n",
    "# Create documents with IDs\n",
    "documents = [Document(text=row['text'], doc_id=str(row['id'])) for _, row in df.iterrows()]"
   ]
  },
  {
   "cell_type": "markdown",
   "id": "dff84fe2",
   "metadata": {},
   "source": [
    "### Generating the graph index"
   ]
  },
  {
   "cell_type": "code",
   "execution_count": 8,
   "id": "7e469233",
   "metadata": {},
   "outputs": [
    {
     "name": "stdout",
     "output_type": "stream",
     "text": [
      "Index creation time: 7986.4521 seconds\n",
      "<class '__main__.RobustKnowledgeGraphIndex'>\n"
     ]
    }
   ],
   "source": [
    "from llama_index.core import KnowledgeGraphIndex\n",
    "import time\n",
    "from typing import List\n",
    "\n",
    "# Start the timer\n",
    "start_time = time.time()\n",
    "\n",
    "class RobustKnowledgeGraphIndex(KnowledgeGraphIndex):\n",
    "    def _extract_triplets(self, text: str) -> List[tuple]:\n",
    "        \"\"\"Extract triplets with error handling to ignore failures.\"\"\"\n",
    "        try:\n",
    "            # Call the parent class's triplet extraction method\n",
    "            return super()._extract_triplets(text)\n",
    "        except Exception as e:\n",
    "            # Log the error (optional) and return an empty list to continue processing\n",
    "            print(f\"Error extracting triplets for text chunk: {e}\")\n",
    "            return []\n",
    "\n",
    "# Graph index with embeddings\n",
    "graph_index = RobustKnowledgeGraphIndex.from_documents(\n",
    "    documents,\n",
    "    max_triplets_per_chunk=5,\n",
    "    include_embeddings=True,\n",
    "    show_progress=False,\n",
    ")\n",
    "\n",
    "# Stop the timer\n",
    "end_time = time.time()\n",
    "\n",
    "# Calculate and print the execution time\n",
    "elapsed_time = end_time - start_time\n",
    "print(f\"Index creation time: {elapsed_time:.4f} seconds\")\n",
    "\n",
    "print(type(graph_index))\n",
    "\n",
    "# Save the graph index to a file\n",
    "graph_index_saving_path = \"./dataset/graph_storage\"\n",
    "graph_index.storage_context.persist(persist_dir=graph_index_saving_path)"
   ]
  },
  {
   "cell_type": "markdown",
   "id": "40bfe516",
   "metadata": {},
   "source": [
    "### Displaying the graph in HTML file"
   ]
  },
  {
   "cell_type": "code",
   "execution_count": 9,
   "id": "278073b4",
   "metadata": {},
   "outputs": [
    {
     "name": "stdout",
     "output_type": "stream",
     "text": [
      "Loading llama_index.core.storage.kvstore.simple_kvstore from ./dataset/graph_storage/docstore.json.\n",
      "Loading llama_index.core.storage.kvstore.simple_kvstore from ./dataset/graph_storage/index_store.json.\n",
      "Knowledge_graph_visual.html\n"
     ]
    }
   ],
   "source": [
    "# Load the Graph data\n",
    "from llama_index.core import StorageContext, load_index_from_storage\n",
    "\n",
    "graph_index_saving_path = \"./dataset/graph_storage\"\n",
    "storage_context = StorageContext.from_defaults(persist_dir=graph_index_saving_path)\n",
    "\n",
    "graph_index = load_index_from_storage(storage_context)\n",
    "\n",
    "# Create graph\n",
    "from pyvis.network import Network\n",
    "\n",
    "g = graph_index.get_networkx_graph()\n",
    "net = Network(notebook=True, cdn_resources=\"in_line\", directed=True)\n",
    "net.from_nx(g)\n",
    "\n",
    "# Set node and edge properties: colors and sizes\n",
    "for node in net.nodes:\n",
    "    node['color'] = 'lightgray'\n",
    "    node['size'] = 10\n",
    "\n",
    "for edge in net.edges:\n",
    "    edge['color'] = 'black'\n",
    "    edge['width'] = 1\n",
    "\n",
    "fgraph=\"Knowledge_graph_visual.html\"\n",
    "net.write_html(fgraph)\n",
    "print(fgraph)"
   ]
  },
  {
   "cell_type": "markdown",
   "id": "06cca3cb",
   "metadata": {},
   "source": [
    "## Interacting with the Knowledge graph index"
   ]
  },
  {
   "cell_type": "code",
   "execution_count": 10,
   "id": "ebb36af7",
   "metadata": {},
   "outputs": [],
   "source": [
    "import time\n",
    "import textwrap\n",
    "\n",
    "\n",
    "\n",
    "#similarity_top_k\n",
    "k=3\n",
    "#temperature\n",
    "temp=0.1\n",
    "#num_output\n",
    "mt=1024\n",
    "graph_query_engine = graph_index.as_query_engine(similarity_top_k=k, temperature=temp, num_output=mt)\n",
    "\n",
    "def execute_query(user_input, k=3, temp=0.1, mt=1024):\n",
    "\n",
    "    # Start the timer\n",
    "    start_time = time.time()\n",
    "\n",
    "    # Execute the query with additional parameters\n",
    "    response = graph_query_engine.query(user_input)\n",
    "\n",
    "    # Stop the timer\n",
    "    end_time = time.time()\n",
    "\n",
    "    # Calculate and print the execution time\n",
    "    elapsed_time = end_time - start_time\n",
    "    print(f\"Query execution time: {elapsed_time:.4f} seconds\")\n",
    "\n",
    "    # Print the response, wrapped to 100 characters per line\n",
    "    print(textwrap.fill(str(response), 100))\n",
    "    return response"
   ]
  },
  {
   "cell_type": "code",
   "execution_count": 40,
   "id": "ee3d3fb6",
   "metadata": {},
   "outputs": [],
   "source": [
    "user_query=\"Summarise the methods to improve efficiency of solar cells, in ordered list.\""
   ]
  },
  {
   "cell_type": "code",
   "execution_count": 41,
   "id": "a1b4beb4",
   "metadata": {},
   "outputs": [
    {
     "name": "stdout",
     "output_type": "stream",
     "text": [
      "Query execution time: 6.7376 seconds\n",
      "1. Minimize top contact coverage to reduce the light-blocking area on the cell surface. 2. Implement anti-reflective\n",
      "coatings to reduce reflection and enhance absorption by causing destructive interference. 3. Use surface texturing\n",
      "techniques, such as black silicon, to reduce reflectance and trap more light. 4. Apply photonic micro-structured\n",
      "coatings on the cell front contact for geometric anti-reflection and light scattering. 5. Employ plasmonic light-\n",
      "trapping using noble metal nanoparticles to enhance broadband photocurrent. 6. Optimize solar cell materials, like using\n",
      "thermal processing to enhance crystal quality, and layering thin-film cells for multi-junction solar cells. 7. Utilize\n",
      "large, parallel nanowire arrays and add nanoparticles to increase absorption lengths and conduction. 8. Consider rear\n",
      "surface passivation, such as using dielectric passivation layers, to improve efficiency. 9. Use thin film materials,\n",
      "incorporating light-trapping schemes, to enhance light scattering. 10. Combine different materials in tandem solar\n",
      "cells, like perovskite with silicon, to expand the solar spectrum absorbed.\n"
     ]
    }
   ],
   "source": [
    "import time\n",
    "import textwrap\n",
    "import sys\n",
    "import io\n",
    "# Start the timer\n",
    "start_time = time.time()\n",
    "# Capture the output\n",
    "old_stdout = sys.stdout\n",
    "new_stdout = io.StringIO()\n",
    "sys.stdout = new_stdout\n",
    "response = execute_query(user_query)\n",
    "# Restore stdout\n",
    "sys.stdout = old_stdout\n",
    "# Stop the timer\n",
    "end_time = time.time()\n",
    "# Calculate and print the execution time\n",
    "elapsed_time = end_time - start_time\n",
    "print(f\"Query execution time: {elapsed_time:.4f} seconds\")\n",
    "\n",
    "print(textwrap.fill(str(response), 120))"
   ]
  },
  {
   "cell_type": "code",
   "execution_count": 37,
   "id": "cb443061",
   "metadata": {},
   "outputs": [
    {
     "name": "stdout",
     "output_type": "stream",
     "text": [
      "Improving the efficiency of solar cells involves several methods that focus on enhancing the conversion of sunlight into electricity. Here's a summary of some common strategies:\n",
      "\n",
      "1. **Higher Efficiency Materials**: Use materials with higher inherent absorption coefficients and lower band gaps for photovoltaic conversion. This includes developing new semiconductor materials like perovskites and tandem solar cells combining different materials.\n",
      "\n",
      "2. **Antireflection Coatings**: Apply thin films to reduce the reflection of sunlight from the cell surface. These coatings increase the amount of light absorbed by the cell.\n",
      "\n",
      "3. **Texturing the Surface**: Texturing the surface of solar cells can increase the light trapping effect, allowing more light to be absorbed and spread throughout the cell.\n",
      "\n",
      "4. **Light Trapping Structures**: Incorporate micrometre-scale structures to enhance light scattering and trapping, which can increase the absorption of light over a broader range of wavelengths.\n",
      "\n",
      "5. **Tandem Solar Cells**: Combine two or more layers of different semiconductor materials to absorb a wider range of the solar spectrum, leading to a higher overall efficiency.\n",
      "\n",
      "6. **Back Contact Technology**: Use back contact solar cells to reduce reflectance and improve the use of available sunlight by allowing light to penetrate deeper into the cell.\n",
      "\n",
      "7. **Selective Emitter Layers**: These layers are used to optimize the electrical properties of the cell and can improve the efficiency by minimizing recombination losses.\n",
      "\n",
      "8. **Passive Heat Management**: Implementing heat sinks and heat-removing systems to keep the cell temperature lower can prevent efficiency losses due to thermal effects.\n",
      "\n",
      "9. **Optimization of Cell Geometry**: Designing the cells with optimal geometric configurations can enhance light absorption and improve electrical performance.\n",
      "\n",
      "10. **Enhanced Charge Separation and Transport**: Improving the transport of electrons and holes within the cell to reduce recombination losses and improve the overall efficiency.\n",
      "\n",
      "11. **Thermodynamic Optimization**: Utilizing the maximum power point tracking (MPPT) to ensure the solar cells operate at the optimal voltage and current for maximum power output.\n",
      "\n",
      "12. **Advanced Manufacturing Techniques**: Adopting more precise and efficient production processes can reduce defects and improve cell uniformity, leading to higher efficiency.\n",
      "\n",
      "These methods can be combined and adapted based on the specific type of solar cell technology, to achieve the best possible efficiency.\n"
     ]
    }
   ],
   "source": [
    "print(llm_extraction.complete(\"Summarise the methods to improve efficiency of solar cells.\"))"
   ]
  }
 ],
 "metadata": {
  "kernelspec": {
   "display_name": ".venv",
   "language": "python",
   "name": "python3"
  },
  "language_info": {
   "codemirror_mode": {
    "name": "ipython",
    "version": 3
   },
   "file_extension": ".py",
   "mimetype": "text/x-python",
   "name": "python",
   "nbconvert_exporter": "python",
   "pygments_lexer": "ipython3",
   "version": "3.13.4"
  }
 },
 "nbformat": 4,
 "nbformat_minor": 5
}
