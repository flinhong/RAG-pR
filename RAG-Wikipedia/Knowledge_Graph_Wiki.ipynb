{
 "cells": [
  {
   "cell_type": "markdown",
   "id": "01d0a07d",
   "metadata": {},
   "source": [
    "## Setting up the environment"
   ]
  },
  {
   "cell_type": "code",
   "execution_count": 51,
   "id": "7023b58e",
   "metadata": {},
   "outputs": [
    {
     "name": "stdout",
     "output_type": "stream",
     "text": [
      "[0.07404854893684387, 0.07512331753969193, -0.0032140822149813175, -0.022604335099458694, -0.019349098205566406]\n"
     ]
    }
   ],
   "source": [
    "import os\n",
    "from dotenv import load_dotenv\n",
    "load_dotenv()\n",
    "\n",
    "# Setup embedding model\n",
    "from llama_index.core import Settings\n",
    "from llama_index.core.callbacks import CallbackManager\n",
    "\n",
    "# Turn off the verbose callback handlers\n",
    "Settings.callback_manager = CallbackManager([])\n",
    "\n",
    "# Use local embedding models served by LM Studio\n",
    "# Use fake API key (LM Studio doesn't validate it)\n",
    "from llama_index.embeddings.openai import OpenAIEmbedding\n",
    "embed_model = OpenAIEmbedding(\n",
    "    api_base = os.getenv(\"LM_STUDIO_API_BASE\"),\n",
    "    api_key = \"whatever-it-is\",\n",
    "    model_name = os.getenv(\"LM_STUDIO_EMBEDDING_MODEL\"),\n",
    "    embed_batch_size = 50\n",
    ")\n",
    "\n",
    "# Embedding model verification\n",
    "Settings.embed_model = embed_model\n",
    "embed = embed_model.get_text_embedding(\"The quick brown fox jumps over the lazy dog.\")\n",
    "print(embed[:5])  # Should print a list of floats"
   ]
  },
  {
   "cell_type": "code",
   "execution_count": 52,
   "id": "9f112655",
   "metadata": {},
   "outputs": [
    {
     "name": "stdout",
     "output_type": "stream",
     "text": [
      "I am an AI language model, here to assist with information and answer questions.\n"
     ]
    }
   ],
   "source": [
    "# 使用智谱免费模型 glm-4-flash，提取节点关系\n",
    "from llama_index.llms.zhipuai import ZhipuAI\n",
    "llm_extraction = ZhipuAI(\n",
    "    api_key=os.getenv(\"ZHIPU_API_KEY\"),\n",
    "    model=\"glm-4-flash\"\n",
    ")\n",
    "Settings.llm = llm_extraction\n",
    "\n",
    "# Verify the LLM\n",
    "print(llm_extraction.complete(\"\\nBriefly introduce yourself in 20 words.\"))"
   ]
  },
  {
   "cell_type": "markdown",
   "id": "56910fb2",
   "metadata": {},
   "source": [
    "## Pipeline 1: Collecting & preparing the documents"
   ]
  },
  {
   "cell_type": "code",
   "execution_count": 53,
   "id": "7fdda299",
   "metadata": {},
   "outputs": [
    {
     "name": "stdout",
     "output_type": "stream",
     "text": [
      "Read URLs:\n",
      "https://en.wikipedia.org/wiki/Solar_cell\n",
      "https://en.wikipedia.org/wiki/1973_oil_crisis\n",
      "https://en.wikipedia.org/wiki/ARCO\n",
      "https://en.wikipedia.org/wiki/Absorption_(electromagnetic_radiation)\n",
      "https://en.wikipedia.org/wiki/Acrylate_polymer\n",
      "https://en.wikipedia.org/wiki/Albedo\n",
      "https://en.wikipedia.org/wiki/Albert_Einstein\n",
      "https://en.wikipedia.org/wiki/Aleksandr_Stoletov\n",
      "https://en.wikipedia.org/wiki/Alkaline_battery\n",
      "https://en.wikipedia.org/wiki/Alternating_current\n",
      "https://en.wikipedia.org/wiki/Aluminium%E2%80%93air_battery\n",
      "https://en.wikipedia.org/wiki/American_Solar_Challenge\n",
      "https://en.wikipedia.org/wiki/Amorphous_silicon\n",
      "https://en.wikipedia.org/wiki/Ion\n",
      "https://en.wikipedia.org/wiki/Anita_Ho-Baillie\n",
      "https://en.wikipedia.org/wiki/Anode\n",
      "https://en.wikipedia.org/wiki/Anomalous_photovoltaic_effect\n",
      "https://en.wikipedia.org/wiki/Anti-reflective_coating\n",
      "https://en.wikipedia.org/wiki/Antonio_Luque\n",
      "https://en.wikipedia.org/wiki/ArXiv\n",
      "https://en.wikipedia.org/wiki/Atmospheric_pressure\n",
      "https://en.wikipedia.org/wiki/Atomic_battery\n",
      "https://en.wikipedia.org/wiki/Automotive_battery\n",
      "https://en.wikipedia.org/wiki/Autonomous_building\n",
      "https://en.wikipedia.org/wiki/Balance_of_system\n",
      "https://en.wikipedia.org/wiki/Band_gap\n",
      "https://en.wikipedia.org/wiki/Band_gap\n",
      "https://en.wikipedia.org/wiki/Bayer\n",
      "https://en.wikipedia.org/wiki/Bell_Labs\n",
      "https://en.wikipedia.org/wiki/Bibcode\n",
      "https://en.wikipedia.org/wiki/Bifacial_solar_cells\n",
      "https://en.wikipedia.org/wiki/Binder_(material)\n",
      "https://en.wikipedia.org/wiki/Black_silicon\n",
      "https://en.wikipedia.org/wiki/Copolymer\n",
      "https://en.wikipedia.org/wiki/Boeing_X-37\n",
      "https://en.wikipedia.org/wiki/Boron\n",
      "https://en.wikipedia.org/wiki/Boule_(crystal)\n",
      "https://en.wikipedia.org/wiki/Bound_state\n",
      "https://en.wikipedia.org/wiki/Building-integrated_photovoltaics\n",
      "https://en.wikipedia.org/wiki/Building-integrated_photovoltaics\n",
      "https://en.wikipedia.org/wiki/Bunsen_cell\n",
      "https://en.wikipedia.org/wiki/Buoy\n",
      "https://en.wikipedia.org/wiki/Busbar\n",
      "https://en.wikipedia.org/wiki/Cadmium\n",
      "https://en.wikipedia.org/wiki/Cadmium_selenide\n",
      "https://en.wikipedia.org/wiki/Cadmium_sulfide\n",
      "https://en.wikipedia.org/wiki/Cadmium_telluride\n",
      "https://en.wikipedia.org/wiki/Cadmium_telluride_photovoltaics\n",
      "https://en.wikipedia.org/wiki/California\n",
      "https://en.wikipedia.org/wiki/California_NanoSystems_Institute\n",
      "https://en.wikipedia.org/wiki/Calvin_Souther_Fuller\n"
     ]
    }
   ],
   "source": [
    "# Names for file storage\n",
    "topic_name = \"Solar_cell\"\n",
    "urls_file_name = topic_name + \"_urls.txt\"\n",
    "\n",
    "import requests\n",
    "from bs4 import BeautifulSoup\n",
    "import re\n",
    "\n",
    "with open(urls_file_name, 'r') as file:\n",
    "    urls = [line.strip() for line in file]\n",
    "\n",
    "print(\"Read URLs:\")\n",
    "for url in urls:\n",
    "    print(url)"
   ]
  },
  {
   "cell_type": "code",
   "execution_count": 54,
   "id": "e7903a6a",
   "metadata": {},
   "outputs": [
    {
     "name": "stderr",
     "output_type": "stream",
     "text": [
      "100%|██████████| 51/51 [00:21<00:00,  2.38it/s]\n"
     ]
    }
   ],
   "source": [
    "def clean_text(content):\n",
    "    # Remove references and unwanted characters\n",
    "    content = re.sub(r'\\[\\d+\\]', '', content)   # Remove references\n",
    "    content = re.sub(r'[^\\w\\s\\.]', '', content)  # Remove punctuation (except periods)\n",
    "    return content\n",
    "\n",
    "def safe_file_name(s):\n",
    "    # Replace spaces with underscores\n",
    "    s = s.replace(' ', '_')\n",
    "    \n",
    "    # Remove any characters that are not allowed in file names\n",
    "    safe_str = ''.join(c for c in s if c.isalpha() or c.isdigit() or c in [' ', '.', '_', '-'])\n",
    "    \n",
    "    return safe_str\n",
    "\n",
    "def file_exists_and_has_content(file_path):\n",
    "    # Check if the file exists\n",
    "    if not os.path.exists(file_path):\n",
    "        return False\n",
    "    \n",
    "    # Check if the file is not empty\n",
    "    with open(file_path, 'r', encoding='utf-8') as file:\n",
    "        first_char = file.read(1)\n",
    "        if first_char:\n",
    "            return True\n",
    "        else:\n",
    "            return False\n",
    "\n",
    "def fetch_and_clean(url):\n",
    "    try:\n",
    "        response = requests.get(url)\n",
    "        response.raise_for_status()  # Raise an error for bad responses\n",
    "        soup = BeautifulSoup(response.content, 'html.parser')\n",
    "\n",
    "        # Prioritise \"mw-parser-output\" but fall back to \"content\" node if not found\n",
    "        content = soup.find('div', {'class': 'mw-parser-output'}) or soup.find('div', {'id': 'content'})\n",
    "        if content is None:\n",
    "            return None\n",
    "        \n",
    "        # Remove specific unwanted sections, including nested ones\n",
    "        for section_title in ['References', 'Bibliography', 'External links', 'See also', 'Notes']:\n",
    "            section = content.find('span', id=section_title)\n",
    "            while section:\n",
    "                for sib in section.parent.find_next_siblings():\n",
    "                    sib.decompose()  # Remove the section and its siblings\n",
    "                section.parent.decompose()  # Remove the section itself\n",
    "                section = content.find('span', id=section_title)\n",
    "\n",
    "        # Extract and clean text\n",
    "        text = content.get_text(separator=' ', strip=True)  # Use space as separator and strip whitespace\n",
    "        text = clean_text(text)\n",
    "        return text\n",
    "    except requests.RequestException as e:\n",
    "        print(f\"Error fetching {url}: {e}\")\n",
    "        return None  # Return None if there's an error\n",
    "    \n",
    "# Directory to store the output file\n",
    "output_dir = './documents/'\n",
    "os.makedirs(output_dir, exist_ok=True)\n",
    "\n",
    "from tqdm import tqdm\n",
    "\n",
    "# Processing the URLs and skipping invalid ones\n",
    "reload = True  # Set to True to reprocess all URLs\n",
    "if reload==True:\n",
    "    for url in tqdm(urls):\n",
    "        article_name = url.split('/')[-1].replace('.html', '')\n",
    "        filename = os.path.join(output_dir, f\"{safe_file_name(article_name)}.txt\")\n",
    "\n",
    "        if file_exists_and_has_content(filename) is True:\n",
    "            continue\n",
    "        else:\n",
    "            clean_article_text = fetch_and_clean(url)\n",
    "            if clean_article_text:  # Only write if text is not None\n",
    "                with open(filename, 'w', encoding='utf-8') as file:\n",
    "                    file.write(clean_article_text)"
   ]
  },
  {
   "cell_type": "code",
   "execution_count": 55,
   "id": "fb21713c",
   "metadata": {},
   "outputs": [
    {
     "name": "stdout",
     "output_type": "stream",
     "text": [
      "Doc ID: 618143ae-6e87-48ef-939e-356255120d2f\n",
      "Text: American oil company For other uses see Arco disambiguation .\n",
      "Atlantic Richfield Company Logo used from 19702000 still used as a\n",
      "secondary logo Trade name ARCO Company type Subsidiary Industry\n",
      "Petroleum Predecessor Atlantic Petroleum Richfield Oil Corporation\n",
      "Founded January 3 1966  59 years ago  19660103  Defunct April 18 2000\n",
      "25 years ago  20...\n"
     ]
    }
   ],
   "source": [
    "from llama_index.core import SimpleDirectoryReader\n",
    "\n",
    "# Load documents\n",
    "documents = SimpleDirectoryReader(\"./documents\").load_data()\n",
    "print(documents[0])"
   ]
  },
  {
   "cell_type": "markdown",
   "id": "a3b45ef8",
   "metadata": {},
   "source": [
    "## Pipeline 2: Creating vector store"
   ]
  },
  {
   "cell_type": "code",
   "execution_count": 56,
   "id": "eceedf6d",
   "metadata": {},
   "outputs": [
    {
     "name": "stderr",
     "output_type": "stream",
     "text": []
    },
    {
     "data": {
      "application/vnd.jupyter.widget-view+json": {
       "model_id": "a306763bf2b8410e86eab97276b718a3",
       "version_major": 2,
       "version_minor": 0
      },
      "text/plain": [
       "Parsing nodes:   0%|          | 0/43 [00:00<?, ?it/s]"
      ]
     },
     "metadata": {},
     "output_type": "display_data"
    },
    {
     "data": {
      "application/vnd.jupyter.widget-view+json": {
       "model_id": "4c094c44be72490395c23f11c30f420b",
       "version_major": 2,
       "version_minor": 0
      },
      "text/plain": [
       "Generating embeddings:   0%|          | 0/323 [00:00<?, ?it/s]"
      ]
     },
     "metadata": {},
     "output_type": "display_data"
    },
    {
     "name": "stdout",
     "output_type": "stream",
     "text": [
      "Uploading data to deeplake dataset.\n"
     ]
    },
    {
     "name": "stderr",
     "output_type": "stream",
     "text": [
      "100%|██████████| 323/323 [00:00<00:00, 1157.40it/s]"
     ]
    },
    {
     "name": "stdout",
     "output_type": "stream",
     "text": [
      "Dataset(path='./dataset/solar_cell_01', tensors=['text', 'metadata', 'embedding', 'id'])\n",
      "\n",
      "  tensor      htype      shape      dtype  compression\n",
      "  -------    -------    -------    -------  ------- \n",
      "   text       text      (323, 1)     str     None   \n",
      " metadata     json      (323, 1)     str     None   \n",
      " embedding  embedding  (323, 768)  float32   None   \n",
      "    id        text      (323, 1)     str     None   \n"
     ]
    },
    {
     "name": "stderr",
     "output_type": "stream",
     "text": [
      "\n"
     ]
    }
   ],
   "source": [
    "from llama_index.vector_stores.deeplake import DeepLakeVectorStore\n",
    "from llama_index.core import StorageContext, VectorStoreIndex\n",
    "\n",
    "# Path for vector store and dataset\n",
    "# os.environ['ACTIVELOOP_TOKEN'] = os.getenv('ACTIVELOOP_TOKEN')\n",
    "# database = \"hub://honglin/solar_cell_01\" # hosted database by active loop\n",
    "database = \"./dataset/solar_cell_01\" # local storage\n",
    "vector_store_path = database\n",
    "dataset_path = database\n",
    "\n",
    "# Create an index over the documents\n",
    "# Overwrites the existing dataset if True\n",
    "ow = True\n",
    "\n",
    "if ow==True:\n",
    "    try:\n",
    "        vector_store = DeepLakeVectorStore(dataset_path=dataset_path, overwrite=ow)\n",
    "        storage_context = StorageContext.from_defaults(vector_store=vector_store)\n",
    "        index = VectorStoreIndex.from_documents(documents, storage_context, show_progress=True, embed_model=Settings.embed_model)\n",
    "    except Exception as e:\n",
    "        print(f\"An error occurred: {e}\")\n",
    "        print(f\"Error type: {type(e)}\")\n",
    "        print(f\"Error traceback: {e.__traceback__}\")"
   ]
  },
  {
   "cell_type": "code",
   "execution_count": 57,
   "id": "2667ebb4",
   "metadata": {},
   "outputs": [
    {
     "name": "stdout",
     "output_type": "stream",
     "text": [
      "./dataset/solar_cell_01 loaded successfully.\n",
      "\n",
      "Dataset(path='./dataset/solar_cell_01', tensors=['embedding', 'id', 'metadata', 'text'])\n",
      "\n",
      "  tensor      htype      shape      dtype  compression\n",
      "  -------    -------    -------    -------  ------- \n",
      " embedding  embedding  (323, 768)  float32   None   \n",
      "    id        text      (323, 1)     str     None   \n",
      " metadata     json      (323, 1)     str     None   \n",
      "   text       text      (323, 1)     str     None   \n"
     ]
    },
    {
     "name": "stderr",
     "output_type": "stream",
     "text": []
    }
   ],
   "source": [
    "import deeplake\n",
    "ds = deeplake.load(dataset_path)\n",
    "ds.summary()"
   ]
  },
  {
   "cell_type": "code",
   "execution_count": 58,
   "id": "26b9c9c6",
   "metadata": {},
   "outputs": [],
   "source": [
    "import pandas as pd\n",
    "import numpy as np\n",
    "\n",
    "# Create a dictionary to hold the data\n",
    "data = {}\n",
    "\n",
    "# Iterate through the tensors in the dataset\n",
    "for tensor_name in ds.tensors:\n",
    "    tensor_data = ds[tensor_name].numpy()\n",
    "\n",
    "    # Check if the tensor is multi-dimensional\n",
    "    if tensor_data.ndim > 1:\n",
    "        # Flatten multi-dimensional tensors\n",
    "        data[tensor_name] = [np.array(e).flatten().tolist() for e in tensor_data]\n",
    "    else:\n",
    "        # Convert 1D tensors directly to lists and decode text\n",
    "        if tensor_name == \"text\":\n",
    "            data[tensor_name] = [t.tobytes().decode('utf-8') if t else \"\" for t in tensor_data]\n",
    "        else:\n",
    "            data[tensor_name] = tensor_data.tolist()\n",
    "\n",
    "# Create a Pandas DataFrame from the dictionary\n",
    "df = pd.DataFrame(data)"
   ]
  },
  {
   "cell_type": "code",
   "execution_count": 59,
   "id": "21fd6452",
   "metadata": {},
   "outputs": [
    {
     "name": "stdout",
     "output_type": "stream",
     "text": [
      "ID:\n",
      "['67490a92-0d7f-4579-9c83-0af631af6d6a']\n",
      "\n",
      "Metadata:\n",
      "file_path: /home/ongin/github/RAG-pR/RAG-Wikipedia/documents/ARCO.txt\n",
      "file_name: ARCO.txt\n",
      "file_type: text/plain\n",
      "file_size: 28010\n",
      "creation_date: 2025-06-11\n",
      "last_modified_date: 2025-06-11\n",
      "_node_content: {\"id_\": \"67490a92-0d7f-4579-9c83-0af631af6d6a\", \"embedding\": null, \"metadata\": {\"file_path\": \"/home/ongin/github/RAG-pR/RAG-Wikipedia/documents/ARCO.txt\", \"file_name\": \"ARCO.txt\", \"file_type\": \"text/plain\", \"file_size\": 28010, \"creation_date\": \"2025-06-11\", \"last_modified_date\": \"2025-06-11\"}, \"excluded_embed_metadata_keys\": [\"file_name\", \"file_type\", \"file_size\", \"creation_date\", \"last_modified_date\", \"last_accessed_date\"], \"excluded_llm_metadata_keys\": [\"file_name\", \"file_type\", \"file_size\", \"creation_date\", \"last_modified_date\", \"last_accessed_date\"], \"relationships\": {\"1\": {\"node_id\": \"618143ae-6e87-48ef-939e-356255120d2f\", \"node_type\": \"4\", \"metadata\": {\"file_path\": \"/home/ongin/github/RAG-pR/RAG-Wikipedia/documents/ARCO.txt\", \"file_name\": \"ARCO.txt\", \"file_type\": \"text/plain\", \"file_size\": 28010, \"creation_date\": \"2025-06-11\", \"last_modified_date\": \"2025-06-11\"}, \"hash\": \"fa01d65b92018542a591a2a4596b0536eb22d96fd8695310e1718156c9609d97\", \"class_name\": \"RelatedNodeInfo\"}, \"3\": {\"node_id\": \"7f7d0bc1-e393-4be8-8289-b65ef62b430b\", \"node_type\": \"1\", \"metadata\": {}, \"hash\": \"69a72470e7f936bf9dcc568295c1bea90c7ef7e11b9357e42226a674b10d2396\", \"class_name\": \"RelatedNodeInfo\"}}, \"metadata_template\": \"{key}: {value}\", \"metadata_separator\": \"\\n\", \"text\": \"American oil company For other uses see Arco disambiguation . Atlantic Richfield Company Logo used from 19702000 still used as a secondary logo Trade name ARCO Company type Subsidiary Industry Petroleum Predecessor Atlantic Petroleum Richfield Oil Corporation Founded January\\u00a03 1966  59 years ago  19660103  Defunct April\\u00a018\\u00a02000  25 years ago  20000418  Fate Acquired by BP  brand now owned by Marathon Petroleum Corporation Headquarters New York City 19661971 Los Angeles California 19712000 Houston Texas 20002012 San Antonio Texas 20122018 Findlay Ohio 2018present Number of locations 1200 in 2000 Area served United States Owner Marathon Petroleum Corporation Website arco.com ARCO   \\u02c8 \\u0251\\u02d0r k o\\u028a  AR koh  is a brand of gasoline stations owned by Marathon Petroleum . BP  which formerly owned the brand uses it in California  Oregon and Washington  while Marathon has rights for the rest of the United States and Mexico.  1  ARCO was established in 1966 as the Atlantic Richfield Company an independent oil and gas company formed from the merger of Atlantic Petroleum and the Richfield Oil Corporation . History  edit  From 1966 to 2000 the Atlantic Richfield Company doing business as ARCO was an independent American oil company with operations in the United States Indonesia the North Sea  the South China Sea and Mexico .  2  After its acquisition of Anaconda Copper Mining Company in 1977 ARCO had owned hard rock mines in several western states which has created environmental cleanup liabilities to the company to this day even after the mines were closed in the early 1980s. In 2000 BP Amoco now BP acquired ARCO for 26.8 billion.  3   4  ARCOs retail and marketing operations were kept separate while the rest of the company was integrated into BP. In 2012 BP sold its Carson refinery 800 ARCO stations in California Arizona and Nevada and the ownership of the ARCO brand to Tesoro for 2.5 billion while paying Tesoro for an exclusive license for use of the ARCO brand on its stations in northern California Oregon and Washington which will be continued to be supplied from BPs Cherry Point Refinery in Washington state.  5  BP has retained the Atlantic Richfield Company as a subsidiary to handle environmental claims against BP for the cleanup of former Anaconda mine properties.  6   7  Early period  edit  ARCO was formed by the merger of East Coast based Atlantic Refining and Californiabased Richfield Oil Corporation in 1966 the companys name is an acronym of the two companies names. A merger in 1969 brought in Sinclair Oil Corporation .  2  In the 1970s and 80s ARCO was one of the largest companies in the world consistently a top 20 company of the Fortune 500.  8  After its subsequent fracture in the late 1980s and early 90s ARCO became a subsidiary of UKbased BP plc in 2000 through its BP West Coast Products LLC BPWCP affiliate.  9  The Atlantic Petroleum Storage Companys heritage dates back to 1866. It became part of the Standard Oil trust in 1874 but achieved independence again when Standard Oil was broken up in 1911. In 1915 Atlantic opens its first filling station on Baum Boulevard in Pittsburgh Pennsylvania . In 1917 First Richfield Oil Company of California gas station at Slauson and Central Avenues in Los Angeles  California.  Richfield Oil Company of California logo is an Eagle trademark. The Atlantic Refining Company was headquartered in Philadelphia Pennsylvania . In 1966 Atlantic merged with the Richfield Oil Company of California. The first CEO was Robert Orville Anderson  who had previously led Atlantic. The trademark for the new company a red diamond shape called the ARCO Spark was designed by Bauhaus artist designer and architect Herbert Bayer . Commercial oil exploration started in Prudhoe Bay Alaska in the 1960s and the Prudhoe Bay Oil Field  North Americas largest oil field was discovered on March 12 1968 by Atlantic Richfield Company ARCO and Exxon with the well Prudhoe Bay State 1. Key employees with ARCO Alaska were Marvin Mangus  John M. Sweet and William D. Leake chief project engineer for the Alaska pipeline. The Richfield Oil Company of California had purchased the drilling rights to the land where the discovery well was located. BP had drilling rights near the discovery well. ARCO acquired Sinclair Oil Corporation in 1969 but later divested certain Sinclair assets during the mid1970s resulting in Sinclair returning as a private company.\", \"mimetype\": \"text/plain\", \"start_char_idx\": 0, \"end_char_idx\": 4421, \"metadata_seperator\": \"\\n\", \"text_template\": \"{metadata_str}\\n\\n{content}\", \"class_name\": \"TextNode\"}\n",
      "_node_type: TextNode\n",
      "document_id: 618143ae-6e87-48ef-939e-356255120d2f\n",
      "doc_id: 618143ae-6e87-48ef-939e-356255120d2f\n",
      "ref_doc_id: 618143ae-6e87-48ef-939e-356255120d2f\n",
      "\n",
      "\n",
      "Text:\n",
      "['American oil company For other uses see Arco disambiguation . Atlantic Richfield Company Logo used from 19702000 still used as a secondary logo Trade name ARCO Company type Subsidiary Industry Petroleum Predecessor Atlantic Petroleum Richfield Oil Corporation Founded January\\xa03 1966  59 years ago  19660103  Defunct April\\xa018\\xa02000  25 years ago  20000418  Fate Acquired by BP  brand now owned by Marathon Petroleum Corporation Headquarters New York City 19661971 Los Angeles California 19712000 Houston Texas 20002012 San Antonio Texas 20122018 Findlay Ohio 2018present Number of locations 1200 in 2000 Area served United States Owner Marathon Petroleum Corporation Website arco.com ARCO   ˈ ɑːr k oʊ  AR koh  is a brand of gasoline stations owned by Marathon Petroleum . BP  which formerly owned the brand uses it in California  Oregon and Washington  while Marathon has rights for the rest of the United States and Mexico.  1  ARCO was established in 1966 as the Atlantic Richfield Company an independent oil and gas company formed from the merger of Atlantic Petroleum and the Richfield Oil Corporation . History  edit  From 1966 to 2000 the Atlantic Richfield Company doing business as ARCO was an independent American oil company with operations in the United States Indonesia the North Sea  the South China Sea and Mexico .  2  After its acquisition of Anaconda Copper Mining Company in 1977 ARCO had owned hard rock mines in several western states which has created environmental cleanup liabilities to the company to this day even after the mines were closed in the early 1980s. In 2000 BP Amoco now BP acquired ARCO for 26.8 billion.  3   4  ARCOs retail and marketing operations were kept separate while the rest of the company was integrated into BP. In 2012 BP sold its Carson refinery 800 ARCO stations in California Arizona and Nevada and the ownership of the ARCO brand to Tesoro for 2.5 billion while paying Tesoro for an exclusive license for use of the ARCO brand on its stations in northern California Oregon and Washington which will be continued to be supplied from BPs Cherry Point Refinery in Washington state.  5  BP has retained the Atlantic Richfield Company as a subsidiary to handle environmental claims against BP for the cleanup of former Anaconda mine properties.  6   7  Early period  edit  ARCO was formed by the merger of East Coast based Atlantic Refining and Californiabased Richfield Oil Corporation in 1966 the companys name is an acronym of the two companies names. A merger in 1969 brought in Sinclair Oil Corporation .  2  In the 1970s and 80s ARCO was one of the largest companies in the world consistently a top 20 company of the Fortune 500.  8  After its subsequent fracture in the late 1980s and early 90s ARCO became a subsidiary of UKbased BP plc in 2000 through its BP West Coast Products LLC BPWCP affiliate.  9  The Atlantic Petroleum Storage Companys heritage dates back to 1866. It became part of the Standard Oil trust in 1874 but achieved independence again when Standard Oil was broken up in 1911. In 1915 Atlantic opens its first filling station on Baum Boulevard in Pittsburgh Pennsylvania . In 1917 First Richfield Oil Company of California gas station at Slauson and Central Avenues in Los Angeles  California.  Richfield Oil Company of California logo is an Eagle trademark. The Atlantic Refining Company was headquartered in Philadelphia Pennsylvania . In 1966 Atlantic merged with the Richfield Oil Company of California. The first CEO was Robert Orville Anderson  who had previously led Atlantic. The trademark for the new company a red diamond shape called the ARCO Spark was designed by Bauhaus artist designer and architect Herbert Bayer . Commercial oil exploration started in Prudhoe Bay Alaska in the 1960s and the Prudhoe Bay Oil Field  North Americas largest oil field was discovered on March 12 1968 by Atlantic Richfield Company ARCO and Exxon with the well Prudhoe Bay State 1. Key employees with ARCO Alaska were Marvin Mangus  John M. Sweet and William D. Leake chief project engineer for the Alaska pipeline. The Richfield Oil Company of California had purchased the drilling rights to the land where the discovery well was located. BP had drilling rights near the discovery well. ARCO acquired Sinclair Oil Corporation in 1969 but later divested certain Sinclair assets during the mid1970s resulting in Sinclair returning as a private company.']\n",
      "\n",
      "Embedding:\n",
      "[0.026827717199921608, -0.0028667226433753967, -0.021030835807323456, -0.04602261260151863, -0.013445116579532623, -0.040296271443367004, 0.027767229825258255, -0.006485381629317999, -0.05236437916755676, 0.04268112778663635, 0.01548380870372057, -0.014718499965965748, -0.01819959469139576, -0.02479657344520092, -0.009272062219679356, -0.008578208275139332, 0.02219623140990734, -0.01113633718341589, -0.002137020230293274, -0.002582327928394079, 0.0031279444228857756, 0.009061107411980629, 0.01034725084900856, -0.03575862944126129, 0.016690824180841446, 0.011241031810641289, -0.02921522594988346, 0.03253624215722084, 0.051035936921834946, 0.062387190759181976, -0.03642328828573227, -0.025235798209905624, -0.04295860230922699, 0.051840029656887054, 0.030860794708132744, -0.01516278088092804, -0.03412279486656189, -0.024777041748166084, 0.07888133823871613, 0.006858147215098143, 0.031469639390707016, 0.0675899088382721, 0.06284257024526596, 0.039417900145053864, 0.011170431971549988, 0.06531602889299393, -0.06857186555862427, 0.028363944962620735, 0.02388254553079605, -0.021605802699923515, 0.029273584485054016, 0.007812702096998692, 0.07308974862098694, -0.030364127829670906, -0.03849073126912117, 0.004126003943383694, 0.0207890085875988, 0.0910215750336647, -0.06757526099681854, -0.03315865620970726, 0.030355505645275116, 0.023175818845629692, -0.022854279726743698, -0.025801483541727066, 0.02157893404364586, 0.054881900548934937, 0.02089909091591835, -9.486217459198087e-05, -0.012619816698133945, -0.0308096781373024, -0.01712123118340969, -0.024796461686491966, 0.007211362011730671, -0.003369144629687071, -0.007988226599991322, 0.04180505871772766, -0.04277676343917847, -0.023815520107746124, -0.00312547804787755, 0.021326551213860512, 0.03790901601314545, 0.05823979526758194, -0.0618705116212368, 0.010639205574989319, -0.05208103731274605, 0.03535979241132736, 0.04508325457572937, 0.040129512548446655, -0.01783958449959755, 0.0419134646654129, 0.030398845672607422, 0.001785105443559587, -0.022990109398961067, -0.059939898550510406, 0.012020564638078213, -0.024134837090969086, -0.03713931143283844, -0.003189360722899437, -0.023025643080472946, -0.014807743020355701, 0.05627121776342392, 0.06128460541367531, -0.058569759130477905, -0.04490358754992485, -0.06726863980293274, 0.0417892225086689, 0.004048466216772795, -0.05341651290655136, 0.029714222997426987, 0.028215516358613968, -0.08186152577400208, 0.0164423119276762, 0.04785938933491707, 0.09188172221183777, 0.03326893597841263, -0.026393143460154533, -0.021735532209277153, -0.03862084448337555, 0.014971058815717697, -0.029833219945430756, 0.03935285657644272, 0.009225885383784771, -0.07132938504219055, -0.004539587069302797, 0.02790755406022072, 0.020636124536395073, -0.038704510778188705, -0.07866958528757095, -0.02700365148484707, -0.03173699975013733, -0.06366359442472458, -0.01800154335796833, -0.0059593552723526955, -0.055742111057043076, 0.02130199782550335, 0.007615907117724419, 0.021495232358574867, -0.026739174500107765, 0.0035485634580254555, -0.01434753742069006, 0.005664217751473188, -0.03242098540067673, -0.029039716348052025, -0.06569868326187134, -0.010151760652661324, 0.08942357450723648, -0.013887994922697544, 0.05495324730873108, -0.026495451107621193, 0.03765656799077988, 0.04365602508187294, 0.03502848744392395, -0.10301653295755386, 0.0226833987981081, -0.04688321799039841, -0.024629075080156326, -0.040741678327322006, 0.05079394951462746, -0.06289058178663254, 0.002320534083992243, 0.07076042145490646, -0.03365587443113327, 0.03470182791352272, -0.032526928931474686, 0.0064651817083358765, -0.01497328095138073, -0.01030417438596487, -0.02167225070297718, -0.005379742477089167, -0.0003130222321487963, 0.05796419084072113, -0.06838463246822357, -0.00819757767021656, -0.030485456809401512, -0.022019563242793083, -0.013952856883406639, 0.03808370977640152, 0.0025977694895118475, 0.07386867702007294, 0.016078351065516472, 0.009935232810676098, 0.050937384366989136, -0.03446926176548004, 0.016518142074346542, -0.0504196472465992, -0.052218224853277206, -0.1204553171992302, 0.049865495413541794, -0.007993836887180805, -0.01655781827867031, -0.04177354276180267, -0.009658008813858032, 0.004811474122107029, 0.012627807445824146, -0.045803043991327286, 0.037415213882923126, -0.005117886234074831, -0.007064842619001865, -0.008962814696133137, -0.06444559246301651, 0.0022602728568017483, -0.06820542365312576, -0.055737242102622986, 0.030841361731290817, -0.02631806582212448, 0.04996319115161896, -0.041877176612615585, 0.10304336249828339, -0.03547844663262367, 0.03200216591358185, -0.02691471204161644, -0.03610546141862869, -0.0077019305899739265, -0.018698450177907944, 0.009921572171151638, -0.017693696543574333, 0.011138863861560822, 0.023544227704405785, 0.019816789776086807, 0.02468893676996231, -0.02844712696969509, -0.10865205526351929, -0.02882777899503708, -0.07081539183855057, -0.008503250777721405, 0.016583586111664772, 0.018772056326270103, 0.04577401652932167, -0.053080618381500244, -0.0033853352069854736, -0.011402912437915802, 0.0005251049879007041, 0.028061725199222565, 0.020599881187081337, 0.04992495849728584, 0.04549413546919823, -0.00927658285945654, -0.02397737465798855, -0.06182543560862541, 0.006578241009265184, -0.08456648141145706, -0.07765477150678635, -0.022948799654841423, -0.016298657283186913, -0.008862975984811783, 0.0052278614602983, -0.030107256025075912, -0.014925886876881123, -0.04338344931602478, -0.02318795584142208, 0.05215435102581978, -0.024332284927368164, 0.03425831347703934, 0.05767923593521118, -0.02683895267546177, 0.07549502700567245, 0.019314086064696312, 0.007050271145999432, 0.057948168367147446, -0.048186853528022766, 0.02321460098028183, -0.03930695354938507, 0.002234298037365079, 0.026946183294057846, -0.015145392157137394, -0.04555007070302963, 0.009162036702036858, 0.03156914561986923, -0.020678909495472908, -0.0002955803065560758, -0.051770586520433426, 0.023524127900600433, 0.054275624454021454, 0.04113564267754555, -9.048590436577797e-05, -0.016566313803195953, -0.03518607094883919, 0.0015234890161082149, -0.045635879039764404, -0.02695596031844616, 0.03694254159927368, 0.0147464070469141, 0.02101055718958378, 0.022450963035225868, -0.037834491580724716, -0.027360795065760612, -0.0005605734186246991, -0.01538136787712574, -0.01188560388982296, -0.07673092931509018, -0.050930045545101166, -0.05448198691010475, 0.06858821213245392, 0.0008643450564704835, 0.004979196935892105, -0.042892973870038986, -0.023560358211398125, 0.034946683794260025, 0.024751445278525352, 0.009076160378754139, -0.032066699117422104, -0.02459692768752575, -0.014879286289215088, -0.0007577310316264629, 0.039013948291540146, -0.024311264976859093, -0.007282759062945843, 0.006706405896693468, 0.030202215537428856, -0.026036839932203293, 0.028789648786187172, -0.013973396271467209, 0.032290611416101456, -0.052311867475509644, 0.049366217106580734, -0.010747630149126053, 0.004271413665264845, -0.08774881809949875, -0.009310179390013218, 0.031006237491965294, 2.004398629651405e-05, 0.042507484555244446, -0.02830866165459156, 0.0173701960593462, 0.0032238306012004614, 0.01486901380121708, -0.022144360467791557, 0.05638362094759941, 0.025171414017677307, 0.005732832942157984, -0.03203336149454117, 0.03358255699276924, 0.031859349459409714, 0.001508679473772645, 0.051774293184280396, -0.0162007138133049, -0.07750819623470306, -0.003415083745494485, -0.031128382310271263, -0.03762800619006157, 0.03687909618020058, -0.0413324199616909, -0.04934680089354515, 0.0014966150047257543, -0.007556937634944916, 0.046862583607435226, 0.05491550639271736, -0.055682212114334106, 0.027931122109293938, 0.029781965538859367, 0.0005899420357309282, -0.01686841994524002, 0.037594690918922424, -0.10684972256422043, 0.006241803988814354, 0.0152797382324934, 0.019131792709231377, -0.02541293576359749, -0.06861858069896698, -0.013598963618278503, -0.03878200054168701, -0.009602737613022327, -0.016477050259709358, -0.01100084837526083, -0.044366493821144104, 0.05241461843252182, 3.732397817657329e-05, 0.013704690150916576, -0.007105723954737186, -0.026620514690876007, 0.007106546778231859, 0.09887586534023285, -0.00806240364909172, 0.022589728236198425, 0.04622943699359894, 0.015057237818837166, 0.06087899208068848, -0.0010050968267023563, -7.39526076358743e-05, 0.07766273617744446, -0.01679944060742855, 0.023417694494128227, 0.0402875617146492, -0.01444861851632595, -0.014995756559073925, -0.011702007614076138, 0.00463103037327528, -0.02457723580300808, -0.024704935029149055, 0.011259322986006737, 0.007857687771320343, -0.007521874271333218, -0.039987098425626755, -0.030880777165293694, -0.04505092278122902, -0.00392670975998044, 0.014420687220990658, -0.012842205353081226, 0.02991757169365883, 0.007154436316341162, -0.06042791157960892, 0.025486597791314125, -0.0036480817943811417, 0.049501508474349976, 0.028514953330159187, -0.03372468799352646, 0.0897650197148323, -0.06660643219947815, 0.005014215596020222, -0.002391708781942725, -0.020021215081214905, -0.00892133079469204, -0.0011260913452133536, 0.028447628021240234, -0.04734479635953903, -0.01856410689651966, -0.04496041312813759, 0.004414545837789774, -0.023948147892951965, -0.05072537809610367, -0.025284331291913986, 0.03200778737664223, 0.0072923097759485245, 0.0029260909650474787, -0.046126589179039, -0.0050969114527106285, 0.017405198886990547, 0.016916915774345398, 0.00030235230224207044, -0.062297508120536804, 0.0072070034220814705, -0.02042539231479168, -0.02950388379395008, 0.040827929973602295, -0.03629298508167267, 0.06709712743759155, 0.05411515757441521, 0.033971402794122696, -0.026970786973834038, 0.03702360764145851, -0.019513016566634178, -0.048744987696409225, -0.01452674251049757, -0.008971883915364742, 0.02195451222360134, 0.056744277477264404, 0.02905285358428955, 0.04775262996554375, 0.022053848952054977, -0.015387965366244316, -0.05136678367853165, -0.02571931481361389, 0.03222132846713066, -0.037789735943078995, 0.015602892264723778, 0.05753356218338013, 0.03701823949813843, 0.041611891239881516, 0.020276090130209923, -0.022412588819861412, -0.03251632675528526, 0.0001425502705387771, -0.01055955234915018, -0.014901833608746529, 0.02367420308291912, 0.019721709191799164, 0.029075181111693382, -0.008162591606378555, -0.007131411228328943, -0.06752398610115051, -0.030489981174468994, -0.01904778927564621, -0.020760849118232727, 0.04888026788830757, 0.0400642454624176, 0.007383653428405523, 0.04476818069815636, -0.05695362761616707, -0.04488551989197731, 0.020510930567979813, 0.05940179526805878, -0.005893031135201454, -0.007338166236877441, 0.027421103790402412, 0.08963673561811447, -0.01670653559267521, 0.01815873011946678, -0.013432965613901615, 0.023711344227194786, 0.025760959833860397, 0.042604345828294754, 0.03392418846487999, 0.04408806562423706, 0.04300515726208687, -0.030623363330960274, 0.03686109185218811, -0.017051750794053078, -0.046260058879852295, 0.05695740878582001, 0.02799595333635807, 0.015368761494755745, 0.016530051827430725, -0.0273189228028059, -0.016218170523643494, -0.020637892186641693, 0.04489841312170029, 0.021304786205291748, 0.03458261862397194, -0.014245033264160156, -0.015738723799586296, 0.0029966961592435837, 0.03832322359085083, 0.01521898340433836, -0.0017669321969151497, 0.09292377531528473, 0.028350841253995895, -0.021788254380226135, -0.025041790679097176, 0.06237036734819412, 0.005333203822374344, 0.03616369888186455, 0.022692769765853882, -0.03804976865649223, -0.02906467579305172, 0.009452632628381252, 0.01817244663834572, -0.019173040986061096, 0.04837070778012276, -0.0014212675159797072, -0.024433478713035583, -0.06731725484132767, -0.07708410918712616, 0.07923281937837601, -0.004596871789544821, 0.00956785585731268, -0.015788329765200615, 0.05361541733145714, -0.016467267647385597, -0.021779116243124008, 0.006032876204699278, 0.020004013553261757, 0.016028692945837975, -0.02583896927535534, -0.06752912700176239, -0.025963829830288887, -0.04283256456255913, 0.027674710378050804, 0.010528246872127056, -0.008205895312130451, 0.014332504011690617, -0.024053504690527916, -0.012134925462305546, 0.09282336384057999, -0.014857395552098751, -0.02187553234398365, 0.06132625788450241, 0.0027236018795520067, 0.05304107815027237, -0.01418651919811964, -0.016846589744091034, 0.015993298962712288, 0.004947728477418423, 0.026276396587491035, -0.007710759527981281, -0.027801675722002983, -0.02054567262530327, -0.053719088435173035, -0.0431416779756546, 0.05062795802950859, 0.02211022935807705, 0.08194086700677872, -0.025485418736934662, -0.003077898873016238, 0.016347551718354225, 0.02786577120423317, -0.04345455765724182, -0.007019790820777416, 0.0009933264227584004, -0.022116735577583313, -0.025531010702252388, -0.018198953941464424, 0.0455743707716465, 0.04016854241490364, 0.004440213553607464, 0.017073804512619972, -0.06231525540351868, 0.06247955560684204, -0.037710487842559814, -0.04898858815431595, 0.02888113632798195, 0.03253348544239998, 0.025446662679314613, 0.03585309162735939, -0.007333802990615368, -0.003765238681808114, -0.0030698347836732864, 0.004717957228422165, -0.034353889524936676, 0.03046700358390808, 0.004930095747113228, 0.04436212405562401, 0.02442687749862671, -0.022533677518367767, 0.03964472934603691, -0.011849039234220982, 0.0013021264458075166, 0.009520982392132282, 0.04570724070072174, -0.002610139548778534, 0.059398408979177475, -0.016722753643989563, -0.043135132640600204, -0.036366045475006104, 0.024945419281721115, 0.005909930448979139, 0.03962128236889839, -0.013038321398198605, -0.017254400998353958, 0.10944435745477676, -0.04139772057533264, -0.05431732162833214, 0.01674310304224491, -0.029255520552396774, 0.016510190442204475, 0.013121954165399075, -0.036546312272548676, -0.04434739425778389, -0.0024729210417717695, 0.02534409984946251, -0.029243163764476776, 0.03374607115983963, 0.02244403026998043, 0.01601877063512802, 0.028329890221357346, 0.003114949446171522, -0.013713452033698559, -0.0037243543192744255, 0.0006630930001847446, 0.0260125994682312, -0.023339731618762016, 0.03522130101919174, -0.025846431031823158, 0.05142192170023918, 0.004925690125674009, -0.011831441894173622, -0.0584535151720047, -0.04872392117977142, 0.01999347284436226, -0.0053096855990588665, 0.048411495983600616, 0.018951190635561943, 0.00939322728663683, -0.0004222012939862907, 0.03379494696855545, 0.05337255075573921, -0.0014413578901439905, -0.025362463667988777, -0.06185952201485634, 0.006621805019676685, -0.026809755712747574, -0.008843749761581421, -0.02709340862929821, 0.028070827946066856, -0.04132959991693497, -0.03822963684797287, -0.01250966265797615, -0.0023112420458346605, 0.022964825853705406, 0.0428837426006794, 0.0017139249248430133, -0.015530909411609173, -0.03289267420768738, 0.02787913754582405, 0.03681356832385063, -0.002559925662353635, -0.030205540359020233, 0.04060148447751999, -0.0474652424454689, -0.03511993587017059, -0.01703057996928692, -0.07179286330938339, -0.061656851321458817, -0.07060281187295914, 0.009753032587468624, 0.0067399549297988415, -0.0037278467789292336, 0.0032164405565708876, -0.018424415960907936, 0.006081003230065107, 0.037644073367118835, -0.015213726088404655, -0.05705053359270096, -0.0030216362792998552, 0.05352757126092911, -0.0030772630125284195, 0.00693173985928297, -0.008212970569729805, 0.003125722287222743, 0.05170911177992821, 0.030783915892243385, -0.05413006991147995, 0.03133157640695572, 0.05196620896458626, -0.006112754810601473, -0.050490304827690125, -0.04498312249779701, 0.01822400838136673, -0.0252142995595932, -0.009227481670677662, 0.004696918185800314, 0.023699741810560226, -0.03043149970471859, 0.0009865382453426719, 0.023389965295791626, 0.006813734769821167, -0.0061713759787380695, 0.00955231674015522, -0.021082554012537003, 0.05027411878108978, -0.027460016310214996, 0.06104496493935585, -0.00036007986636832356, 0.011767047457396984, 0.0010114387841895223, 0.007377503905445337, -0.015130258165299892, 0.0237297210842371, -0.02992495521903038, -0.04937443509697914, 0.02250494621694088, 0.012847070582211018, -0.0046306937001645565, -0.0009234666940756142, 0.014804394915699959, -0.008275417611002922, -0.011855598539113998, -0.05743438005447388, 0.012903515249490738, 0.015876155346632004, -0.0035363975912332535, 0.02345241606235504, 0.09287254512310028, 0.04096761718392372, -0.051076531410217285, -0.0028683673590421677, 0.017430687323212624, 0.005201946943998337, 0.035130575299263, 0.0012292643077671528, -0.07438434660434723, 0.019095124676823616, -0.04691438749432564, -0.04011308029294014, -0.0013748909113928676, 0.003965666517615318, 0.062096770852804184, 0.011686551384627819, 0.008436434902250767, 0.014934061095118523, 0.02318175695836544, -0.01148937363177538, 0.015224340371787548, 0.04812822863459587, -0.04161418601870537, 0.03592583164572716, 0.016093626618385315, -0.025446398183703423, -0.04574272409081459]\n",
      "\n"
     ]
    }
   ],
   "source": [
    "# Function to display a selected record\n",
    "def display_record(record_number):\n",
    "    record = df.iloc[record_number]\n",
    "    display_data = {\n",
    "        \"ID\": record.get(\"id\", \"N/A\"),\n",
    "        \"Metadata\": record.get(\"metadata\", \"N/A\"),\n",
    "        \"Text\": record.get(\"text\", \"N/A\"),\n",
    "        \"Embedding\": record.get(\"embedding\", \"N/A\")\n",
    "    }\n",
    "\n",
    "    # Print the ID\n",
    "    print(\"ID:\")\n",
    "    print(display_data[\"ID\"])\n",
    "    print()\n",
    "\n",
    "    # Print the metadata in a structured format\n",
    "    print(\"Metadata:\")\n",
    "    metadata = display_data[\"Metadata\"]\n",
    "    if isinstance(metadata, list):\n",
    "        for item in metadata:\n",
    "            for key, value in item.items():\n",
    "                print(f\"{key}: {value}\")\n",
    "            print()\n",
    "    else:\n",
    "        print(metadata)\n",
    "    print()\n",
    "\n",
    "    # Print the text\n",
    "    print(\"Text:\")\n",
    "    print(display_data[\"Text\"])\n",
    "    print()\n",
    "\n",
    "    # Print the embedding\n",
    "    print(\"Embedding:\")\n",
    "    print(display_data[\"Embedding\"])\n",
    "    print()\n",
    "\n",
    "# Example usage\n",
    "rec = 0  # Replace with the desired record number\n",
    "display_record(rec)"
   ]
  },
  {
   "cell_type": "markdown",
   "id": "52a9728a",
   "metadata": {},
   "source": [
    "## Pipeline 3: Knowledge graph index-based RAG"
   ]
  },
  {
   "cell_type": "code",
   "execution_count": 60,
   "id": "e26db46a",
   "metadata": {},
   "outputs": [],
   "source": [
    "from llama_index.core import Document\n",
    "\n",
    "# Ensure 'text' column is of type string\n",
    "df['text'] = df['text'].astype(str)\n",
    "# Create documents with IDs\n",
    "documents = [Document(text=row['text'], doc_id=str(row['id'])) for _, row in df.iterrows()]"
   ]
  },
  {
   "cell_type": "markdown",
   "id": "dff84fe2",
   "metadata": {},
   "source": [
    "### Generating the graph index"
   ]
  },
  {
   "cell_type": "code",
   "execution_count": 61,
   "id": "7e469233",
   "metadata": {},
   "outputs": [
    {
     "name": "stdout",
     "output_type": "stream",
     "text": [
      "Error extracting triplets for text chunk: Error code: 400, with error text {\"contentFilter\":[{\"level\":1,\"role\":\"user\"}],\"error\":{\"code\":\"1301\",\"message\":\"系统检测到输入或生成内容可能包含不安全或敏感内容，请您避免输入易产生敏感内容的提示语，感谢您的配合。\"}}\n",
      "Index creation time: 1008.9247 seconds\n"
     ]
    }
   ],
   "source": [
    "from llama_index.core import KnowledgeGraphIndex\n",
    "import time\n",
    "from typing import List\n",
    "\n",
    "# Start the timer\n",
    "start_time = time.time()\n",
    "\n",
    "class RobustKnowledgeGraphIndex(KnowledgeGraphIndex):\n",
    "    def _extract_triplets(self, text: str) -> List[tuple]:\n",
    "        \"\"\"Extract triplets with error handling to ignore failures.\"\"\"\n",
    "        try:\n",
    "            # Call the parent class's triplet extraction method\n",
    "            return super()._extract_triplets(text)\n",
    "        except Exception as e:\n",
    "            # Log the error (optional) and return an empty list to continue processing\n",
    "            print(f\"Error extracting triplets for text chunk: {e}\")\n",
    "            return []\n",
    "\n",
    "# Graph index with embeddings\n",
    "graph_index = RobustKnowledgeGraphIndex.from_documents(\n",
    "    documents,\n",
    "    max_triplets_per_chunk=5,\n",
    "    include_embeddings=True,\n",
    "    show_progress=False,\n",
    ")\n",
    "\n",
    "# Stop the timer\n",
    "end_time = time.time()\n",
    "\n",
    "# Calculate and print the execution time\n",
    "elapsed_time = end_time - start_time\n",
    "print(f\"Index creation time: {elapsed_time:.4f} seconds\")"
   ]
  },
  {
   "cell_type": "code",
   "execution_count": 65,
   "id": "5cc7dad7",
   "metadata": {},
   "outputs": [
    {
     "name": "stdout",
     "output_type": "stream",
     "text": [
      "<class '__main__.RobustKnowledgeGraphIndex'>\n"
     ]
    }
   ],
   "source": [
    "print(type(graph_index))\n",
    "\n",
    "# Save the graph index to a file\n",
    "graph_saving_path = \"./dataset/graph_index\"\n",
    "graph_index.storage_context.persist(persist_dir=graph_saving_path)"
   ]
  },
  {
   "cell_type": "code",
   "execution_count": 66,
   "id": "53804c19",
   "metadata": {},
   "outputs": [],
   "source": [
    "# similarity_top_k\n",
    "k = 3\n",
    "# temperature\n",
    "temp = 0.1\n",
    "# number_output\n",
    "mt = 1024\n",
    "graph_query_engine = graph_index.as_query_engine(similarity_top_k=k, temperature=temp, num_output=mt)"
   ]
  },
  {
   "cell_type": "markdown",
   "id": "40bfe516",
   "metadata": {},
   "source": [
    "### Displaying the graph"
   ]
  },
  {
   "cell_type": "code",
   "execution_count": 75,
   "id": "278073b4",
   "metadata": {},
   "outputs": [],
   "source": [
    "## create graph\n",
    "from pyvis.network import Network\n",
    "\n",
    "g = graph_index.get_networkx_graph()\n",
    "net = Network(notebook=True, cdn_resources=\"in_line\", directed=True)\n",
    "net.from_nx(g)\n",
    "\n",
    "# Set node and edge properties: colors and sizes\n",
    "for node in net.nodes:\n",
    "    node['color'] = 'lightgray'\n",
    "    node['size'] = 10\n",
    "\n",
    "for edge in net.edges:\n",
    "    edge['color'] = 'black'\n",
    "    edge['width'] = 1"
   ]
  },
  {
   "cell_type": "code",
   "execution_count": 77,
   "id": "74c253e7",
   "metadata": {},
   "outputs": [
    {
     "name": "stdout",
     "output_type": "stream",
     "text": [
      "Knowledge_graph_Solar_cell.html\n"
     ]
    }
   ],
   "source": [
    "\n",
    "\n",
    "fgraph=\"Knowledge_graph_\"+ topic_name + \".html\"\n",
    "net.write_html(fgraph)\n",
    "print(fgraph)\n",
    "\n"
   ]
  },
  {
   "cell_type": "markdown",
   "id": "06cca3cb",
   "metadata": {},
   "source": [
    "## Interacting with the Knowledge graph index"
   ]
  },
  {
   "cell_type": "code",
   "execution_count": 5,
   "id": "ebb36af7",
   "metadata": {},
   "outputs": [
    {
     "ename": "ValueError",
     "evalue": "\n******\nCould not load OpenAI model. If you intended to use OpenAI, please check your OPENAI_API_KEY.\nOriginal error:\nNo API key found for OpenAI.\nPlease set either the OPENAI_API_KEY environment variable or openai.api_key prior to initialization.\nAPI keys can be found or created at https://platform.openai.com/account/api-keys\n\nTo disable the LLM entirely, set llm=None.\n******",
     "output_type": "error",
     "traceback": [
      "\u001b[31m---------------------------------------------------------------------------\u001b[39m",
      "\u001b[31mValueError\u001b[39m                                Traceback (most recent call last)",
      "\u001b[36mFile \u001b[39m\u001b[32m~/github/RAG-pR/.venv/lib/python3.13/site-packages/llama_index/core/llms/utils.py:42\u001b[39m, in \u001b[36mresolve_llm\u001b[39m\u001b[34m(llm, callback_manager)\u001b[39m\n\u001b[32m     41\u001b[39m     llm = OpenAI()\n\u001b[32m---> \u001b[39m\u001b[32m42\u001b[39m     \u001b[43mvalidate_openai_api_key\u001b[49m\u001b[43m(\u001b[49m\u001b[43mllm\u001b[49m\u001b[43m.\u001b[49m\u001b[43mapi_key\u001b[49m\u001b[43m)\u001b[49m  \u001b[38;5;66;03m# type: ignore\u001b[39;00m\n\u001b[32m     43\u001b[39m \u001b[38;5;28;01mexcept\u001b[39;00m \u001b[38;5;167;01mImportError\u001b[39;00m:\n",
      "\u001b[36mFile \u001b[39m\u001b[32m~/github/RAG-pR/.venv/lib/python3.13/site-packages/llama_index/llms/openai/utils.py:780\u001b[39m, in \u001b[36mvalidate_openai_api_key\u001b[39m\u001b[34m(api_key)\u001b[39m\n\u001b[32m    779\u001b[39m \u001b[38;5;28;01mif\u001b[39;00m \u001b[38;5;129;01mnot\u001b[39;00m openai_api_key:\n\u001b[32m--> \u001b[39m\u001b[32m780\u001b[39m     \u001b[38;5;28;01mraise\u001b[39;00m \u001b[38;5;167;01mValueError\u001b[39;00m(MISSING_API_KEY_ERROR_MESSAGE)\n",
      "\u001b[31mValueError\u001b[39m: No API key found for OpenAI.\nPlease set either the OPENAI_API_KEY environment variable or openai.api_key prior to initialization.\nAPI keys can be found or created at https://platform.openai.com/account/api-keys\n",
      "\nDuring handling of the above exception, another exception occurred:\n",
      "\u001b[31mValueError\u001b[39m                                Traceback (most recent call last)",
      "\u001b[36mCell\u001b[39m\u001b[36m \u001b[39m\u001b[32mIn[5]\u001b[39m\u001b[32m, line 8\u001b[39m\n\u001b[32m      6\u001b[39m graph_saving_path = \u001b[33m\"\u001b[39m\u001b[33m./dataset/graph_index\u001b[39m\u001b[33m\"\u001b[39m\n\u001b[32m      7\u001b[39m storage_context = StorageContext.from_defaults(persist_dir=graph_saving_path)\n\u001b[32m----> \u001b[39m\u001b[32m8\u001b[39m graph_index = \u001b[43mload_graph_from_storage\u001b[49m\u001b[43m(\u001b[49m\u001b[43mstorage_context\u001b[49m\u001b[43m,\u001b[49m\u001b[43m \u001b[49m\u001b[32;43m0\u001b[39;49m\u001b[43m)\u001b[49m\n\u001b[32m     10\u001b[39m \u001b[38;5;28;01mdef\u001b[39;00m\u001b[38;5;250m \u001b[39m\u001b[34mexecute_query\u001b[39m(user_input, k=\u001b[32m3\u001b[39m, temp=\u001b[32m0.1\u001b[39m, mt=\u001b[32m1024\u001b[39m):\n\u001b[32m     11\u001b[39m \n\u001b[32m     12\u001b[39m     \u001b[38;5;66;03m# Start the timer\u001b[39;00m\n\u001b[32m     13\u001b[39m     start_time = time.time()\n",
      "\u001b[36mFile \u001b[39m\u001b[32m~/github/RAG-pR/.venv/lib/python3.13/site-packages/llama_index/core/indices/loading.py:104\u001b[39m, in \u001b[36mload_graph_from_storage\u001b[39m\u001b[34m(storage_context, root_id, **kwargs)\u001b[39m\n\u001b[32m     89\u001b[39m \u001b[38;5;28;01mdef\u001b[39;00m\u001b[38;5;250m \u001b[39m\u001b[34mload_graph_from_storage\u001b[39m(\n\u001b[32m     90\u001b[39m     storage_context: StorageContext,\n\u001b[32m     91\u001b[39m     root_id: \u001b[38;5;28mstr\u001b[39m,\n\u001b[32m     92\u001b[39m     **kwargs: Any,\n\u001b[32m     93\u001b[39m ) -> ComposableGraph:\n\u001b[32m     94\u001b[39m \u001b[38;5;250m    \u001b[39m\u001b[33;03m\"\"\"\u001b[39;00m\n\u001b[32m     95\u001b[39m \u001b[33;03m    Load composable graph from storage context.\u001b[39;00m\n\u001b[32m     96\u001b[39m \n\u001b[32m   (...)\u001b[39m\u001b[32m    102\u001b[39m \n\u001b[32m    103\u001b[39m \u001b[33;03m    \"\"\"\u001b[39;00m\n\u001b[32m--> \u001b[39m\u001b[32m104\u001b[39m     indices = \u001b[43mload_indices_from_storage\u001b[49m\u001b[43m(\u001b[49m\u001b[43mstorage_context\u001b[49m\u001b[43m,\u001b[49m\u001b[43m \u001b[49m\u001b[43mindex_ids\u001b[49m\u001b[43m=\u001b[49m\u001b[38;5;28;43;01mNone\u001b[39;49;00m\u001b[43m,\u001b[49m\u001b[43m \u001b[49m\u001b[43m*\u001b[49m\u001b[43m*\u001b[49m\u001b[43mkwargs\u001b[49m\u001b[43m)\u001b[49m\n\u001b[32m    105\u001b[39m     all_indices = {index.index_id: index \u001b[38;5;28;01mfor\u001b[39;00m index \u001b[38;5;129;01min\u001b[39;00m indices}\n\u001b[32m    106\u001b[39m     \u001b[38;5;28;01mreturn\u001b[39;00m ComposableGraph(all_indices=all_indices, root_id=root_id)\n",
      "\u001b[36mFile \u001b[39m\u001b[32m~/github/RAG-pR/.venv/lib/python3.13/site-packages/llama_index/core/indices/loading.py:82\u001b[39m, in \u001b[36mload_indices_from_storage\u001b[39m\u001b[34m(storage_context, index_ids, **kwargs)\u001b[39m\n\u001b[32m     80\u001b[39m     type_ = index_struct.get_type()\n\u001b[32m     81\u001b[39m     index_cls = INDEX_STRUCT_TYPE_TO_INDEX_CLASS[type_]\n\u001b[32m---> \u001b[39m\u001b[32m82\u001b[39m     index = \u001b[43mindex_cls\u001b[49m\u001b[43m(\u001b[49m\n\u001b[32m     83\u001b[39m \u001b[43m        \u001b[49m\u001b[43mindex_struct\u001b[49m\u001b[43m=\u001b[49m\u001b[43mindex_struct\u001b[49m\u001b[43m,\u001b[49m\u001b[43m \u001b[49m\u001b[43mstorage_context\u001b[49m\u001b[43m=\u001b[49m\u001b[43mstorage_context\u001b[49m\u001b[43m,\u001b[49m\u001b[43m \u001b[49m\u001b[43m*\u001b[49m\u001b[43m*\u001b[49m\u001b[43mkwargs\u001b[49m\n\u001b[32m     84\u001b[39m \u001b[43m    \u001b[49m\u001b[43m)\u001b[49m\n\u001b[32m     85\u001b[39m     indices.append(index)\n\u001b[32m     86\u001b[39m \u001b[38;5;28;01mreturn\u001b[39;00m indices\n",
      "\u001b[36mFile \u001b[39m\u001b[32m~/github/RAG-pR/.venv/lib/python3.13/site-packages/llama_index/core/indices/knowledge_graph/base.py:98\u001b[39m, in \u001b[36mKnowledgeGraphIndex.__init__\u001b[39m\u001b[34m(self, nodes, objects, index_struct, llm, embed_model, storage_context, kg_triplet_extract_template, max_triplets_per_chunk, include_embeddings, show_progress, max_object_length, kg_triplet_extract_fn, **kwargs)\u001b[39m\n\u001b[32m     95\u001b[39m \u001b[38;5;28mself\u001b[39m._max_object_length = max_object_length\n\u001b[32m     96\u001b[39m \u001b[38;5;28mself\u001b[39m._kg_triplet_extract_fn = kg_triplet_extract_fn\n\u001b[32m---> \u001b[39m\u001b[32m98\u001b[39m \u001b[38;5;28mself\u001b[39m._llm = llm \u001b[38;5;129;01mor\u001b[39;00m \u001b[43mSettings\u001b[49m\u001b[43m.\u001b[49m\u001b[43mllm\u001b[49m\n\u001b[32m     99\u001b[39m \u001b[38;5;28mself\u001b[39m._embed_model = embed_model \u001b[38;5;129;01mor\u001b[39;00m Settings.embed_model\n\u001b[32m    101\u001b[39m \u001b[38;5;28msuper\u001b[39m().\u001b[34m__init__\u001b[39m(\n\u001b[32m    102\u001b[39m     nodes=nodes,\n\u001b[32m    103\u001b[39m     index_struct=index_struct,\n\u001b[32m   (...)\u001b[39m\u001b[32m    107\u001b[39m     **kwargs,\n\u001b[32m    108\u001b[39m )\n",
      "\u001b[36mFile \u001b[39m\u001b[32m~/github/RAG-pR/.venv/lib/python3.13/site-packages/llama_index/core/settings.py:36\u001b[39m, in \u001b[36m_Settings.llm\u001b[39m\u001b[34m(self)\u001b[39m\n\u001b[32m     34\u001b[39m \u001b[38;5;250m\u001b[39m\u001b[33;03m\"\"\"Get the LLM.\"\"\"\u001b[39;00m\n\u001b[32m     35\u001b[39m \u001b[38;5;28;01mif\u001b[39;00m \u001b[38;5;28mself\u001b[39m._llm \u001b[38;5;129;01mis\u001b[39;00m \u001b[38;5;28;01mNone\u001b[39;00m:\n\u001b[32m---> \u001b[39m\u001b[32m36\u001b[39m     \u001b[38;5;28mself\u001b[39m._llm = \u001b[43mresolve_llm\u001b[49m\u001b[43m(\u001b[49m\u001b[33;43m\"\u001b[39;49m\u001b[33;43mdefault\u001b[39;49m\u001b[33;43m\"\u001b[39;49m\u001b[43m)\u001b[49m\n\u001b[32m     38\u001b[39m \u001b[38;5;28;01mif\u001b[39;00m \u001b[38;5;28mself\u001b[39m._callback_manager \u001b[38;5;129;01mis\u001b[39;00m \u001b[38;5;129;01mnot\u001b[39;00m \u001b[38;5;28;01mNone\u001b[39;00m:\n\u001b[32m     39\u001b[39m     \u001b[38;5;28mself\u001b[39m._llm.callback_manager = \u001b[38;5;28mself\u001b[39m._callback_manager\n",
      "\u001b[36mFile \u001b[39m\u001b[32m~/github/RAG-pR/.venv/lib/python3.13/site-packages/llama_index/core/llms/utils.py:49\u001b[39m, in \u001b[36mresolve_llm\u001b[39m\u001b[34m(llm, callback_manager)\u001b[39m\n\u001b[32m     44\u001b[39m         \u001b[38;5;28;01mraise\u001b[39;00m \u001b[38;5;167;01mImportError\u001b[39;00m(\n\u001b[32m     45\u001b[39m             \u001b[33m\"\u001b[39m\u001b[33m`llama-index-llms-openai` package not found, \u001b[39m\u001b[33m\"\u001b[39m\n\u001b[32m     46\u001b[39m             \u001b[33m\"\u001b[39m\u001b[33mplease run `pip install llama-index-llms-openai`\u001b[39m\u001b[33m\"\u001b[39m\n\u001b[32m     47\u001b[39m         )\n\u001b[32m     48\u001b[39m     \u001b[38;5;28;01mexcept\u001b[39;00m \u001b[38;5;167;01mValueError\u001b[39;00m \u001b[38;5;28;01mas\u001b[39;00m e:\n\u001b[32m---> \u001b[39m\u001b[32m49\u001b[39m         \u001b[38;5;28;01mraise\u001b[39;00m \u001b[38;5;167;01mValueError\u001b[39;00m(\n\u001b[32m     50\u001b[39m             \u001b[33m\"\u001b[39m\u001b[38;5;130;01m\\n\u001b[39;00m\u001b[33m******\u001b[39m\u001b[38;5;130;01m\\n\u001b[39;00m\u001b[33m\"\u001b[39m\n\u001b[32m     51\u001b[39m             \u001b[33m\"\u001b[39m\u001b[33mCould not load OpenAI model. \u001b[39m\u001b[33m\"\u001b[39m\n\u001b[32m     52\u001b[39m             \u001b[33m\"\u001b[39m\u001b[33mIf you intended to use OpenAI, please check your OPENAI_API_KEY.\u001b[39m\u001b[38;5;130;01m\\n\u001b[39;00m\u001b[33m\"\u001b[39m\n\u001b[32m     53\u001b[39m             \u001b[33m\"\u001b[39m\u001b[33mOriginal error:\u001b[39m\u001b[38;5;130;01m\\n\u001b[39;00m\u001b[33m\"\u001b[39m\n\u001b[32m     54\u001b[39m             \u001b[33mf\u001b[39m\u001b[33m\"\u001b[39m\u001b[38;5;132;01m{\u001b[39;00me\u001b[38;5;132;01m!s}\u001b[39;00m\u001b[33m\"\u001b[39m\n\u001b[32m     55\u001b[39m             \u001b[33m\"\u001b[39m\u001b[38;5;130;01m\\n\u001b[39;00m\u001b[33mTo disable the LLM entirely, set llm=None.\u001b[39m\u001b[33m\"\u001b[39m\n\u001b[32m     56\u001b[39m             \u001b[33m\"\u001b[39m\u001b[38;5;130;01m\\n\u001b[39;00m\u001b[33m******\u001b[39m\u001b[33m\"\u001b[39m\n\u001b[32m     57\u001b[39m         )\n\u001b[32m     59\u001b[39m \u001b[38;5;28;01mif\u001b[39;00m \u001b[38;5;28misinstance\u001b[39m(llm, \u001b[38;5;28mstr\u001b[39m):\n\u001b[32m     60\u001b[39m     splits = llm.split(\u001b[33m\"\u001b[39m\u001b[33m:\u001b[39m\u001b[33m\"\u001b[39m, \u001b[32m1\u001b[39m)\n",
      "\u001b[31mValueError\u001b[39m: \n******\nCould not load OpenAI model. If you intended to use OpenAI, please check your OPENAI_API_KEY.\nOriginal error:\nNo API key found for OpenAI.\nPlease set either the OPENAI_API_KEY environment variable or openai.api_key prior to initialization.\nAPI keys can be found or created at https://platform.openai.com/account/api-keys\n\nTo disable the LLM entirely, set llm=None.\n******"
     ]
    }
   ],
   "source": [
    "import time\n",
    "import textwrap\n",
    "\n",
    "from llama_index.core import StorageContext, load_graph_from_storage\n",
    "\n",
    "graph_saving_path = \"./dataset/graph_index\"\n",
    "storage_context = StorageContext.from_defaults(persist_dir=graph_saving_path)\n",
    "graph_index = load_graph_from_storage(storage_context, 0)\n",
    "\n",
    "def execute_query(user_input, k=3, temp=0.1, mt=1024):\n",
    "\n",
    "    # Start the timer\n",
    "    start_time = time.time()\n",
    "\n",
    "    # Execute the query with additional parameters\n",
    "    response = graph_query_engine.query(user_input)\n",
    "\n",
    "    # Stop the timer\n",
    "    end_time = time.time()\n",
    "\n",
    "    # Calculate and print the execution time\n",
    "    elapsed_time = end_time - start_time\n",
    "    print(f\"Query execution time: {elapsed_time:.4f} seconds\")\n",
    "\n",
    "    # Print the response, wrapped to 100 characters per line\n",
    "    print(textwrap.fill(str(response), 100))\n",
    "    return response"
   ]
  },
  {
   "cell_type": "code",
   "execution_count": 81,
   "id": "ee3d3fb6",
   "metadata": {},
   "outputs": [],
   "source": [
    "user_query=\"What is the primary goal of bifacial panels? And what solar cells can be used for this type of panel?\""
   ]
  },
  {
   "cell_type": "code",
   "execution_count": 82,
   "id": "5f637428",
   "metadata": {},
   "outputs": [
    {
     "name": "stdout",
     "output_type": "stream",
     "text": [
      "Query execution time: 8.9139 seconds\n",
      "The primary goal of bifacial panels is to maximize the energy output by utilizing light reflected\n",
      "from the ground or surrounding surfaces, effectively capturing energy from both the front and back\n",
      "sides of the solar cell. This is particularly beneficial for installations on roofs or in\n",
      "agricultural settings where the reflection of sunlight can enhance overall efficiency. Solar cells\n",
      "that can be used for this type of panel include those with Passivated Emitter Rear Contact (PERC),\n",
      "Passivated Emitter Rear Locallydiffused (PERL), Passivated Emitter Rear Totally diffused (PERT),\n",
      "Heterojunction with Intrinsic Thinlayer (HIT), Interdigitated Back Contact (IBC), and HIT, which are\n",
      "designed to be bifacial and can generate electricity from both the front and rear surfaces.\n"
     ]
    }
   ],
   "source": [
    "import time\n",
    "import textwrap\n",
    "import sys\n",
    "import io\n",
    "# Start the timer\n",
    "start_time = time.time()\n",
    "# Capture the output\n",
    "old_stdout = sys.stdout\n",
    "new_stdout = io.StringIO()\n",
    "sys.stdout = new_stdout\n",
    "response = execute_query(user_query)\n",
    "# Restore stdout\n",
    "sys.stdout = old_stdout\n",
    "# Stop the timer\n",
    "end_time = time.time()\n",
    "# Calculate and print the execution time\n",
    "elapsed_time = end_time - start_time\n",
    "print(f\"Query execution time: {elapsed_time:.4f} seconds\")\n",
    "\n",
    "print(textwrap.fill(str(response), 100))\n",
    "\n"
   ]
  },
  {
   "cell_type": "markdown",
   "id": "df062845",
   "metadata": {},
   "source": [
    "### Similarity re-rank"
   ]
  },
  {
   "cell_type": "code",
   "execution_count": 1,
   "id": "a79ec26c",
   "metadata": {},
   "outputs": [
    {
     "data": {
      "application/vnd.jupyter.widget-view+json": {
       "model_id": "08bf961fdda342d2b53ae7c134cc2b74",
       "version_major": 2,
       "version_minor": 0
      },
      "text/plain": [
       "modules.json:   0%|          | 0.00/349 [00:00<?, ?B/s]"
      ]
     },
     "metadata": {},
     "output_type": "display_data"
    },
    {
     "data": {
      "application/vnd.jupyter.widget-view+json": {
       "model_id": "a750d77c719e45fb8f732f9760b1b03f",
       "version_major": 2,
       "version_minor": 0
      },
      "text/plain": [
       "config_sentence_transformers.json:   0%|          | 0.00/215 [00:00<?, ?B/s]"
      ]
     },
     "metadata": {},
     "output_type": "display_data"
    },
    {
     "data": {
      "application/vnd.jupyter.widget-view+json": {
       "model_id": "92dc6f3458f44e23b41d7cc40ca3672a",
       "version_major": 2,
       "version_minor": 0
      },
      "text/plain": [
       "README.md:   0%|          | 0.00/16.3k [00:00<?, ?B/s]"
      ]
     },
     "metadata": {},
     "output_type": "display_data"
    },
    {
     "data": {
      "application/vnd.jupyter.widget-view+json": {
       "model_id": "8f8f5d7e9dbe434a8c787e8d8466f965",
       "version_major": 2,
       "version_minor": 0
      },
      "text/plain": [
       "config.json:   0%|          | 0.00/727 [00:00<?, ?B/s]"
      ]
     },
     "metadata": {},
     "output_type": "display_data"
    },
    {
     "data": {
      "application/vnd.jupyter.widget-view+json": {
       "model_id": "2e48661d1b404328a21eb944266fa941",
       "version_major": 2,
       "version_minor": 0
      },
      "text/plain": [
       "model.safetensors:   0%|          | 0.00/1.19G [00:00<?, ?B/s]"
      ]
     },
     "metadata": {},
     "output_type": "display_data"
    },
    {
     "data": {
      "application/vnd.jupyter.widget-view+json": {
       "model_id": "fc26f9e9caa4481daa993cb97c5ac141",
       "version_major": 2,
       "version_minor": 0
      },
      "text/plain": [
       "tokenizer_config.json:   0%|          | 0.00/9.71k [00:00<?, ?B/s]"
      ]
     },
     "metadata": {},
     "output_type": "display_data"
    },
    {
     "data": {
      "application/vnd.jupyter.widget-view+json": {
       "model_id": "1d2331469773428995aa5f013a90b4b6",
       "version_major": 2,
       "version_minor": 0
      },
      "text/plain": [
       "vocab.json:   0%|          | 0.00/2.78M [00:00<?, ?B/s]"
      ]
     },
     "metadata": {},
     "output_type": "display_data"
    },
    {
     "data": {
      "application/vnd.jupyter.widget-view+json": {
       "model_id": "02aca2bc554d41c894f55ffd36d1b37d",
       "version_major": 2,
       "version_minor": 0
      },
      "text/plain": [
       "merges.txt:   0%|          | 0.00/1.67M [00:00<?, ?B/s]"
      ]
     },
     "metadata": {},
     "output_type": "display_data"
    },
    {
     "data": {
      "application/vnd.jupyter.widget-view+json": {
       "model_id": "8e82176d550c4e70a2b10f142f01fefa",
       "version_major": 2,
       "version_minor": 0
      },
      "text/plain": [
       "tokenizer.json:   0%|          | 0.00/11.4M [00:00<?, ?B/s]"
      ]
     },
     "metadata": {},
     "output_type": "display_data"
    },
    {
     "data": {
      "application/vnd.jupyter.widget-view+json": {
       "model_id": "b38a4ef73c234f1687ad0e2a52c918c2",
       "version_major": 2,
       "version_minor": 0
      },
      "text/plain": [
       "config.json:   0%|          | 0.00/313 [00:00<?, ?B/s]"
      ]
     },
     "metadata": {},
     "output_type": "display_data"
    }
   ],
   "source": [
    "from sklearn.metrics.pairwise import cosine_similarity\n",
    "from sentence_transformers import SentenceTransformer\n",
    "model = SentenceTransformer('Qwen/Qwen3-Embedding-0.6B')\n",
    "\n",
    "def calculate_cosine_similarity_with_embeddings(text1, text2):\n",
    "    embeddings1 = model.encode(text1)\n",
    "    embeddings2 = model.encode(text2)\n",
    "    similarity = cosine_similarity([embeddings1], [embeddings2])\n",
    "    return similarity[0][0]"
   ]
  },
  {
   "cell_type": "code",
   "execution_count": 2,
   "id": "b6545595",
   "metadata": {},
   "outputs": [
    {
     "ename": "NameError",
     "evalue": "name 'execute_query' is not defined",
     "output_type": "error",
     "traceback": [
      "\u001b[31m---------------------------------------------------------------------------\u001b[39m",
      "\u001b[31mNameError\u001b[39m                                 Traceback (most recent call last)",
      "\u001b[36mCell\u001b[39m\u001b[36m \u001b[39m\u001b[32mIn[2]\u001b[39m\u001b[32m, line 13\u001b[39m\n\u001b[32m     11\u001b[39m new_stdout = io.StringIO()\n\u001b[32m     12\u001b[39m sys.stdout = new_stdout\n\u001b[32m---> \u001b[39m\u001b[32m13\u001b[39m response = \u001b[43mexecute_query\u001b[49m(user_query)\n\u001b[32m     14\u001b[39m \u001b[38;5;66;03m# Restore stdout\u001b[39;00m\n\u001b[32m     15\u001b[39m sys.stdout = old_stdout\n",
      "\u001b[31mNameError\u001b[39m: name 'execute_query' is not defined"
     ]
    }
   ],
   "source": [
    "import time\n",
    "import textwrap\n",
    "import sys\n",
    "import io\n",
    "\n",
    "user_query=\"Which experts are often associated with Solar Cell theory?\"\n",
    "# Start the timer\n",
    "start_time = time.time()\n",
    "# Capture the output\n",
    "old_stdout = sys.stdout\n",
    "new_stdout = io.StringIO()\n",
    "sys.stdout = new_stdout\n",
    "response = execute_query(user_query)\n",
    "# Restore stdout\n",
    "sys.stdout = old_stdout\n",
    "# Stop the timer\n",
    "end_time = time.time()\n",
    "# Calculate and print the execution time\n",
    "elapsed_time = end_time - start_time\n",
    "print(f\"Query execution time: {elapsed_time:.4f} seconds\")\n",
    "\n",
    "print(textwrap.fill(str(response), 100))"
   ]
  }
 ],
 "metadata": {
  "kernelspec": {
   "display_name": ".venv",
   "language": "python",
   "name": "python3"
  },
  "language_info": {
   "codemirror_mode": {
    "name": "ipython",
    "version": 3
   },
   "file_extension": ".py",
   "mimetype": "text/x-python",
   "name": "python",
   "nbconvert_exporter": "python",
   "pygments_lexer": "ipython3",
   "version": "3.13.4"
  }
 },
 "nbformat": 4,
 "nbformat_minor": 5
}
