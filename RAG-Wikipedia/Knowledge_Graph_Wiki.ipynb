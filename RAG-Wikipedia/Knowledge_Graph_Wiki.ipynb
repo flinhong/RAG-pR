{
 "cells": [
  {
   "cell_type": "markdown",
   "id": "01d0a07d",
   "metadata": {},
   "source": [
    "## Setting up the environment"
   ]
  },
  {
   "cell_type": "code",
   "execution_count": 7,
   "id": "7023b58e",
   "metadata": {},
   "outputs": [
    {
     "name": "stdout",
     "output_type": "stream",
     "text": [
      "[0.0731334239244461, 0.07449399679899216, -0.0038104583509266376, -0.024098584428429604, -0.02073613740503788]\n"
     ]
    }
   ],
   "source": [
    "import os\n",
    "from dotenv import load_dotenv\n",
    "load_dotenv()\n",
    "\n",
    "# Setup embedding model\n",
    "from llama_index.core import Settings\n",
    "\n",
    "# Use local embedding models served by LM Studio\n",
    "# Use fake API key (LM Studio doesn't validate it)\n",
    "from llama_index.embeddings.openai import OpenAIEmbedding\n",
    "embed_model = OpenAIEmbedding(\n",
    "    api_base = os.getenv(\"LM_STUDIO_API_BASE\"),\n",
    "    api_key = \"nothing at al\",\n",
    "    model_name = os.getenv(\"LM_STUDIO_EMBED_MODEL\"),\n",
    "    embed_batch_size = 50\n",
    ")\n",
    "\n",
    "# Embedding model verification\n",
    "Settings.embed_model = embed_model\n",
    "embed = embed_model.get_text_embedding(\"The quick brown fox jumps over the lazy dog.\")\n",
    "print(embed[:5])  # Should print a list of floats"
   ]
  },
  {
   "cell_type": "code",
   "execution_count": 8,
   "id": "9f112655",
   "metadata": {},
   "outputs": [
    {
     "name": "stdout",
     "output_type": "stream",
     "text": [
      "我是人工智能助手，擅长解答问题。\n"
     ]
    }
   ],
   "source": [
    "# 使用智谱免费模型，提取节点关系\n",
    "from llama_index.llms.zhipuai import ZhipuAI\n",
    "llm_extraction = ZhipuAI(\n",
    "    api_key=os.getenv(\"ZHIPU_API_KEY\"),\n",
    "    model=os.getenv(\"ZHIPU_LLM_MODEL_NAME\")\n",
    ")\n",
    "Settings.llm = llm_extraction\n",
    "\n",
    "# Verify the LLM\n",
    "print(llm_extraction.complete(\"\\nBriefly introduce yourself in 50 Chinese characters.\"))"
   ]
  },
  {
   "cell_type": "markdown",
   "id": "56910fb2",
   "metadata": {},
   "source": [
    "## Pipeline 1: Collecting & preparing the documents"
   ]
  },
  {
   "cell_type": "code",
   "execution_count": 9,
   "id": "fb21713c",
   "metadata": {},
   "outputs": [
    {
     "name": "stdout",
     "output_type": "stream",
     "text": [
      "Doc ID: 75e47e22-4dbd-4beb-85b0-41a3c9b4669f\n",
      "Text: Title: Air mass (solar energy)  URL:\n",
      "https://en.wikipedia.org/wiki/Air_mass_(solar_energy)  Content: The\n",
      "air mass coefficient defines the direct optical path length through\n",
      "the Earth's atmosphere, expressed as a ratio relative to the path\n",
      "length vertically upwards, i.e. at the zenith. The air mass\n",
      "coefficient can be used to help characterize the...\n"
     ]
    }
   ],
   "source": [
    "from llama_index.core import SimpleDirectoryReader\n",
    "\n",
    "# Load documents\n",
    "documents = SimpleDirectoryReader(\"./documents\").load_data()\n",
    "print(documents[7])"
   ]
  },
  {
   "cell_type": "markdown",
   "id": "a3b45ef8",
   "metadata": {},
   "source": [
    "## Pipeline 2: Creating vector store"
   ]
  },
  {
   "cell_type": "code",
   "execution_count": 10,
   "id": "eceedf6d",
   "metadata": {},
   "outputs": [
    {
     "name": "stderr",
     "output_type": "stream",
     "text": []
    },
    {
     "data": {
      "application/vnd.jupyter.widget-view+json": {
       "model_id": "fa20ac11ea74403abe0362ede0335c45",
       "version_major": 2,
       "version_minor": 0
      },
      "text/plain": [
       "Parsing nodes:   0%|          | 0/883 [00:00<?, ?it/s]"
      ]
     },
     "metadata": {},
     "output_type": "display_data"
    },
    {
     "data": {
      "application/vnd.jupyter.widget-view+json": {
       "model_id": "8f97776ce5174a658000dbcd0a83d4b4",
       "version_major": 2,
       "version_minor": 0
      },
      "text/plain": [
       "Generating embeddings:   0%|          | 0/2048 [00:00<?, ?it/s]"
      ]
     },
     "metadata": {},
     "output_type": "display_data"
    },
    {
     "name": "stdout",
     "output_type": "stream",
     "text": [
      "Uploading data to deeplake dataset.\n"
     ]
    },
    {
     "name": "stderr",
     "output_type": "stream",
     "text": [
      "100%|██████████| 2048/2048 [00:03<00:00, 640.96it/s]\n"
     ]
    },
    {
     "name": "stdout",
     "output_type": "stream",
     "text": [
      "Dataset(path='./dataset/vector_storage', tensors=['text', 'metadata', 'embedding', 'id'])\n",
      "\n",
      "  tensor      htype       shape      dtype  compression\n",
      "  -------    -------     -------    -------  ------- \n",
      "   text       text      (2048, 1)     str     None   \n",
      " metadata     json      (2048, 1)     str     None   \n",
      " embedding  embedding  (2048, 768)  float32   None   \n",
      "    id        text      (2048, 1)     str     None   \n"
     ]
    },
    {
     "data": {
      "application/vnd.jupyter.widget-view+json": {
       "model_id": "ff923cb0a8f74089a00d6bb71572ba7f",
       "version_major": 2,
       "version_minor": 0
      },
      "text/plain": [
       "Generating embeddings:   0%|          | 0/2048 [00:00<?, ?it/s]"
      ]
     },
     "metadata": {},
     "output_type": "display_data"
    },
    {
     "name": "stdout",
     "output_type": "stream",
     "text": [
      "Uploading data to deeplake dataset.\n"
     ]
    },
    {
     "name": "stderr",
     "output_type": "stream",
     "text": [
      "100%|██████████| 2048/2048 [00:03<00:00, 664.88it/s]\n"
     ]
    },
    {
     "name": "stdout",
     "output_type": "stream",
     "text": [
      "Dataset(path='./dataset/vector_storage', tensors=['text', 'metadata', 'embedding', 'id'])\n",
      "\n",
      "  tensor      htype       shape      dtype  compression\n",
      "  -------    -------     -------    -------  ------- \n",
      "   text       text      (4096, 1)     str     None   \n",
      " metadata     json      (4096, 1)     str     None   \n",
      " embedding  embedding  (4096, 768)  float32   None   \n",
      "    id        text      (4096, 1)     str     None   \n"
     ]
    },
    {
     "name": "stderr",
     "output_type": "stream",
     "text": []
    },
    {
     "data": {
      "application/vnd.jupyter.widget-view+json": {
       "model_id": "80aff31df3b6450d8a47f836808a9cb2",
       "version_major": 2,
       "version_minor": 0
      },
      "text/plain": [
       "Generating embeddings:   0%|          | 0/1252 [00:00<?, ?it/s]"
      ]
     },
     "metadata": {},
     "output_type": "display_data"
    },
    {
     "name": "stdout",
     "output_type": "stream",
     "text": [
      "Uploading data to deeplake dataset.\n"
     ]
    },
    {
     "name": "stderr",
     "output_type": "stream",
     "text": [
      "100%|██████████| 1252/1252 [00:01<00:00, 638.12it/s]\n"
     ]
    },
    {
     "name": "stdout",
     "output_type": "stream",
     "text": [
      "Dataset(path='./dataset/vector_storage', tensors=['text', 'metadata', 'embedding', 'id'])\n",
      "\n",
      "  tensor      htype       shape      dtype  compression\n",
      "  -------    -------     -------    -------  ------- \n",
      "   text       text      (5348, 1)     str     None   \n",
      " metadata     json      (5348, 1)     str     None   \n",
      " embedding  embedding  (5348, 768)  float32   None   \n",
      "    id        text      (5348, 1)     str     None   \n"
     ]
    }
   ],
   "source": [
    "from llama_index.vector_stores.deeplake import DeepLakeVectorStore\n",
    "from llama_index.core import StorageContext, VectorStoreIndex\n",
    "\n",
    "# Path for vector store and dataset\n",
    "vector_dataset = \"./dataset/vector_storage\" # local storage\n",
    "vector_store_path = vector_dataset\n",
    "dataset_path = vector_dataset\n",
    "\n",
    "# Create an index over the documents\n",
    "# Overwrites the existing dataset if True\n",
    "ow = True\n",
    "\n",
    "try:\n",
    "    vector_store = DeepLakeVectorStore(dataset_path=dataset_path, overwrite=ow)\n",
    "    storage_context = StorageContext.from_defaults(vector_store=vector_store)\n",
    "    index = VectorStoreIndex.from_documents(documents, storage_context, show_progress=True)\n",
    "except Exception as e:\n",
    "    print(f\"An error occurred: {e}\")\n",
    "    print(f\"Error type: {type(e)}\")\n",
    "    print(f\"Error traceback: {e.__traceback__}\")\n"
   ]
  },
  {
   "cell_type": "code",
   "execution_count": 11,
   "id": "26b9c9c6",
   "metadata": {},
   "outputs": [
    {
     "name": "stdout",
     "output_type": "stream",
     "text": [
      "./dataset/vector_storage loaded successfully.\n",
      "\n"
     ]
    },
    {
     "name": "stderr",
     "output_type": "stream",
     "text": []
    },
    {
     "name": "stdout",
     "output_type": "stream",
     "text": [
      "Dataset(path='./dataset/vector_storage', tensors=['embedding', 'id', 'metadata', 'text'])\n",
      "\n",
      "  tensor      htype       shape      dtype  compression\n",
      "  -------    -------     -------    -------  ------- \n",
      " embedding  embedding  (5348, 768)  float32   None   \n",
      "    id        text      (5348, 1)     str     None   \n",
      " metadata     json      (5348, 1)     str     None   \n",
      "   text       text      (5348, 1)     str     None   \n"
     ]
    }
   ],
   "source": [
    "import deeplake\n",
    "import pandas as pd\n",
    "import numpy as np\n",
    "\n",
    "# Create a dictionary to hold the data\n",
    "data = {}\n",
    "\n",
    "# Load vector store data\n",
    "ds = deeplake.load(dataset_path)\n",
    "ds.summary()\n",
    "\n",
    "# Iterate through the tensors in the dataset\n",
    "for tensor_name in ds.tensors:\n",
    "    tensor_data = ds[tensor_name].numpy()\n",
    "\n",
    "    # Check if the tensor is multi-dimensional\n",
    "    if tensor_data.ndim > 1:\n",
    "        # Flatten multi-dimensional tensors\n",
    "        data[tensor_name] = [np.array(e).flatten().tolist() for e in tensor_data]\n",
    "    else:\n",
    "        # Convert 1D tensors directly to lists and decode text\n",
    "        if tensor_name == \"text\":\n",
    "            data[tensor_name] = [t.tobytes().decode('utf-8') if t else \"\" for t in tensor_data]\n",
    "        else:\n",
    "            data[tensor_name] = tensor_data.tolist()\n",
    "\n",
    "# Create a Pandas DataFrame from the dictionary\n",
    "df = pd.DataFrame(data)"
   ]
  },
  {
   "cell_type": "code",
   "execution_count": 12,
   "id": "21fd6452",
   "metadata": {},
   "outputs": [
    {
     "name": "stdout",
     "output_type": "stream",
     "text": [
      "ID:\n",
      "['84e136e6-1761-4cec-9e8c-207f005be261']\n",
      "\n",
      "Metadata:\n",
      "file_path: /home/ongin/github/RAG-pR/RAG-Wikipedia/documents/Absorption_electromagnetic_radiation.txt\n",
      "file_name: Absorption_electromagnetic_radiation.txt\n",
      "file_type: text/plain\n",
      "file_size: 5392\n",
      "creation_date: 2025-06-12\n",
      "last_modified_date: 2025-06-12\n",
      "_node_content: {\"id_\": \"84e136e6-1761-4cec-9e8c-207f005be261\", \"embedding\": null, \"metadata\": {\"file_path\": \"/home/ongin/github/RAG-pR/RAG-Wikipedia/documents/Absorption_electromagnetic_radiation.txt\", \"file_name\": \"Absorption_electromagnetic_radiation.txt\", \"file_type\": \"text/plain\", \"file_size\": 5392, \"creation_date\": \"2025-06-12\", \"last_modified_date\": \"2025-06-12\"}, \"excluded_embed_metadata_keys\": [\"file_name\", \"file_type\", \"file_size\", \"creation_date\", \"last_modified_date\", \"last_accessed_date\"], \"excluded_llm_metadata_keys\": [\"file_name\", \"file_type\", \"file_size\", \"creation_date\", \"last_modified_date\", \"last_accessed_date\"], \"relationships\": {\"1\": {\"node_id\": \"310bb0f0-13ab-41b4-bf79-f3bea28b46a1\", \"node_type\": \"4\", \"metadata\": {\"file_path\": \"/home/ongin/github/RAG-pR/RAG-Wikipedia/documents/Absorption_electromagnetic_radiation.txt\", \"file_name\": \"Absorption_electromagnetic_radiation.txt\", \"file_type\": \"text/plain\", \"file_size\": 5392, \"creation_date\": \"2025-06-12\", \"last_modified_date\": \"2025-06-12\"}, \"hash\": \"38c5ae738bf9104430fe26372e205a9e3a98480409b46abfccfe1445fb6ccc25\", \"class_name\": \"RelatedNodeInfo\"}, \"2\": {\"node_id\": \"58497aa8-33f2-463d-b865-9c5b5bc861ef\", \"node_type\": \"1\", \"metadata\": {\"file_path\": \"/home/ongin/github/RAG-pR/RAG-Wikipedia/documents/Absorption_electromagnetic_radiation.txt\", \"file_name\": \"Absorption_electromagnetic_radiation.txt\", \"file_type\": \"text/plain\", \"file_size\": 5392, \"creation_date\": \"2025-06-12\", \"last_modified_date\": \"2025-06-12\"}, \"hash\": \"029f257a5c347883e9fd4cb28a858d60923bd918c2de79c5beac53eb90f3015d\", \"class_name\": \"RelatedNodeInfo\"}}, \"metadata_template\": \"{key}: {value}\", \"metadata_separator\": \"\\n\", \"text\": \"In scientific literature is known a system of mirrors and lenses that with a laser \\\"can enable any material to absorb all light from a wide range of angles.\\\"\\n\\nSee also\\nAbsorption spectroscopy\\nAlbedo\\nAttenuation\\nElectromagnetic absorption by water\\nHydroxyl ion absorption\\nOptoelectronics\\nPhotoelectric effect\\nPhotosynthesis\\nPhysical crystallography before X-rays\\nSolar cell\\nSpectral line\\nTotal absorption spectroscopy\\nUltraviolet-visible spectroscopy\\n\\nReferences\\n\\nThomas, Michael E. (January 2006). Optical Propagation in Linear Media: Atmospheric Gases and Particles, Solid-State Components, and Water. Oxford University Press, USA. pp. 3... (Chapter 1, 2, 7). Bibcode:2006oplm.book.....T. ISBN 978-0-19-509161-8. {{cite book}}: |journal= ignored (help)\\nProfHoff, Ken Mellendorf; Vince Calder (November 2010). \\\"Reflection and Absorption\\\". Physics Archive - Ask a scientist. Argonne National Laboratory. Archived from the original on 2010-11-21. Retrieved 2010-11-14.\", \"mimetype\": \"text/plain\", \"start_char_idx\": 4417, \"end_char_idx\": 5383, \"metadata_seperator\": \"\\n\", \"text_template\": \"{metadata_str}\\n\\n{content}\", \"class_name\": \"TextNode\"}\n",
      "_node_type: TextNode\n",
      "document_id: 310bb0f0-13ab-41b4-bf79-f3bea28b46a1\n",
      "doc_id: 310bb0f0-13ab-41b4-bf79-f3bea28b46a1\n",
      "ref_doc_id: 310bb0f0-13ab-41b4-bf79-f3bea28b46a1\n",
      "\n",
      "\n",
      "Text:\n",
      "['In scientific literature is known a system of mirrors and lenses that with a laser \"can enable any material to absorb all light from a wide range of angles.\"\\n\\nSee also\\nAbsorption spectroscopy\\nAlbedo\\nAttenuation\\nElectromagnetic absorption by water\\nHydroxyl ion absorption\\nOptoelectronics\\nPhotoelectric effect\\nPhotosynthesis\\nPhysical crystallography before X-rays\\nSolar cell\\nSpectral line\\nTotal absorption spectroscopy\\nUltraviolet-visible spectroscopy\\n\\nReferences\\n\\nThomas, Michael E. (January 2006). Optical Propagation in Linear Media: Atmospheric Gases and Particles, Solid-State Components, and Water. Oxford University Press, USA. pp. 3... (Chapter 1, 2, 7). Bibcode:2006oplm.book.....T. ISBN 978-0-19-509161-8. {{cite book}}: |journal= ignored (help)\\nProfHoff, Ken Mellendorf; Vince Calder (November 2010). \"Reflection and Absorption\". Physics Archive - Ask a scientist. Argonne National Laboratory. Archived from the original on 2010-11-21. Retrieved 2010-11-14.']\n",
      "\n",
      "Embedding:\n",
      "[-0.04438263177871704, -0.008708024397492409, -0.02440926432609558, -0.007352099753916264, 0.00625360244885087, 0.005237225908786058, 0.044697217643260956, 0.02141161635518074, 0.0405334010720253, 0.0720524787902832, -0.014337455853819847, -0.030879434198141098, -0.010796704329550266, 0.04302239418029785, 0.028592221438884735, -0.05584388226270676, 0.011754936538636684, -0.02625374309718609, 0.052131179720163345, -0.024402739480137825, 0.006825817283242941, -0.019269030541181564, -0.04043238237500191, -0.07574066519737244, -0.09740868955850601, -0.010553012602031231, -0.02852642349898815, 0.01574983447790146, -0.014389379881322384, 0.023906301707029343, -0.014670785516500473, -0.08166676014661789, 0.016699494794011116, 0.08422629535198212, 0.005080142058432102, -0.004857984371483326, 0.012640283443033695, -0.009108670987188816, 0.05040455982089043, 0.05995049327611923, 0.005816744640469551, 0.04372275248169899, -0.03699161857366562, 0.024928467348217964, 0.04498552158474922, 0.06318116188049316, -0.010720163583755493, 0.01025397703051567, -0.033851273357868195, 0.06540682911872864, 0.0190868079662323, -0.029977068305015564, -0.007364891469478607, 0.013741210103034973, -0.017242709174752235, -0.016037430614233017, -0.03589697554707527, 0.017905190587043762, 0.0414828322827816, -0.04428742080926895, 0.009952698834240437, 0.003057386726140976, 0.09227415174245834, 0.04214533045887947, -0.02700243890285492, 0.012319564819335938, 0.025636006146669388, -0.02676989696919918, -0.025386083871126175, 0.03150034695863724, -0.04299969598650932, -0.005998887121677399, 0.016439804807305336, -0.02570435032248497, -0.008796769194304943, -0.038232073187828064, 0.014257121831178665, 0.028589189052581787, -0.022280868142843246, -0.014130405150353909, -0.07698168605566025, -0.036352287977933884, -0.022432934492826462, 0.005706506315618753, 0.0059201158583164215, 0.03825068101286888, 0.0007160163368098438, 0.014140618965029716, -0.09310494363307953, 0.022306937724351883, -0.001694056554697454, 0.028387682512402534, 0.0625491738319397, 0.08300477266311646, 0.002747930586338043, 0.015529392287135124, -0.06439720839262009, 0.0053009516559541225, -0.003673447063192725, 0.042211465537548065, -0.039874158799648285, 0.027472928166389465, -0.13529011607170105, -0.02533634379506111, -0.02367444336414337, 0.022750798612833023, -0.03974805399775505, -0.0128096304833889, 0.034065112471580505, -0.05741037800908089, -0.05438980832695961, -0.05435525253415108, -0.006239636801183224, 0.06921734660863876, 0.018950924277305603, -0.01885923743247986, -0.0049726939760148525, -0.052495624870061874, 0.02175215445458889, 0.035340815782547, 0.04880208894610405, 0.047754570841789246, -0.025271305814385414, -0.008266075514256954, -0.02156706154346466, -0.03409420698881149, -0.04617121443152428, -0.015739763155579567, 0.017499109730124474, -0.008257496170699596, 0.01288214698433876, -0.03781592473387718, -0.05152523145079613, -0.05450815334916115, 0.020857784897089005, -0.02533857896924019, -0.001891639898531139, 0.021337563171982765, -0.048395898193120956, 0.022461481392383575, -0.03692380711436272, -0.016206564381718636, 0.021449629217386246, -0.08956079185009003, -0.015948552638292313, -0.04930403456091881, -0.025204919278621674, 0.06967893242835999, 0.019523199647665024, 0.0036519491113722324, -0.014346267096698284, 0.02170931175351143, -0.02824648655951023, 0.00694621354341507, -0.006467313971370459, 0.00694139814004302, -0.11439721286296844, 0.046432092785835266, 0.02761726640164852, -0.05480733513832092, 0.05563865974545479, 0.07461829483509064, 0.0016054598381742835, 0.005634008906781673, 0.060586366802453995, -0.014226380735635757, -0.046281591057777405, -0.002837744075804949, 0.007300559431314468, -0.018412115052342415, 0.057416390627622604, -0.027205150574445724, -0.004885480273514986, -0.0239381343126297, 0.05621137097477913, 0.02915540151298046, 0.0433228500187397, 0.030111437663435936, 0.044768765568733215, 0.021055443212389946, -0.03957812115550041, -0.01840301603078842, -0.03612060472369194, 0.0006834351806901395, 0.03216235712170601, -0.0860993042588234, 0.022343140095472336, 0.02298078127205372, 0.014777064323425293, -0.010085447691380978, 0.009913298301398754, 0.01992710307240486, 0.006276371888816357, -0.02184579148888588, -0.020881304517388344, -0.0002326896064914763, -0.05466661602258682, 0.06078095734119415, 0.012908756732940674, -0.012975163757801056, 0.021999021992087364, -0.014029953628778458, -0.04623299092054367, 0.01903386227786541, 0.08811799436807632, 0.01644117757678032, -0.08480477333068848, -0.010202163830399513, -0.08440026640892029, 0.010776731185615063, -0.05550762638449669, -0.03838009759783745, -0.06430377811193466, 0.018058236688375473, 0.0682184174656868, 0.047046858817338943, 0.07141519337892532, 0.006703793536871672, 0.03041340783238411, 0.00655256537720561, -0.06995613127946854, -0.06205882504582405, 0.03802552446722984, 0.013350270688533783, 0.01488566305488348, 2.369159847148694e-05, 0.03644857183098793, 0.036487601697444916, -0.023510491475462914, -0.025874687358736992, -0.011710998602211475, -0.009048525243997574, -0.02450616843998432, 0.022482773289084435, 0.013912864960730076, 0.055876053869724274, 0.054723627865314484, 0.0012882596347481012, -0.03707423433661461, -0.03877153620123863, 0.0441715233027935, -0.04758301004767418, -0.05604556202888489, -0.01673106662929058, 0.019670924171805382, -0.06645921617746353, -0.0014225572813302279, -0.043077532202005386, 0.006578370463103056, -0.020985014736652374, -0.011247292160987854, 0.020090647041797638, -0.014681389555335045, -0.00794072076678276, -0.05102187767624855, 0.044313084334135056, 0.09473215043544769, 0.0328320637345314, 0.019553910940885544, -0.06333698332309723, 0.027473021298646927, -0.02222595177590847, 0.023073742166161537, 0.07444820553064346, 0.04601382836699486, -0.04429752752184868, -0.017701592296361923, -0.061047207564115524, -0.014761019498109818, 0.017976928502321243, -0.007358759641647339, 0.01947048492729664, -0.06106109172105789, -0.011088045313954353, -0.0031092404387891293, 0.04981152340769768, 0.01590748131275177, 0.050237830728292465, 0.04465994983911514, -0.08764225244522095, -0.06177578493952751, 0.052500441670417786, 0.04668476805090904, -0.0076329209841787815, -0.03901716694235802, 0.07161860167980194, 0.019503669813275337, -0.024697842076420784, 0.006470588035881519, -0.024534037336707115, 0.04014003276824951, 0.001691891928203404, 0.0163564532995224, -0.022909779101610184, -0.011034428142011166, 0.023776711896061897, -0.001670593861490488, -0.008688949048519135, 0.04279166832566261, -0.03942710533738136, -0.02791036106646061, 0.027654895558953285, -0.0005003635305911303, -0.024523871019482613, 0.03493550047278404, 0.015885042026638985, 0.012593243271112442, -0.05778753384947777, -0.0174393467605114, 0.010320371948182583, -0.04184238612651825, 0.07601741701364517, 0.027270976454019547, -0.029505658894777298, 0.030415119603276253, 0.020979125052690506, 0.04731690511107445, 0.011172102764248848, 0.07014350593090057, 0.0398407019674778, -0.009109643287956715, -0.01614443026483059, -0.013739953748881817, 0.006319040898233652, -0.014130720868706703, 0.044667065143585205, -0.020133106037974358, 0.03182931989431381, -0.0025204410776495934, 0.07142671942710876, -0.02266339585185051, 0.08138855546712875, 0.05681406706571579, 0.05860891193151474, 0.010562144219875336, -0.0358876995742321, 0.015090585686266422, 0.008279570378363132, -0.020907536149024963, -0.002247850876301527, -0.036906469613313675, -0.050664789974689484, -0.08046824485063553, 0.008279900997877121, 0.027448708191514015, -0.022395635023713112, -0.00445362227037549, -0.03001229092478752, 0.03172493726015091, 0.03935060277581215, 0.018046818673610687, -0.02785761095583439, -0.005219734739512205, 0.015158788301050663, -0.00990842655301094, 0.039679694920778275, -0.003730467287823558, -0.008209159597754478, 0.03405439853668213, 0.02689540758728981, -0.06468430906534195, 0.0019479392794892192, 0.022325003519654274, -0.003951279912143946, -0.039627403020858765, 0.0015907140914350748, 0.05413948372006416, 0.013553913682699203, -0.006379279308021069, 0.05236460641026497, -0.045378945767879486, 0.12953494489192963, -0.0531482994556427, 0.006758151575922966, -0.04603341594338417, -0.022207731381058693, -0.04355825483798981, 0.02382083609700203, 0.005806382745504379, 0.008932825177907944, 0.04946025088429451, 0.02961575984954834, 0.07271865010261536, -0.049591999500989914, 0.005070867482572794, 9.220612264471129e-05, 0.040078990161418915, -0.011196286417543888, 0.010950068943202496, -0.02444731444120407, -0.007766402792185545, 0.024835651740431786, -0.018058735877275467, -0.003908125683665276, 0.005173145327717066, 0.04101681336760521, 0.006680807564407587, 0.009629097767174244, 0.004945424385368824, 0.01339133270084858, -0.04645533487200737, -0.027972133830189705, -0.004272559192031622, 0.027977118268609047, 0.03999120369553566, 0.005636234767735004, -0.0026460078079253435, -0.011960924603044987, -0.0008848642464727163, -0.0020910112652927637, 0.034223057329654694, -0.02408747933804989, 0.010958081111311913, 0.06387745589017868, -0.025035543367266655, -0.06304056942462921, -0.06177966669201851, 0.05078621581196785, 0.016824819147586823, -0.04247237369418144, 0.03720977157354355, 0.014230537228286266, -0.03256351128220558, -0.024671340361237526, 0.028423670679330826, -0.010341986082494259, -0.021363021805882454, 0.06606153398752213, 0.0446636825799942, -0.027270566672086716, -0.006110589485615492, -0.05263201519846916, 0.011356284841895103, 0.04925671964883804, -0.06375160813331604, -0.07175782322883606, 0.030439211055636406, -0.02400994673371315, 0.036273371428251266, 0.016259968280792236, 0.039908621460199356, 0.02367567829787731, -0.019687166437506676, -0.014530117623507977, -0.01951363869011402, 0.01239778846502304, 0.04307211935520172, 0.007638614159077406, -0.00022751580399926752, 0.01747196912765503, 0.013389242812991142, -0.031221143901348114, -0.015558971092104912, 0.009868507273495197, -0.05285150185227394, 0.04340279847383499, 0.04119834303855896, -0.006236585788428783, -0.045329730957746506, -0.028082117438316345, 0.042505379766225815, 0.03459580987691879, -0.007395535241812468, -0.008990642614662647, -0.0011927111772820354, -0.03409682214260101, -0.007848151959478855, 0.022997351363301277, -0.0434286966919899, -0.042324215173721313, 0.0038768139202147722, -0.0029208518099039793, -0.012398447841405869, 0.008241517469286919, -0.008565631695091724, -0.011381315998733044, -0.01480334997177124, -0.005705568473786116, 0.02425583079457283, 0.00815131887793541, 0.0031404560431838036, -0.02764936536550522, 0.013783159665763378, 0.1176808774471283, 0.028895677998661995, 0.0662870928645134, 0.052064985036849976, -0.05120854824781418, 0.029453491792082787, 0.035935740917921066, 0.050224095582962036, -0.05546710267663002, -0.008951475843787193, -0.008944649249315262, -0.011302364990115166, 0.03457215800881386, -0.0008625057525932789, -0.03481980413198471, 0.030797967687249184, 0.032383985817432404, -0.07175364345312119, -0.01895485259592533, -0.08304901421070099, -0.03807789087295532, -0.04072562977671623, 0.034353483468294144, -0.0390787236392498, -0.004630165174603462, 0.061960116028785706, 0.010184048675000668, 0.011724552139639854, -0.07059894502162933, -0.00014004668628331274, -0.03800881281495094, 0.05974509194493294, 0.025797823444008827, -0.030845467001199722, -0.02963842637836933, 0.01846892572939396, -0.024797959253191948, 0.016530117020010948, 0.04065144434571266, -0.03667246550321579, -0.010096227750182152, -0.019984854385256767, -0.009462681598961353, 0.01654518023133278, -0.02513042651116848, 0.009051033295691013, -0.03196970000863075, 0.020930055528879166, -0.007249234709888697, 0.05334160104393959, 0.03363694250583649, 0.061720043420791626, -0.014222564175724983, -0.010572979226708412, 0.02371668815612793, -0.002471132902428508, 0.055257610976696014, -0.025622837245464325, -0.025355305522680283, -0.008581672795116901, -0.01262772735208273, -0.021313562989234924, -0.047013603150844574, -0.020346304401755333, -0.010000606998801231, -0.0032581868581473827, -0.013751690275967121, -0.02317916229367256, -0.019510542973876, 0.002620219485834241, -0.03884410113096237, -0.035000018775463104, -0.0321766622364521, 0.024318503215909004, 0.02613670378923416, 0.02282947301864624, 0.044461630284786224, -0.020817365497350693, 0.003954226151108742, -0.01341814175248146, -0.01179268304258585, -0.015186738222837448, 0.02092607505619526, -0.04751859977841377, 0.016980459913611412, -0.006007464602589607, 0.024020927026867867, 0.031076371669769287, 0.022953849285840988, 0.006071555893868208, 0.03890610858798027, -0.06222228333353996, -0.05274219065904617, -0.02007419429719448, 0.01867946796119213, 0.013640698045492172, -0.03381214290857315, 0.0014840797521173954, 0.014783448539674282, -0.013750818558037281, 0.01664893515408039, 0.005275842733681202, -0.05738372355699539, 0.05744126811623573, -0.03757433965802193, -0.017078394070267677, 0.062367018312215805, -0.02756797894835472, -0.03018205426633358, -0.0214217621833086, -0.02428746409714222, 0.009100263006985188, 0.02382543869316578, -0.07076677680015564, -0.010170765221118927, 0.04292064532637596, 0.003995685838162899, -0.05879950895905495, 0.056108832359313965, 0.03390488773584366, 0.002648881170898676, 0.01428387314081192, 0.014448997564613819, -0.009864593856036663, 0.025306668132543564, -0.04732837527990341, -0.011897674761712551, -0.03201057016849518, 0.03604273125529289, -0.02951943129301071, -0.015555653721094131, 0.009331346489489079, 0.010224085301160812, 0.013087833300232887, 0.005182797554880381, 0.029794443398714066, 0.008621500805020332, -0.0004915125900879502, 0.033205296844244, 0.006488381419330835, 0.044557392597198486, -0.004473713226616383, -0.008655428886413574, -0.023722326382994652, -0.03168526291847229, -0.027947712689638138, -0.020299388095736504, -0.015029547736048698, -0.019843632355332375, -0.06971282511949539, 0.0019689498003572226, 0.05987850949168205, -0.05148177593946457, -0.03890501335263252, 0.006779612973332405, -0.007438022177666426, -0.06906887888908386, -0.013036094605922699, -0.005528999492526054, 0.02641730010509491, 0.03837178647518158, -0.07277413457632065, -0.033452846109867096, -0.024181455373764038, 0.032781314104795456, -0.02337273769080639, -0.06115052103996277, 0.03194050490856171, 0.019627364352345467, -0.04593219235539436, -0.0435297004878521, 0.02680734172463417, -0.004767603240907192, 0.014105630107223988, 0.051561515778303146, -0.019616128876805305, -0.009831923991441727, 0.03839361295104027, 0.012322202324867249, -0.06987812370061874, 0.009140062145888805, 0.019897636026144028, 0.02759620174765587, 0.03805771470069885, -0.021680084988474846, 0.06704090535640717, -0.02750757336616516, -0.03916613757610321, 0.011888492852449417, 0.04133353754878044, -0.005663854070007801, -0.02067399024963379, -0.0124481450766325, 0.042124319821596146, -0.015135200694203377, 0.01798013225197792, -0.08060985058546066, -0.0059755053371191025, -0.03214696794748306, -0.022187428548932076, 0.048434872180223465, -0.02897990308701992, -0.02389896661043167, 0.019707681611180305, 0.03873826935887337, -0.02180142141878605, 0.018597854301333427, -0.01049926970154047, -0.03092828579246998, -0.004072428680956364, 0.07263574749231339, -0.024274634197354317, 0.0023835855536162853, 0.04174467921257019, -0.02177293412387371, -0.0291216392070055, -0.03312516584992409, 0.03361091762781143, -0.020251629874110222, 0.008840850554406643, -0.035939235240221024, -0.012177622877061367, 0.018442358821630478, -0.027535192668437958, 0.04070506989955902, 0.021921483799815178, -0.020018253475427628, -0.04492897540330887, -0.008658690378069878, 0.014604303985834122, -0.07109047472476959, 0.012394017539918423, 0.023334266617894173, 0.0024207979440689087, -0.01260338630527258, 0.00019741350843105465, 0.011676247231662273, -0.013172442093491554, 0.006928098853677511, -0.00977402739226818, -0.009211731143295765, 0.06706137210130692, -0.02329166978597641, 0.09236669540405273, -0.036991219967603683, 0.02299249917268753, -0.027546798810362816, 0.028801146894693375, 0.0309413094073534, 0.023561399430036545, -0.003153289435431361, -9.470809891354293e-05, -0.05313112214207649, -0.07861187309026718, 0.026262447237968445, -0.018455510959029198, 0.008361972868442535, -0.03443370386958122, 0.10470879077911377, 0.033604249358177185, -0.010739002376794815, -0.015232732519507408, -0.011001699604094028, 0.029753556475043297, -0.01550497580319643, 0.017551364377141, 0.028530091047286987, -0.057646095752716064, 0.022757774218916893, -0.0182220246642828, -0.010655740275979042, 0.00014523862046189606, -0.023656388744711876, -0.019509071484208107, 0.01946134679019451, 0.021897830069065094, 0.04595562815666199, 0.020260732620954514, 0.007580744102597237, -0.006445655599236488, 0.004076901823282242, -0.033008042722940445, -0.0159929059445858, -0.0013469691621139646, 0.0296529121696949]\n",
      "\n"
     ]
    }
   ],
   "source": [
    "# Function to display a selected record\n",
    "def display_record(record_number):\n",
    "    record = df.iloc[record_number]\n",
    "    display_data = {\n",
    "        \"ID\": record.get(\"id\", \"N/A\"),\n",
    "        \"Metadata\": record.get(\"metadata\", \"N/A\"),\n",
    "        \"Text\": record.get(\"text\", \"N/A\"),\n",
    "        \"Embedding\": record.get(\"embedding\", \"N/A\")\n",
    "    }\n",
    "\n",
    "    # Print the ID\n",
    "    print(\"ID:\")\n",
    "    print(display_data[\"ID\"])\n",
    "    print()\n",
    "\n",
    "    # Print the metadata in a structured format\n",
    "    print(\"Metadata:\")\n",
    "    metadata = display_data[\"Metadata\"]\n",
    "    if isinstance(metadata, list):\n",
    "        for item in metadata:\n",
    "            for key, value in item.items():\n",
    "                print(f\"{key}: {value}\")\n",
    "            print()\n",
    "    else:\n",
    "        print(metadata)\n",
    "    print()\n",
    "\n",
    "    # Print the text\n",
    "    print(\"Text:\")\n",
    "    print(display_data[\"Text\"])\n",
    "    print()\n",
    "\n",
    "    # Print the embedding\n",
    "    print(\"Embedding:\")\n",
    "    print(display_data[\"Embedding\"])\n",
    "    print()\n",
    "\n",
    "# Example usage\n",
    "rec = 7  # Replace with the desired record number\n",
    "display_record(rec)"
   ]
  },
  {
   "cell_type": "markdown",
   "id": "52a9728a",
   "metadata": {},
   "source": [
    "## Pipeline 3: Knowledge graph index-based RAG"
   ]
  },
  {
   "cell_type": "code",
   "execution_count": 13,
   "id": "e26db46a",
   "metadata": {},
   "outputs": [],
   "source": [
    "from llama_index.core import Document\n",
    "\n",
    "# Ensure 'text' column is of type string\n",
    "df['text'] = df['text'].astype(str)\n",
    "# Create documents with IDs\n",
    "documents = [Document(text=row['text'], doc_id=str(row['id'])) for _, row in df.iterrows()]"
   ]
  },
  {
   "cell_type": "markdown",
   "id": "dff84fe2",
   "metadata": {},
   "source": [
    "### Generating the graph index"
   ]
  },
  {
   "cell_type": "code",
   "execution_count": 14,
   "id": "7e469233",
   "metadata": {},
   "outputs": [
    {
     "name": "stdout",
     "output_type": "stream",
     "text": [
      "Error extracting triplets for text chunk: Error code: 400, with error text {\"contentFilter\":[{\"level\":1,\"role\":\"user\"}],\"error\":{\"code\":\"1301\",\"message\":\"系统检测到输入或生成内容可能包含不安全或敏感内容，请您避免输入易产生敏感内容的提示语，感谢您的配合。\"}}\n",
      "Error extracting triplets for text chunk: Error code: 400, with error text {\"contentFilter\":[{\"level\":1,\"role\":\"user\"}],\"error\":{\"code\":\"1301\",\"message\":\"系统检测到输入或生成内容可能包含不安全或敏感内容，请您避免输入易产生敏感内容的提示语，感谢您的配合。\"}}\n",
      "Error extracting triplets for text chunk: Error code: 400, with error text {\"contentFilter\":[{\"level\":1,\"role\":\"user\"}],\"error\":{\"code\":\"1301\",\"message\":\"系统检测到输入或生成内容可能包含不安全或敏感内容，请您避免输入易产生敏感内容的提示语，感谢您的配合。\"}}\n",
      "Error extracting triplets for text chunk: Error code: 400, with error text {\"contentFilter\":[{\"level\":1,\"role\":\"user\"}],\"error\":{\"code\":\"1301\",\"message\":\"系统检测到输入或生成内容可能包含不安全或敏感内容，请您避免输入易产生敏感内容的提示语，感谢您的配合。\"}}\n",
      "Error extracting triplets for text chunk: Error code: 400, with error text {\"contentFilter\":[{\"level\":1,\"role\":\"user\"}],\"error\":{\"code\":\"1301\",\"message\":\"系统检测到输入或生成内容可能包含不安全或敏感内容，请您避免输入易产生敏感内容的提示语，感谢您的配合。\"}}\n",
      "Error extracting triplets for text chunk: Error code: 400, with error text {\"contentFilter\":[{\"level\":1,\"role\":\"user\"}],\"error\":{\"code\":\"1301\",\"message\":\"系统检测到输入或生成内容可能包含不安全或敏感内容，请您避免输入易产生敏感内容的提示语，感谢您的配合。\"}}\n",
      "Error extracting triplets for text chunk: Error code: 400, with error text {\"contentFilter\":[{\"level\":1,\"role\":\"user\"}],\"error\":{\"code\":\"1301\",\"message\":\"系统检测到输入或生成内容可能包含不安全或敏感内容，请您避免输入易产生敏感内容的提示语，感谢您的配合。\"}}\n",
      "Error extracting triplets for text chunk: Error code: 400, with error text {\"contentFilter\":[{\"level\":1,\"role\":\"user\"}],\"error\":{\"code\":\"1301\",\"message\":\"系统检测到输入或生成内容可能包含不安全或敏感内容，请您避免输入易产生敏感内容的提示语，感谢您的配合。\"}}\n",
      "Error extracting triplets for text chunk: Error code: 400, with error text {\"contentFilter\":[{\"level\":1,\"role\":\"user\"}],\"error\":{\"code\":\"1301\",\"message\":\"系统检测到输入或生成内容可能包含不安全或敏感内容，请您避免输入易产生敏感内容的提示语，感谢您的配合。\"}}\n",
      "Error extracting triplets for text chunk: Error code: 400, with error text {\"contentFilter\":[{\"level\":1,\"role\":\"user\"}],\"error\":{\"code\":\"1301\",\"message\":\"系统检测到输入或生成内容可能包含不安全或敏感内容，请您避免输入易产生敏感内容的提示语，感谢您的配合。\"}}\n",
      "Error extracting triplets for text chunk: Error code: 400, with error text {\"contentFilter\":[{\"level\":1,\"role\":\"user\"}],\"error\":{\"code\":\"1301\",\"message\":\"系统检测到输入或生成内容可能包含不安全或敏感内容，请您避免输入易产生敏感内容的提示语，感谢您的配合。\"}}\n",
      "Error extracting triplets for text chunk: Error code: 400, with error text {\"contentFilter\":[{\"level\":1,\"role\":\"user\"}],\"error\":{\"code\":\"1301\",\"message\":\"系统检测到输入或生成内容可能包含不安全或敏感内容，请您避免输入易产生敏感内容的提示语，感谢您的配合。\"}}\n",
      "Error extracting triplets for text chunk: Error code: 400, with error text {\"contentFilter\":[{\"level\":1,\"role\":\"assistant\"}],\"error\":{\"code\":\"1301\",\"message\":\"系统检测到输入或生成内容可能包含不安全或敏感内容，请您避免输入易产生敏感内容的提示语，感谢您的配合。\"}}\n",
      "Error extracting triplets for text chunk: Error code: 400, with error text {\"contentFilter\":[{\"level\":1,\"role\":\"user\"}],\"error\":{\"code\":\"1301\",\"message\":\"系统检测到输入或生成内容可能包含不安全或敏感内容，请您避免输入易产生敏感内容的提示语，感谢您的配合。\"}}\n",
      "Error extracting triplets for text chunk: Error code: 400, with error text {\"contentFilter\":[{\"level\":1,\"role\":\"user\"}],\"error\":{\"code\":\"1301\",\"message\":\"系统检测到输入或生成内容可能包含不安全或敏感内容，请您避免输入易产生敏感内容的提示语，感谢您的配合。\"}}\n",
      "Error extracting triplets for text chunk: Error code: 400, with error text {\"contentFilter\":[{\"level\":1,\"role\":\"user\"}],\"error\":{\"code\":\"1301\",\"message\":\"系统检测到输入或生成内容可能包含不安全或敏感内容，请您避免输入易产生敏感内容的提示语，感谢您的配合。\"}}\n",
      "Error extracting triplets for text chunk: Error code: 400, with error text {\"contentFilter\":[{\"level\":1,\"role\":\"user\"}],\"error\":{\"code\":\"1301\",\"message\":\"系统检测到输入或生成内容可能包含不安全或敏感内容，请您避免输入易产生敏感内容的提示语，感谢您的配合。\"}}\n",
      "Error extracting triplets for text chunk: Error code: 400, with error text {\"contentFilter\":[{\"level\":1,\"role\":\"user\"}],\"error\":{\"code\":\"1301\",\"message\":\"系统检测到输入或生成内容可能包含不安全或敏感内容，请您避免输入易产生敏感内容的提示语，感谢您的配合。\"}}\n",
      "Error extracting triplets for text chunk: Error code: 400, with error text {\"contentFilter\":[{\"level\":1,\"role\":\"user\"}],\"error\":{\"code\":\"1301\",\"message\":\"系统检测到输入或生成内容可能包含不安全或敏感内容，请您避免输入易产生敏感内容的提示语，感谢您的配合。\"}}\n",
      "Error extracting triplets for text chunk: Error code: 400, with error text {\"contentFilter\":[{\"level\":1,\"role\":\"user\"}],\"error\":{\"code\":\"1301\",\"message\":\"系统检测到输入或生成内容可能包含不安全或敏感内容，请您避免输入易产生敏感内容的提示语，感谢您的配合。\"}}\n",
      "Error extracting triplets for text chunk: Error code: 400, with error text {\"contentFilter\":[{\"level\":1,\"role\":\"user\"}],\"error\":{\"code\":\"1301\",\"message\":\"系统检测到输入或生成内容可能包含不安全或敏感内容，请您避免输入易产生敏感内容的提示语，感谢您的配合。\"}}\n",
      "Error extracting triplets for text chunk: Error code: 400, with error text {\"contentFilter\":[{\"level\":1,\"role\":\"user\"}],\"error\":{\"code\":\"1301\",\"message\":\"系统检测到输入或生成内容可能包含不安全或敏感内容，请您避免输入易产生敏感内容的提示语，感谢您的配合。\"}}\n",
      "Error extracting triplets for text chunk: Error code: 400, with error text {\"contentFilter\":[{\"level\":1,\"role\":\"user\"}],\"error\":{\"code\":\"1301\",\"message\":\"系统检测到输入或生成内容可能包含不安全或敏感内容，请您避免输入易产生敏感内容的提示语，感谢您的配合。\"}}\n",
      "Error extracting triplets for text chunk: Error code: 400, with error text {\"contentFilter\":[{\"level\":1,\"role\":\"user\"}],\"error\":{\"code\":\"1301\",\"message\":\"系统检测到输入或生成内容可能包含不安全或敏感内容，请您避免输入易产生敏感内容的提示语，感谢您的配合。\"}}\n",
      "Error extracting triplets for text chunk: Error code: 400, with error text {\"contentFilter\":[{\"level\":1,\"role\":\"user\"}],\"error\":{\"code\":\"1301\",\"message\":\"系统检测到输入或生成内容可能包含不安全或敏感内容，请您避免输入易产生敏感内容的提示语，感谢您的配合。\"}}\n",
      "Error extracting triplets for text chunk: Error code: 400, with error text {\"contentFilter\":[{\"level\":1,\"role\":\"user\"}],\"error\":{\"code\":\"1301\",\"message\":\"系统检测到输入或生成内容可能包含不安全或敏感内容，请您避免输入易产生敏感内容的提示语，感谢您的配合。\"}}\n",
      "Error extracting triplets for text chunk: Error code: 400, with error text {\"contentFilter\":[{\"level\":1,\"role\":\"user\"}],\"error\":{\"code\":\"1301\",\"message\":\"系统检测到输入或生成内容可能包含不安全或敏感内容，请您避免输入易产生敏感内容的提示语，感谢您的配合。\"}}\n",
      "Error extracting triplets for text chunk: Error code: 400, with error text {\"contentFilter\":[{\"level\":1,\"role\":\"user\"}],\"error\":{\"code\":\"1301\",\"message\":\"系统检测到输入或生成内容可能包含不安全或敏感内容，请您避免输入易产生敏感内容的提示语，感谢您的配合。\"}}\n",
      "Error extracting triplets for text chunk: Error code: 400, with error text {\"contentFilter\":[{\"level\":1,\"role\":\"user\"}],\"error\":{\"code\":\"1301\",\"message\":\"系统检测到输入或生成内容可能包含不安全或敏感内容，请您避免输入易产生敏感内容的提示语，感谢您的配合。\"}}\n",
      "Error extracting triplets for text chunk: Error code: 400, with error text {\"contentFilter\":[{\"level\":1,\"role\":\"user\"}],\"error\":{\"code\":\"1301\",\"message\":\"系统检测到输入或生成内容可能包含不安全或敏感内容，请您避免输入易产生敏感内容的提示语，感谢您的配合。\"}}\n",
      "Error extracting triplets for text chunk: Error code: 400, with error text {\"contentFilter\":[{\"level\":1,\"role\":\"user\"}],\"error\":{\"code\":\"1301\",\"message\":\"系统检测到输入或生成内容可能包含不安全或敏感内容，请您避免输入易产生敏感内容的提示语，感谢您的配合。\"}}\n",
      "Error extracting triplets for text chunk: Error code: 400, with error text {\"contentFilter\":[{\"level\":1,\"role\":\"user\"}],\"error\":{\"code\":\"1301\",\"message\":\"系统检测到输入或生成内容可能包含不安全或敏感内容，请您避免输入易产生敏感内容的提示语，感谢您的配合。\"}}\n",
      "Error extracting triplets for text chunk: Error code: 400, with error text {\"contentFilter\":[{\"level\":1,\"role\":\"user\"}],\"error\":{\"code\":\"1301\",\"message\":\"系统检测到输入或生成内容可能包含不安全或敏感内容，请您避免输入易产生敏感内容的提示语，感谢您的配合。\"}}\n",
      "Error extracting triplets for text chunk: Error code: 400, with error text {\"contentFilter\":[{\"level\":1,\"role\":\"user\"}],\"error\":{\"code\":\"1301\",\"message\":\"系统检测到输入或生成内容可能包含不安全或敏感内容，请您避免输入易产生敏感内容的提示语，感谢您的配合。\"}}\n",
      "Error extracting triplets for text chunk: Error code: 400, with error text {\"contentFilter\":[{\"level\":1,\"role\":\"user\"}],\"error\":{\"code\":\"1301\",\"message\":\"系统检测到输入或生成内容可能包含不安全或敏感内容，请您避免输入易产生敏感内容的提示语，感谢您的配合。\"}}\n",
      "Error extracting triplets for text chunk: Error code: 400, with error text {\"contentFilter\":[{\"level\":1,\"role\":\"user\"}],\"error\":{\"code\":\"1301\",\"message\":\"系统检测到输入或生成内容可能包含不安全或敏感内容，请您避免输入易产生敏感内容的提示语，感谢您的配合。\"}}\n",
      "Error extracting triplets for text chunk: Error code: 400, with error text {\"contentFilter\":[{\"level\":1,\"role\":\"user\"}],\"error\":{\"code\":\"1301\",\"message\":\"系统检测到输入或生成内容可能包含不安全或敏感内容，请您避免输入易产生敏感内容的提示语，感谢您的配合。\"}}\n",
      "Error extracting triplets for text chunk: Error code: 400, with error text {\"contentFilter\":[{\"level\":1,\"role\":\"user\"}],\"error\":{\"code\":\"1301\",\"message\":\"系统检测到输入或生成内容可能包含不安全或敏感内容，请您避免输入易产生敏感内容的提示语，感谢您的配合。\"}}\n",
      "Error extracting triplets for text chunk: Error code: 400, with error text {\"contentFilter\":[{\"level\":1,\"role\":\"user\"}],\"error\":{\"code\":\"1301\",\"message\":\"系统检测到输入或生成内容可能包含不安全或敏感内容，请您避免输入易产生敏感内容的提示语，感谢您的配合。\"}}\n",
      "Error extracting triplets for text chunk: Error code: 400, with error text {\"contentFilter\":[{\"level\":1,\"role\":\"user\"}],\"error\":{\"code\":\"1301\",\"message\":\"系统检测到输入或生成内容可能包含不安全或敏感内容，请您避免输入易产生敏感内容的提示语，感谢您的配合。\"}}\n",
      "Error extracting triplets for text chunk: Error code: 400, with error text {\"contentFilter\":[{\"level\":1,\"role\":\"user\"}],\"error\":{\"code\":\"1301\",\"message\":\"系统检测到输入或生成内容可能包含不安全或敏感内容，请您避免输入易产生敏感内容的提示语，感谢您的配合。\"}}\n",
      "Error extracting triplets for text chunk: Error code: 400, with error text {\"contentFilter\":[{\"level\":1,\"role\":\"user\"}],\"error\":{\"code\":\"1301\",\"message\":\"系统检测到输入或生成内容可能包含不安全或敏感内容，请您避免输入易产生敏感内容的提示语，感谢您的配合。\"}}\n",
      "Error extracting triplets for text chunk: Error code: 400, with error text {\"contentFilter\":[{\"level\":1,\"role\":\"user\"}],\"error\":{\"code\":\"1301\",\"message\":\"系统检测到输入或生成内容可能包含不安全或敏感内容，请您避免输入易产生敏感内容的提示语，感谢您的配合。\"}}\n",
      "Error extracting triplets for text chunk: Error code: 400, with error text {\"contentFilter\":[{\"level\":1,\"role\":\"user\"}],\"error\":{\"code\":\"1301\",\"message\":\"系统检测到输入或生成内容可能包含不安全或敏感内容，请您避免输入易产生敏感内容的提示语，感谢您的配合。\"}}\n",
      "Error extracting triplets for text chunk: Error code: 400, with error text {\"contentFilter\":[{\"level\":1,\"role\":\"user\"}],\"error\":{\"code\":\"1301\",\"message\":\"系统检测到输入或生成内容可能包含不安全或敏感内容，请您避免输入易产生敏感内容的提示语，感谢您的配合。\"}}\n",
      "Error extracting triplets for text chunk: Error code: 400, with error text {\"contentFilter\":[{\"level\":1,\"role\":\"user\"}],\"error\":{\"code\":\"1301\",\"message\":\"系统检测到输入或生成内容可能包含不安全或敏感内容，请您避免输入易产生敏感内容的提示语，感谢您的配合。\"}}\n",
      "Error extracting triplets for text chunk: Error code: 400, with error text {\"contentFilter\":[{\"level\":1,\"role\":\"user\"}],\"error\":{\"code\":\"1301\",\"message\":\"系统检测到输入或生成内容可能包含不安全或敏感内容，请您避免输入易产生敏感内容的提示语，感谢您的配合。\"}}\n",
      "Error extracting triplets for text chunk: Error code: 400, with error text {\"contentFilter\":[{\"level\":1,\"role\":\"user\"}],\"error\":{\"code\":\"1301\",\"message\":\"系统检测到输入或生成内容可能包含不安全或敏感内容，请您避免输入易产生敏感内容的提示语，感谢您的配合。\"}}\n",
      "Error extracting triplets for text chunk: Error code: 400, with error text {\"contentFilter\":[{\"level\":1,\"role\":\"user\"}],\"error\":{\"code\":\"1301\",\"message\":\"系统检测到输入或生成内容可能包含不安全或敏感内容，请您避免输入易产生敏感内容的提示语，感谢您的配合。\"}}\n",
      "Error extracting triplets for text chunk: Error code: 400, with error text {\"contentFilter\":[{\"level\":1,\"role\":\"assistant\"}],\"error\":{\"code\":\"1301\",\"message\":\"系统检测到输入或生成内容可能包含不安全或敏感内容，请您避免输入易产生敏感内容的提示语，感谢您的配合。\"}}\n",
      "Error extracting triplets for text chunk: Error code: 400, with error text {\"contentFilter\":[{\"level\":1,\"role\":\"user\"}],\"error\":{\"code\":\"1301\",\"message\":\"系统检测到输入或生成内容可能包含不安全或敏感内容，请您避免输入易产生敏感内容的提示语，感谢您的配合。\"}}\n",
      "Error extracting triplets for text chunk: Error code: 400, with error text {\"contentFilter\":[{\"level\":1,\"role\":\"user\"}],\"error\":{\"code\":\"1301\",\"message\":\"系统检测到输入或生成内容可能包含不安全或敏感内容，请您避免输入易产生敏感内容的提示语，感谢您的配合。\"}}\n",
      "Error extracting triplets for text chunk: Error code: 400, with error text {\"contentFilter\":[{\"level\":1,\"role\":\"assistant\"}],\"error\":{\"code\":\"1301\",\"message\":\"系统检测到输入或生成内容可能包含不安全或敏感内容，请您避免输入易产生敏感内容的提示语，感谢您的配合。\"}}\n",
      "Index creation time: 19216.0460 seconds\n",
      "<class '__main__.RobustKnowledgeGraphIndex'>\n"
     ]
    }
   ],
   "source": [
    "from llama_index.core import KnowledgeGraphIndex\n",
    "import time\n",
    "from typing import List\n",
    "\n",
    "# Start the timer\n",
    "start_time = time.time()\n",
    "\n",
    "class RobustKnowledgeGraphIndex(KnowledgeGraphIndex):\n",
    "    def _extract_triplets(self, text: str) -> List[tuple]:\n",
    "        \"\"\"Extract triplets with error handling to ignore failures.\"\"\"\n",
    "        try:\n",
    "            # Call the parent class's triplet extraction method\n",
    "            return super()._extract_triplets(text)\n",
    "        except Exception as e:\n",
    "            # Log the error (optional) and return an empty list to continue processing\n",
    "            print(f\"Error extracting triplets for text chunk: {e}\")\n",
    "            return []\n",
    "\n",
    "# Graph index with embeddings\n",
    "graph_index = RobustKnowledgeGraphIndex.from_documents(\n",
    "    documents,\n",
    "    max_triplets_per_chunk=5,\n",
    "    include_embeddings=True,\n",
    "    show_progress=False,\n",
    ")\n",
    "\n",
    "# Stop the timer\n",
    "end_time = time.time()\n",
    "\n",
    "# Calculate and print the execution time\n",
    "elapsed_time = end_time - start_time\n",
    "print(f\"Index creation time: {elapsed_time:.4f} seconds\")\n",
    "\n",
    "print(type(graph_index))\n",
    "\n",
    "# Save the graph index to a file\n",
    "graph_index_saving_path = \"./dataset/graph_storage\"\n",
    "graph_index.storage_context.persist(persist_dir=graph_index_saving_path)"
   ]
  },
  {
   "cell_type": "markdown",
   "id": "40bfe516",
   "metadata": {},
   "source": [
    "### Displaying the graph in HTML file"
   ]
  },
  {
   "cell_type": "code",
   "execution_count": 15,
   "id": "278073b4",
   "metadata": {},
   "outputs": [
    {
     "name": "stdout",
     "output_type": "stream",
     "text": [
      "Loading llama_index.core.storage.kvstore.simple_kvstore from ./dataset/graph_storage/docstore.json.\n",
      "Loading llama_index.core.storage.kvstore.simple_kvstore from ./dataset/graph_storage/index_store.json.\n",
      "Knowledge_graph_visual.html\n"
     ]
    }
   ],
   "source": [
    "# Load the Graph data\n",
    "from llama_index.core import StorageContext, load_index_from_storage\n",
    "\n",
    "graph_index_saving_path = \"./dataset/graph_storage\"\n",
    "storage_context = StorageContext.from_defaults(persist_dir=graph_index_saving_path)\n",
    "\n",
    "graph_index = load_index_from_storage(storage_context)\n",
    "\n",
    "# Create graph\n",
    "from pyvis.network import Network\n",
    "\n",
    "g = graph_index.get_networkx_graph()\n",
    "net = Network(notebook=True, cdn_resources=\"in_line\", directed=True)\n",
    "net.from_nx(g)\n",
    "\n",
    "# Set node and edge properties: colors and sizes\n",
    "for node in net.nodes:\n",
    "    node['color'] = 'lightgray'\n",
    "    node['size'] = 10\n",
    "\n",
    "for edge in net.edges:\n",
    "    edge['color'] = 'black'\n",
    "    edge['width'] = 1\n",
    "\n",
    "fgraph=\"Knowledge_graph_visual.html\"\n",
    "net.write_html(fgraph)\n",
    "print(fgraph)"
   ]
  },
  {
   "cell_type": "markdown",
   "id": "06cca3cb",
   "metadata": {},
   "source": [
    "## Interacting with the Knowledge graph index"
   ]
  },
  {
   "cell_type": "code",
   "execution_count": 16,
   "id": "ebb36af7",
   "metadata": {},
   "outputs": [],
   "source": [
    "import time\n",
    "import textwrap\n",
    "\n",
    "\n",
    "\n",
    "#similarity_top_k\n",
    "k=3\n",
    "#temperature\n",
    "temp=0.1\n",
    "#num_output\n",
    "mt=1024\n",
    "graph_query_engine = graph_index.as_query_engine(similarity_top_k=k, temperature=temp, num_output=mt)\n",
    "\n",
    "def execute_query(user_input, k=3, temp=0.1, mt=1024):\n",
    "\n",
    "    # Start the timer\n",
    "    start_time = time.time()\n",
    "\n",
    "    # Execute the query with additional parameters\n",
    "    response = graph_query_engine.query(user_input)\n",
    "\n",
    "    # Stop the timer\n",
    "    end_time = time.time()\n",
    "\n",
    "    # Calculate and print the execution time\n",
    "    elapsed_time = end_time - start_time\n",
    "    print(f\"Query execution time: {elapsed_time:.4f} seconds\")\n",
    "\n",
    "    # Print the response, wrapped to 100 characters per line\n",
    "    print(textwrap.fill(str(response), 100))\n",
    "    return response"
   ]
  },
  {
   "cell_type": "code",
   "execution_count": 17,
   "id": "ee3d3fb6",
   "metadata": {},
   "outputs": [],
   "source": [
    "user_query=\"Summarise the methods to improve efficiency of solar cells, in ordered list.\""
   ]
  },
  {
   "cell_type": "code",
   "execution_count": 18,
   "id": "a1b4beb4",
   "metadata": {},
   "outputs": [
    {
     "name": "stdout",
     "output_type": "stream",
     "text": [
      "Query execution time: 13.5474 seconds\n",
      "1. Multi-junction (MJ) solar cells - Use multiple p–n junctions with different semiconductor materials to absorb a\n",
      "broader range of wavelengths, improving sunlight to electrical energy conversion efficiency. 2. Tandem fabrication\n",
      "techniques - Apply to lower-cost thin-film solar cells, using materials like amorphous silicon, to create lightweight,\n",
      "flexible cells with about 10% efficiency. 3. Organic solar cells - Utilize conductive organic polymers or small organic\n",
      "molecules, potentially increasing the efficiency of existing inorganic solar cell technologies. 4. Quantum dot solar\n",
      "cells - Employ quantum dots as photovoltaic material, potentially overcoming limitations of bulk materials. 5. Hybrid\n",
      "solar cells - Combine organic and inorganic semiconductors to leverage the benefits of both. 6. Concentrated\n",
      "photovoltaics (CPV) - Use optics to concentrate sunlight onto a small area, enhancing the efficiency for certain\n",
      "applications. 7. Photovoltaic thermal hybrid solar collector - Convert solar radiation into both thermal and electrical\n",
      "energy, potentially increasing overall efficiency.\n"
     ]
    }
   ],
   "source": [
    "import time\n",
    "import textwrap\n",
    "import sys\n",
    "import io\n",
    "# Start the timer\n",
    "start_time = time.time()\n",
    "# Capture the output\n",
    "old_stdout = sys.stdout\n",
    "new_stdout = io.StringIO()\n",
    "sys.stdout = new_stdout\n",
    "response = execute_query(user_query)\n",
    "# Restore stdout\n",
    "sys.stdout = old_stdout\n",
    "# Stop the timer\n",
    "end_time = time.time()\n",
    "# Calculate and print the execution time\n",
    "elapsed_time = end_time - start_time\n",
    "print(f\"Query execution time: {elapsed_time:.4f} seconds\")\n",
    "\n",
    "print(textwrap.fill(str(response), 120))"
   ]
  },
  {
   "cell_type": "code",
   "execution_count": 19,
   "id": "cb443061",
   "metadata": {},
   "outputs": [
    {
     "name": "stdout",
     "output_type": "stream",
     "text": [
      "Improving the efficiency of solar cells can be achieved through several methods:\n",
      "\n",
      "1. **Enhanced Photocatalysis:** Utilizing catalysts to increase the efficiency of light absorption and charge separation in solar cells.\n",
      "\n",
      "2. **Antireflective Coatings:** Applying antireflective coatings to reduce the reflection of light from the solar cell surface, thus allowing more light to enter and be converted into electricity.\n",
      "\n",
      "3. **Texturing the Surface:** Roughening the surface of the solar cells can increase the effective area of the cell, allowing for greater light absorption.\n",
      "\n",
      "4. **Multiple Junction Cells:** Using solar cells with multiple layers to capture light across a broader spectrum and increase overall efficiency.\n",
      "\n",
      "5. **Selective Emitter Layers:** Implementing selective emitter layers to improve the efficiency of light absorption at certain wavelengths.\n",
      "\n",
      "6. **Improved Material Quality:** Using high-purity materials and minimizing defects and impurities within the solar cell structure to enhance performance.\n",
      "\n",
      "7. **Optimized Structure:** Designing the cell structure to optimize light absorption and reduce internal losses, such as by using thinner active layers or incorporating light trapping designs.\n",
      "\n",
      "8. **Cooling Techniques:** Implementing cooling methods to reduce the degradation of solar cells caused by higher operating temperatures.\n",
      "\n",
      "9. **Selective Absorption Layers:** Adding layers that selectively absorb certain wavelengths of light to convert them more efficiently into electricity.\n",
      "\n",
      "10. **Thermal Management:** Efficiently dissipating heat from the solar cell to maintain optimal operating temperatures.\n",
      "\n",
      "11. **Dye-Sensitized Solar Cells (DSSC):** Employing dyes that can absorb a broader range of the solar spectrum to enhance the cell's efficiency.\n",
      "\n",
      "12. **Quantum Dots:** Utilizing quantum dots to increase light absorption in the solar cell, particularly in the infrared range, which is not efficiently captured by traditional silicon cells.\n",
      "\n",
      "By combining these strategies, the efficiency of solar cells can be significantly improved, making them more suitable for a wider range of applications.\n"
     ]
    }
   ],
   "source": [
    "print(llm_extraction.complete(\"Summarise the methods to improve efficiency of solar cells.\"))"
   ]
  }
 ],
 "metadata": {
  "kernelspec": {
   "display_name": ".venv",
   "language": "python",
   "name": "python3"
  },
  "language_info": {
   "codemirror_mode": {
    "name": "ipython",
    "version": 3
   },
   "file_extension": ".py",
   "mimetype": "text/x-python",
   "name": "python",
   "nbconvert_exporter": "python",
   "pygments_lexer": "ipython3",
   "version": "3.13.4"
  }
 },
 "nbformat": 4,
 "nbformat_minor": 5
}
