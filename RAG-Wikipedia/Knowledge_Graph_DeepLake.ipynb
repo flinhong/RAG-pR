{
 "cells": [
  {
   "cell_type": "code",
   "execution_count": null,
   "id": "2b50c873",
   "metadata": {},
   "outputs": [],
   "source": [
    "import os\n",
    "from dotenv import load_dotenv\n",
    "load_dotenv()"
   ]
  },
  {
   "cell_type": "markdown",
   "id": "2d76e035",
   "metadata": {},
   "source": [
    "## Preparing the data for processing"
   ]
  },
  {
   "cell_type": "markdown",
   "id": "69433ad3",
   "metadata": {},
   "source": [
    "### Pipeline 1: Collecting and preparing the documents"
   ]
  },
  {
   "cell_type": "code",
   "execution_count": null,
   "id": "567fef68",
   "metadata": {},
   "outputs": [],
   "source": [
    "# File name for file management\n",
    "graph_name = \"Marketing\"\n",
    "\n",
    "ufilename = graph_name + \"_urls.txt\"\n",
    "\n",
    "import requests\n",
    "from bs4 import BeautifulSoup\n",
    "import re\n",
    "\n",
    "with open(ufilename, 'r') as file:\n",
    "    urls = [line.strip() for line in file]\n",
    "\n",
    "print(\"Read URLs:\")\n",
    "for url in urls:\n",
    "    print(url)"
   ]
  },
  {
   "cell_type": "code",
   "execution_count": null,
   "id": "239a3f08",
   "metadata": {},
   "outputs": [],
   "source": [
    "def clean_text(content):\n",
    "    # Remove references and unwanted characters\n",
    "    content = re.sub(r'\\[\\d+\\]', '', content)   # Remove references\n",
    "    content = re.sub(r'[^\\w\\s\\.]', '', content)  # Remove punctuation (except periods)\n",
    "    return content\n",
    "\n",
    "def safe_file_name(s):\n",
    "    # Replace spaces with underscores\n",
    "    s = s.replace(' ', '_')\n",
    "    \n",
    "    # Remove any characters that are not allowed in file names\n",
    "    safe_str = ''.join(c for c in s if c.isalpha() or c.isdigit() or c in [' ', '.', '_', '-'])\n",
    "    \n",
    "    return safe_str\n",
    "\n",
    "def file_exists_and_has_content(file_path):\n",
    "    # Check if the file exists\n",
    "    if not os.path.exists(file_path):\n",
    "        return False\n",
    "    \n",
    "    # Check if the file is not empty\n",
    "    with open(file_path, 'r', encoding='utf-8') as file:\n",
    "        first_char = file.read(1)\n",
    "        if first_char:\n",
    "            return True\n",
    "        else:\n",
    "            return False\n",
    "\n",
    "def fetch_and_clean(url):\n",
    "    try:\n",
    "        response = requests.get(url)\n",
    "        response.raise_for_status()  # Raise an error for bad responses\n",
    "        soup = BeautifulSoup(response.content, 'html.parser')\n",
    "\n",
    "        # Prioritise \"mw-parser-output\" but fall back to \"content\" node if not found\n",
    "        content = soup.find('div', {'class': 'mw-parser-output'}) or soup.find('div', {'id': 'content'})\n",
    "        if content is None:\n",
    "            return None\n",
    "        \n",
    "        # Remove specific unwanted sections, including nested ones\n",
    "        for section_title in ['References', 'Bibliography', 'External links', 'See also', 'Notes']:\n",
    "            section = content.find('span', id=section_title)\n",
    "            while section:\n",
    "                for sib in section.parent.find_next_siblings():\n",
    "                    sib.decompose()  # Remove the section and its siblings\n",
    "                section.parent.decompose()  # Remove the section itself\n",
    "                section = content.find('span', id=section_title)\n",
    "\n",
    "        # Extract and clean text\n",
    "        text = content.get_text(separator=' ', strip=True)  # Use space as separator and strip whitespace\n",
    "        text = clean_text(text)\n",
    "        return text\n",
    "    except requests.RequestException as e:\n",
    "        print(f\"Error fetching {url}: {e}\")\n",
    "        return None  # Return None if there's an error\n",
    "    \n",
    "# Directory to store the output file\n",
    "output_dir = './data/'\n",
    "os.makedirs(output_dir, exist_ok=True)\n",
    "\n",
    "# Processing the URLs and skipping invalid ones\n",
    "reload = False  # Set to True to reprocess all URLs\n",
    "if reload==True:\n",
    "    for url in urls:\n",
    "        article_name = url.split('/')[-1].replace('.html', '')\n",
    "        filename = os.path.join(output_dir, f\"{safe_file_name(article_name)}.txt\")\n",
    "\n",
    "        if file_exists_and_has_content(filename) is True:\n",
    "            print(f\"Existed {filename}\")\n",
    "            continue\n",
    "        else:\n",
    "            clean_article_text = fetch_and_clean(url)\n",
    "            if clean_article_text:  # Only write if text is not None\n",
    "                with open(filename, 'w', encoding='utf-8') as file:\n",
    "                    file.write(clean_article_text)\n",
    "                    print(f\"Saved {filename}\")"
   ]
  },
  {
   "cell_type": "code",
   "execution_count": null,
   "id": "da45ea6f",
   "metadata": {},
   "outputs": [],
   "source": [
    "from llama_index.core import SimpleDirectoryReader\n",
    "\n",
    "# Load documents\n",
    "documents = SimpleDirectoryReader(\"./data\").load_data()\n",
    "print(documents[0])"
   ]
  },
  {
   "cell_type": "markdown",
   "id": "3a539dac",
   "metadata": {},
   "source": [
    "## Pipeline 2: Creating and populating the Deeplake Vector Store"
   ]
  },
  {
   "cell_type": "code",
   "execution_count": 26,
   "id": "d9fddd9a",
   "metadata": {},
   "outputs": [
    {
     "name": "stdout",
     "output_type": "stream",
     "text": [
      "[-0.026066716760396957, 0.03491828963160515, -0.15004031360149384, 0.000718199647963047, -0.003328433260321617]\n"
     ]
    }
   ],
   "source": [
    "# Setup embedding model\n",
    "from llama_index.core import Settings\n",
    "\n",
    "\n",
    "# # MistralAI embedding\n",
    "# # rate limit of 1 request per second, set a large batch size to avoid rate limiting\n",
    "# from llama_index.embeddings.mistralai import MistralAIEmbedding\n",
    "# embedding_model_name = \"mistral-embed\"\n",
    "# embed_model = MistralAIEmbedding(\n",
    "#     model_name = embedding_model_name,\n",
    "#     api_key = os.getenv(\"MISTRAL_API_KEY\"),\n",
    "#     embed_batch_size = 30\n",
    "# )\n",
    "\n",
    "\n",
    "# Using local embedding models served by LM Studio\n",
    "# Use fake API key (LM Studio doesn't validate it)\n",
    "from llama_index.embeddings.openai import OpenAIEmbedding\n",
    "embed_model = OpenAIEmbedding(\n",
    "    api_base = \"http://localhost:12345/v1\",\n",
    "    api_key = \"whatever-is-in-lmstudio\",\n",
    "    model_name = \"text-embedding-nomic-embed-text-v1.5\",\n",
    "    embed_batch_size = 1\n",
    ")\n",
    "\n",
    "\n",
    "\n",
    "# Embedding model verification\n",
    "Settings.embed_model = embed_model\n",
    "embed = embed_model.get_text_embedding(\"The quick brown fox jumps over the lazy dog.\")\n",
    "print(embed[:5])  # Should print a list of floats"
   ]
  },
  {
   "cell_type": "code",
   "execution_count": 27,
   "id": "c5244261",
   "metadata": {},
   "outputs": [
    {
     "name": "stderr",
     "output_type": "stream",
     "text": []
    },
    {
     "data": {
      "application/vnd.jupyter.widget-view+json": {
       "model_id": "d2418473a1f944909c4859ca9ea64833",
       "version_major": 2,
       "version_minor": 0
      },
      "text/plain": [
       "Parsing nodes:   0%|          | 0/185 [00:00<?, ?it/s]"
      ]
     },
     "metadata": {},
     "output_type": "display_data"
    },
    {
     "data": {
      "application/vnd.jupyter.widget-view+json": {
       "model_id": "c0d6370d2fb444b39dfd8aafe86a87bd",
       "version_major": 2,
       "version_minor": 0
      },
      "text/plain": [
       "Generating embeddings:   0%|          | 0/1661 [00:00<?, ?it/s]"
      ]
     },
     "metadata": {},
     "output_type": "display_data"
    },
    {
     "name": "stdout",
     "output_type": "stream",
     "text": [
      "Uploading data to deeplake dataset.\n"
     ]
    },
    {
     "name": "stderr",
     "output_type": "stream",
     "text": [
      "100%|██████████| 1661/1661 [00:02<00:00, 667.67it/s]\n"
     ]
    },
    {
     "name": "stdout",
     "output_type": "stream",
     "text": [
      "Dataset(path='./dataset/marketing01', tensors=['text', 'metadata', 'embedding', 'id'])\n",
      "\n",
      "  tensor      htype       shape      dtype  compression\n",
      "  -------    -------     -------    -------  ------- \n",
      "   text       text      (1661, 1)     str     None   \n",
      " metadata     json      (1661, 1)     str     None   \n",
      " embedding  embedding  (1661, 768)  float32   None   \n",
      "    id        text      (1661, 1)     str     None   \n"
     ]
    }
   ],
   "source": [
    "from llama_index.vector_stores.deeplake import DeepLakeVectorStore\n",
    "from llama_index.core import StorageContext, VectorStoreIndex\n",
    "\n",
    "# Path for vector store and dataset\n",
    "# os.environ['ACTIVELOOP_TOKEN'] = os.getenv('ACTIVELOOP_TOKEN')\n",
    "# database = \"hub://honglin/marketing01\" # hosted deeplake database\n",
    "database = \"./dataset/marketing01\" # local storage\n",
    "vector_store_path = database\n",
    "dataset_path = database\n",
    "\n",
    "# Create an index over the documents\n",
    "# Overwrites the existing dataset if True\n",
    "ow = True\n",
    "\n",
    "try:\n",
    "    vector_store = DeepLakeVectorStore(dataset_path=dataset_path, overwrite=ow)\n",
    "    storage_context = StorageContext.from_defaults(vector_store=vector_store)\n",
    "    index = VectorStoreIndex.from_documents(documents, storage_context, show_progress=True, embed_model=Settings.embed_model)\n",
    "except Exception as e:\n",
    "    print(f\"An error occurred: {e}\")\n",
    "    print(f\"Error type: {type(e)}\")\n",
    "    print(f\"Error traceback: {e.__traceback__}\")"
   ]
  },
  {
   "cell_type": "code",
   "execution_count": 28,
   "id": "5bc46409",
   "metadata": {},
   "outputs": [
    {
     "name": "stdout",
     "output_type": "stream",
     "text": [
      "./dataset/marketing01 loaded successfully.\n",
      "\n",
      "Dataset(path='./dataset/marketing01', tensors=['embedding', 'id', 'metadata', 'text'])\n",
      "\n",
      "  tensor      htype       shape      dtype  compression\n",
      "  -------    -------     -------    -------  ------- \n",
      " embedding  embedding  (1661, 768)  float32   None   \n",
      "    id        text      (1661, 1)     str     None   \n",
      " metadata     json      (1661, 1)     str     None   \n",
      "   text       text      (1661, 1)     str     None   \n"
     ]
    },
    {
     "name": "stderr",
     "output_type": "stream",
     "text": []
    }
   ],
   "source": [
    "import deeplake\n",
    "ds = deeplake.load(dataset_path)\n",
    "ds.summary()"
   ]
  },
  {
   "cell_type": "code",
   "execution_count": 29,
   "id": "1d73ebcc",
   "metadata": {},
   "outputs": [],
   "source": [
    "import pandas as pd\n",
    "import numpy as np\n",
    "\n",
    "# Create a dictionary to hold the data\n",
    "data = {}\n",
    "\n",
    "# Iterate through the tensors in the dataset\n",
    "for tensor_name in ds.tensors:\n",
    "    tensor_data = ds[tensor_name].numpy()\n",
    "\n",
    "    # Check if the tensor is multi-dimensional\n",
    "    if tensor_data.ndim > 1:\n",
    "        # Flatten multi-dimensional tensors\n",
    "        data[tensor_name] = [np.array(e).flatten().tolist() for e in tensor_data]\n",
    "    else:\n",
    "        # Convert 1D tensors directly to lists and decode text\n",
    "        if tensor_name == \"text\":\n",
    "            data[tensor_name] = [t.tobytes().decode('utf-8') if t else \"\" for t in tensor_data]\n",
    "        else:\n",
    "            data[tensor_name] = tensor_data.tolist()\n",
    "\n",
    "# Create a Pandas DataFrame from the dictionary\n",
    "df = pd.DataFrame(data)"
   ]
  },
  {
   "cell_type": "code",
   "execution_count": 30,
   "id": "e942f975",
   "metadata": {},
   "outputs": [
    {
     "name": "stdout",
     "output_type": "stream",
     "text": [
      "ID:\n",
      "['96a2d55d-016d-49e3-a04c-1c031c56d259']\n",
      "\n",
      "Metadata:\n",
      "file_path: /home/ongin/github/RAG-pR/RAG-Wikipedia/data/24-hour_news_cycle.txt\n",
      "file_name: 24-hour_news_cycle.txt\n",
      "file_type: text/plain\n",
      "file_size: 7571\n",
      "creation_date: 2025-06-09\n",
      "last_modified_date: 2025-06-09\n",
      "_node_content: {\"id_\": \"96a2d55d-016d-49e3-a04c-1c031c56d259\", \"embedding\": null, \"metadata\": {\"file_path\": \"/home/ongin/github/RAG-pR/RAG-Wikipedia/data/24-hour_news_cycle.txt\", \"file_name\": \"24-hour_news_cycle.txt\", \"file_type\": \"text/plain\", \"file_size\": 7571, \"creation_date\": \"2025-06-09\", \"last_modified_date\": \"2025-06-09\"}, \"excluded_embed_metadata_keys\": [\"file_name\", \"file_type\", \"file_size\", \"creation_date\", \"last_modified_date\", \"last_accessed_date\"], \"excluded_llm_metadata_keys\": [\"file_name\", \"file_type\", \"file_size\", \"creation_date\", \"last_modified_date\", \"last_accessed_date\"], \"relationships\": {\"1\": {\"node_id\": \"3681b6f2-8dd5-4fce-9e1e-9a0623f7fae1\", \"node_type\": \"4\", \"metadata\": {\"file_path\": \"/home/ongin/github/RAG-pR/RAG-Wikipedia/data/24-hour_news_cycle.txt\", \"file_name\": \"24-hour_news_cycle.txt\", \"file_type\": \"text/plain\", \"file_size\": 7571, \"creation_date\": \"2025-06-09\", \"last_modified_date\": \"2025-06-09\"}, \"hash\": \"775053daf2e4c0938f31e8e874a33188715bb9802a9533b9ee1f09648d2a6bc3\", \"class_name\": \"RelatedNodeInfo\"}, \"3\": {\"node_id\": \"1162ee2f-382c-4c41-9c81-37e621d2ee1b\", \"node_type\": \"1\", \"metadata\": {}, \"hash\": \"4b938eb2d7b534ddcb30cb41c8391d483afd40014769fea026d40bc802266d1f\", \"class_name\": \"RelatedNodeInfo\"}}, \"metadata_template\": \"{key}: {value}\", \"metadata_separator\": \"\\n\", \"text\": \"Investigation and reporting of news concomitant with fastpaced lifestyles This article is about the fastpaced cycle of news media in technologically advanced societies. For the longerterm cycle of news and information see information cycle . Several simultaneous NBC News broadcasts including MSNBC  NBC s Today and CNBC s Squawk Box  displayed on monitors The 24hour news cycle or 247 news cycle  is the 24hour investigation and reporting of news concomitant with fastpaced lifestyles . The vast news resources available in recent decades have increased competition for audience and advertiser attention prompting media providers to deliver the latest news in the most compelling manner in order to remain ahead of competitors. Television radio print online and mobile app news media all have many suppliers that want to be relevant to their audiences and deliver news first. A complete news cycle consists of the media reporting on some event followed by the media reporting on public and other reactions to the earlier reports. The advent of 24hour cable and satellite television news channels and in more recent times of news sources on the World Wide Web including blogs  considerably shortened this process. History  edit  Although allnews radio operated for decades earlier the 24hour news cycle arrived with the advent of cable television channels dedicated to news  1  and brought about a much faster pace of news production with an increased demand for stories that could be presented as continual news with constant updating. This was a contrast with the daybyday pace of the news cycle of printed daily newspapers .  2  A high premium on faster reporting would see a further increase with the advent of online news .  3  In 2015 Time magazine noted that the 1995 O. J. Simpson murder case was a significant early example of the 24hour news cycle.  4  Critical assessment  edit  According to former journalists Bill Kovach and Tom Rosenstiel  24hour news creates wild competition among media organizations for audience share .  5  This coupled with the profit demand of their corporate ownership has led to a decline in journalistic standards .  5  In their book Warp Speed America in the Age of Mixed Media  they write that the press has moved toward sensationalism  entertainment  and opinion  and away from traditional values of verification  proportion  relevance  depth and quality of interpretation.  5  They fear these values will be replaced by a journalism of assertion which deemphasizes whether a claim is valid and encourages putting a claim into the arena of public discussion as quickly as possible.  5  See also  edit  Internet portal Journalism portal Television portal CNN effect Feiler faster thesis Information overload Information pollution Infotainment References  edit   Silvia Tony 2001. 2. CNN The Origins of the 24Hour International News Cycle. Global News Perspectives on the Information Age . Blackwell. pp.\\u00a045f. ISBN 0813802563 .  Kansas David Gitlin Todd 2001. Whats the Rush An eepistolary Debate on the 24 hour news clock . In Giles Robert H. Snyder Robert W. eds.. Whats Next Problems  Prospects of Journalism . Transaction. pp. 83f . ISBN 0765807092 .  Swanson David L. 2003. 1. Political news in the changing environment of political journalism. In Wolfsfeld Gadi Maarek Philippe J. eds.. Political Communication in a New Era A Crossnational Perspective . Routledge. pp.\\u00a020f. ISBN 041528953X .  How the O.J. Simpson Verdict Changed the Way We All Watch TVTime  a b c d Weaver David H. et\\u00a0al. 2006. 8. Journalists Best Work. The American Journalist in the 21st Century US News People at the Dawn of a New Millennium . Routledge. p.\\u00a0226. ISBN 0805853820 .\", \"mimetype\": \"text/plain\", \"start_char_idx\": 0, \"end_char_idx\": 3698, \"metadata_seperator\": \"\\n\", \"text_template\": \"{metadata_str}\\n\\n{content}\", \"class_name\": \"TextNode\"}\n",
      "_node_type: TextNode\n",
      "document_id: 3681b6f2-8dd5-4fce-9e1e-9a0623f7fae1\n",
      "doc_id: 3681b6f2-8dd5-4fce-9e1e-9a0623f7fae1\n",
      "ref_doc_id: 3681b6f2-8dd5-4fce-9e1e-9a0623f7fae1\n",
      "\n",
      "\n",
      "Text:\n",
      "['Investigation and reporting of news concomitant with fastpaced lifestyles This article is about the fastpaced cycle of news media in technologically advanced societies. For the longerterm cycle of news and information see information cycle . Several simultaneous NBC News broadcasts including MSNBC  NBC s Today and CNBC s Squawk Box  displayed on monitors The 24hour news cycle or 247 news cycle  is the 24hour investigation and reporting of news concomitant with fastpaced lifestyles . The vast news resources available in recent decades have increased competition for audience and advertiser attention prompting media providers to deliver the latest news in the most compelling manner in order to remain ahead of competitors. Television radio print online and mobile app news media all have many suppliers that want to be relevant to their audiences and deliver news first. A complete news cycle consists of the media reporting on some event followed by the media reporting on public and other reactions to the earlier reports. The advent of 24hour cable and satellite television news channels and in more recent times of news sources on the World Wide Web including blogs  considerably shortened this process. History  edit  Although allnews radio operated for decades earlier the 24hour news cycle arrived with the advent of cable television channels dedicated to news  1  and brought about a much faster pace of news production with an increased demand for stories that could be presented as continual news with constant updating. This was a contrast with the daybyday pace of the news cycle of printed daily newspapers .  2  A high premium on faster reporting would see a further increase with the advent of online news .  3  In 2015 Time magazine noted that the 1995 O. J. Simpson murder case was a significant early example of the 24hour news cycle.  4  Critical assessment  edit  According to former journalists Bill Kovach and Tom Rosenstiel  24hour news creates wild competition among media organizations for audience share .  5  This coupled with the profit demand of their corporate ownership has led to a decline in journalistic standards .  5  In their book Warp Speed America in the Age of Mixed Media  they write that the press has moved toward sensationalism  entertainment  and opinion  and away from traditional values of verification  proportion  relevance  depth and quality of interpretation.  5  They fear these values will be replaced by a journalism of assertion which deemphasizes whether a claim is valid and encourages putting a claim into the arena of public discussion as quickly as possible.  5  See also  edit  Internet portal Journalism portal Television portal CNN effect Feiler faster thesis Information overload Information pollution Infotainment References  edit   Silvia Tony 2001. 2. CNN The Origins of the 24Hour International News Cycle. Global News Perspectives on the Information Age . Blackwell. pp.\\xa045f. ISBN 0813802563 .  Kansas David Gitlin Todd 2001. Whats the Rush An eepistolary Debate on the 24 hour news clock . In Giles Robert H. Snyder Robert W. eds.. Whats Next Problems  Prospects of Journalism . Transaction. pp. 83f . ISBN 0765807092 .  Swanson David L. 2003. 1. Political news in the changing environment of political journalism. In Wolfsfeld Gadi Maarek Philippe J. eds.. Political Communication in a New Era A Crossnational Perspective . Routledge. pp.\\xa020f. ISBN 041528953X .  How the O.J. Simpson Verdict Changed the Way We All Watch TVTime  a b c d Weaver David H. et\\xa0al. 2006. 8. Journalists Best Work. The American Journalist in the 21st Century US News People at the Dawn of a New Millennium . Routledge. p.\\xa0226. ISBN 0805853820 .']\n",
      "\n",
      "Embedding:\n",
      "[0.02981230802834034, 0.0874210000038147, -0.1899726390838623, 0.0012790700420737267, -0.002216825494542718, 0.008476472459733486, 0.027838528156280518, -0.034875087440013885, 0.01616201549768448, -0.03209671378135681, 0.04006437957286835, -0.024890953674912453, 0.07390222698450089, 0.04471640661358833, 0.03297816216945648, -0.05452335253357887, -0.05112634226679802, -0.032597512006759644, -0.03180360421538353, 0.03547469154000282, -0.02810557372868061, -0.028518743813037872, -0.03625044971704483, -0.022218724712729454, -0.01597602292895317, 0.02158198133111, -0.015272270888090134, -0.07009470462799072, -0.002833683742210269, -0.006709779147058725, 0.01148277148604393, -0.03171908110380173, -0.010015536099672318, -0.06421714276075363, 0.00011150176578667015, -0.03529847413301468, 0.03219107165932655, -0.014715409837663174, -0.023666486144065857, -0.029248710721731186, 0.04924372583627701, 0.007797603495419025, 0.017143838107585907, -0.02655622735619545, 0.0533050037920475, 0.02782776951789856, 0.007703564595431089, 0.007481857668608427, 0.04194879159331322, -0.06302934885025024, 0.00975973904132843, 0.0026337553281337023, -0.007537351921200752, -9.796086669666693e-05, 0.06747240573167801, 0.014623780734837055, 0.016780821606516838, 0.05283796787261963, 0.01863684691488743, 0.0027415230870246887, 0.1043044701218605, 0.023301612585783005, 0.0188441202044487, 0.035955216735601425, 0.06290355324745178, -0.034172311425209045, 0.03889187425374985, 0.022872231900691986, 0.044765278697013855, -0.045060526579618454, -0.00028426048811525106, -0.04156143590807915, -0.01613166369497776, 0.0233808234333992, -0.010586473159492016, 0.02632451429963112, -0.00662453006953001, -0.05020647495985031, -0.018787583336234093, 0.06828721612691879, 0.0261831171810627, -0.000866410497110337, 0.03363203629851341, -0.0022676882799714804, 0.006332227028906345, -0.012088729068636894, -0.03481871262192726, 0.00599923450499773, 0.02195386029779911, 0.04495572671294212, 0.05904805660247803, -0.017917759716510773, 0.06655562669038773, 0.037093810737133026, -0.03153875470161438, 0.033602889627218246, -0.050658129155635834, 0.06612716615200043, -0.0775827020406723, 0.0030167964287102222, -0.023919440805912018, -0.062128763645887375, 0.04728832095861435, 0.010917712934315205, 0.014241424389183521, 0.02045254223048687, -0.022056296467781067, -0.02553345449268818, 0.0007268910994753242, -0.005924004130065441, -0.05617199465632439, 0.010923107154667377, -0.0055983467027544975, 0.006255646236240864, -0.02351481281220913, -0.0023499748203903437, 0.14673414826393127, -0.008652014657855034, -0.003494078991934657, 0.023603491485118866, 0.010084028355777264, -0.03596926108002663, -0.023055776953697205, 0.05203830823302269, 0.015316913835704327, 0.016816066578030586, 0.010928436182439327, -0.015704363584518433, -0.00364542449824512, -0.006006087642163038, -0.013277901336550713, 0.024836529046297073, -0.012801035307347775, 0.014423927292227745, 0.02510206773877144, 0.08500445634126663, -0.03817828744649887, -0.016418203711509705, 0.021550124511122704, 0.06607197225093842, 0.08158475905656815, -0.009009754285216331, -0.002968984190374613, -0.02228764072060585, -0.06638819724321365, 0.029965385794639587, -0.014782143756747246, -0.03913002461194992, 0.004211066756397486, -0.0029702153988182545, 0.004952855408191681, 0.03189273551106453, -0.015271716751158237, 1.8694072423386388e-05, 0.02261754870414734, -0.032920077443122864, -0.03737274929881096, -0.04447615519165993, 0.07674288004636765, 0.024296479299664497, 0.04397600144147873, 0.008548236452043056, -0.02508554235100746, 0.06631793826818466, -0.02060825563967228, -0.0480358712375164, 0.0271852295845747, 0.02031039446592331, 0.004937431309372187, 0.02522989548742771, -0.05872340872883797, -0.03209736570715904, -0.029341334477066994, -0.028793830424547195, 0.06275070458650589, -0.01744365692138672, 0.085988849401474, -0.025027364492416382, 0.0018459362909197807, -0.05103481560945511, -0.0019140219083055854, -0.00984711479395628, 0.006697615142911673, 0.0323515422642231, -0.00014470008318312466, -0.029951419681310654, -0.004427541047334671, -0.07150861620903015, -0.019897393882274628, -0.04686286300420761, -0.005782359279692173, 0.02422075718641281, -0.019825616851449013, -0.007636724039912224, -0.0396602563560009, 0.0006294056656770408, 0.0357283353805542, -0.013331864029169083, 0.05201259255409241, -0.03422935679554939, -0.028648022562265396, -0.03020818717777729, -0.01897980272769928, 0.018005501478910446, 0.0009524814086034894, 0.07309583574533463, 0.02670830488204956, 0.05332087352871895, -0.043960511684417725, -0.005101374350488186, 0.07308615744113922, 0.027597174048423767, -0.03928874805569649, 0.04200815409421921, 0.008944209665060043, 0.01482893992215395, -0.0421210415661335, 0.009958475828170776, -0.02272542007267475, 0.01773150824010372, 0.04196847230195999, -0.03275090083479881, -0.01712213084101677, -0.019812878221273422, 0.0015347909647971392, -0.04914763569831848, -0.048711374402046204, -0.010828358121216297, -0.019162695854902267, 0.031362343579530716, -0.029073063284158707, -0.06025988608598709, 0.053752146661281586, 0.013113128952682018, 0.006235525477677584, 0.06243410333991051, 0.03987110033631325, 0.05441555753350258, 0.010037227533757687, -0.012757609598338604, -0.010345157235860825, -0.00730034289881587, -0.012490704655647278, -0.016353733837604523, -0.05718788504600525, -0.0346883200109005, 0.023723939433693886, -0.05370446294546127, -0.01562640070915222, 0.09768322110176086, 0.03898430988192558, 0.006907609291374683, 0.036994948983192444, 0.03880542144179344, 0.031702350825071335, -0.0007049220730550587, -0.00932956300675869, 0.02813986875116825, -0.00016447091184090823, 0.03909588232636452, 0.03361783176660538, 0.013757582753896713, 0.01892685703933239, -0.02199787087738514, -0.0004097745113540441, 0.005934377666562796, -0.04654930531978607, -0.02227531187236309, 0.02640240080654621, -0.01951179839670658, 0.038230326026678085, 0.0024345009587705135, -0.018195901066064835, 0.01092885248363018, -0.08649922907352448, -0.005826941225677729, 0.006655021570622921, -0.048879653215408325, -0.028599658980965614, 0.008959592320024967, 0.035073086619377136, -0.029381245374679565, -0.023075295612215996, 0.010201600380241871, -0.027128497138619423, 0.015228762291371822, 0.006220073904842138, 0.06315641105175018, 0.025760402902960777, 0.026731504127383232, -0.001223853905685246, -0.002103200415149331, 0.028328787535429, 0.030712079256772995, -0.010252607055008411, 0.06256189942359924, 0.08648759126663208, -0.01972460374236107, 0.0024404427967965603, -0.028290951624512672, 0.015336292795836926, 0.03687116503715515, 0.0794922485947609, 0.0603787936270237, -0.013930926099419594, -0.02661697007715702, 0.010566286742687225, 0.01125313714146614, 0.014368786476552486, -0.04246325418353081, -0.04921426251530647, 0.034006793051958084, -0.0607885904610157, 0.03437655419111252, -0.057703521102666855, 0.01767607219517231, 0.05407823249697685, 0.07325829565525055, 0.08157473802566528, 0.014835077337920666, 0.002649327041581273, -0.020107688382267952, -0.021692410111427307, -0.06482181698083878, 0.00838722474873066, 0.006156451068818569, -0.021715551614761353, -0.008906717412173748, -0.02052661031484604, 0.001794269192032516, -0.019861526787281036, 0.032963626086711884, 0.03934122622013092, -0.046184100210666656, -0.005499639082700014, 0.04246997833251953, 0.04211290925741196, 0.04950760677456856, -0.025103574618697166, -0.020509175956249237, 0.08196667581796646, -0.0055284565314650536, 0.02192876487970352, -0.05495159700512886, 0.0133672459051013, -0.017495978623628616, -0.039692480117082596, -0.02504250966012478, 0.02079111896455288, -0.020430486649274826, -0.0015089866938069463, 0.05328068882226944, -0.007129513658583164, -0.02575279399752617, 0.020453231409192085, -0.026621060445904732, -0.0014915975043550134, 0.003059116192162037, 0.04290591552853584, -0.04700129106640816, 0.015229995362460613, -0.010506845079362392, -0.0060507794842123985, 0.023024769499897957, -0.038948044180870056, 0.0023437596391886473, 0.02720194309949875, 0.05680130422115326, 0.019109206274151802, -0.03724370151758194, -0.006515050772577524, -0.0025646935682743788, -0.010643412359058857, 0.061229731887578964, -0.0011503383284434676, 0.060238245874643326, -0.06417948007583618, -0.0113380691036582, -0.03247511014342308, -0.00032021169317886233, -0.006527186371386051, -0.011272936128079891, 0.01550685428082943, -0.005567607004195452, 0.017496105283498764, -0.006086811423301697, -0.013893241062760353, -0.04873527213931084, -0.07993733882904053, 0.00446728989481926, 0.055520519614219666, -0.037992414087057114, -0.05485836789011955, 0.003877153852954507, 0.02313855104148388, -0.017064176499843597, 0.009150836616754532, 0.025270458310842514, 0.011732591316103935, 0.05828434228897095, -0.020047010853886604, -0.03424467146396637, 0.006738618481904268, -0.02548908442258835, -0.021731587126851082, 0.06588508188724518, -0.04433417320251465, -0.04819487780332565, 0.00843642558902502, 0.01314652431756258, 0.052216786891222, 0.07561563700437546, -0.0005403779214248061, 0.0023004310205578804, 0.022642945870757103, 0.11098255217075348, 0.016223561018705368, -0.028307760134339333, -0.025950828567147255, 0.017301905900239944, -0.022356368601322174, 0.06431583315134048, -0.00734532717615366, -0.02281111292541027, -0.014596459455788136, 0.02052479423582554, 0.017739959061145782, 0.007327992934733629, -0.032617270946502686, -0.018675295636057854, 0.02556043490767479, 0.016385359689593315, 0.030505705624818802, -0.01550985872745514, -0.008060340769588947, 0.023792961612343788, 0.02264046110212803, 0.03047964721918106, 0.026731664314866066, 0.02520129084587097, 0.05705758556723595, -0.04708435758948326, -0.01720312610268593, -0.027119075879454613, 0.010255455039441586, 0.1046806126832962, 0.02470269799232483, 0.03427673503756523, -0.05688284710049629, 0.03364960476756096, -0.01784578524529934, -0.0052904970943927765, 0.01763015426695347, -0.010537298396229744, 0.07753878831863403, -0.0879535898566246, -0.01919729635119438, 0.07918967306613922, 0.017448896542191505, 0.00948386825621128, 0.016759643331170082, 0.008543819189071655, 0.009361406788229942, -0.0032899535726755857, 0.006080915220081806, -0.02466573379933834, 0.0054344371892511845, -0.032713633030653, -0.01245715469121933, 0.03810000792145729, -0.055186573415994644, -0.004317679442465305, -0.026849431917071342, -0.026539715006947517, -0.023759853094816208, 0.011542946100234985, 0.011981840245425701, -0.0044235484674572945, 0.037844859063625336, 0.03438835218548775, 0.039844829589128494, -0.03938407450914383, -0.02157633751630783, -0.005201101303100586, 0.025831297039985657, 0.0031739359255880117, 0.015232556499540806, -0.030354712158441544, -0.01517664548009634, -0.002192955231294036, 0.004703473299741745, 0.021205199882388115, 0.003189329756423831, -0.022845463827252388, -0.04959462955594063, -0.016768909990787506, 0.032295819371938705, 0.00089076510630548, 0.02298225834965706, 0.006773293949663639, 0.01433082576841116, 0.03974318504333496, -0.01899881847202778, -0.012600644491612911, 0.0422496423125267, 0.013706288300454617, -0.046475864946842194, -0.055422961711883545, -0.003203172003850341, 0.04070908948779106, 0.011781378649175167, 0.010209157131612301, -0.06927446275949478, 0.03332275524735451, 0.07674184441566467, -0.05103114992380142, 0.010443272069096565, 0.0035800784826278687, -0.00393914757296443, -0.019361544400453568, -0.05943452939391136, -0.02380840852856636, 0.03202962875366211, 0.030824070796370506, -0.07982310652732849, -0.013131286017596722, -0.04398157075047493, -0.0341651625931263, 0.013552584685385227, -0.04131035879254341, 0.02686344087123871, -0.006387043744325638, 0.0012717591598629951, 0.025666069239377975, 0.016641756519675255, 0.07591528445482254, 0.009137153625488281, 0.025815486907958984, 0.0634613111615181, 0.003512684255838394, -0.033458005636930466, 0.018084250390529633, -0.023268867284059525, 0.04879052937030792, 0.043090637773275375, -0.05457531288266182, 0.02193600684404373, -0.016406496986746788, -0.0107255345210433, -0.026476813480257988, 0.05806915462017059, -0.03978467732667923, 0.049168139696121216, -0.03131017088890076, 0.014843340963125229, -0.04097505658864975, 0.04839353263378143, 0.020696887746453285, -0.06296169012784958, -0.038289934396743774, -0.012291069142520428, 0.0012560534523800015, 0.04263264313340187, 0.014989570714533329, 0.015859786421060562, 0.008618396706879139, -0.002985851839184761, -0.05125860124826431, 0.006584132090210915, 0.06314903497695923, 0.027929572388529778, -0.04519260302186012, -0.025767577812075615, -0.012706323526799679, -0.034334830939769745, 0.0185092706233263, 0.0021732414606958628, -0.014965479262173176, -0.06222263351082802, -0.030604496598243713, 0.011452443897724152, -0.04718843847513199, -0.02073056995868683, 0.006789658684283495, 0.015043874271214008, -0.029507586732506752, -0.029930245131254196, -0.033628158271312714, -0.0037290332838892937, -0.045832738280296326, -0.018511900678277016, 0.01208506803959608, -0.012200016528367996, -0.04727744311094284, -0.014518631622195244, -0.01294627320021391, -0.023291761055588722, 0.015229640528559685, -0.042317528277635574, -0.03912204131484032, -0.01727195270359516, -0.008636667393147945, 0.03236675262451172, -0.06037760525941849, -0.003479840001091361, 0.05838645249605179, 0.010867860168218613, -0.019820423796772957, -0.009168487973511219, -0.05595287308096886, -0.009775654412806034, -0.0005837412318214774, 0.03257023170590401, -0.056925561279058456, 0.021708358079195023, -0.032536257058382034, 0.03115609847009182, 0.0022114126477390528, -0.022057076916098595, -0.049402061849832535, 0.040363479405641556, 0.03495359793305397, 0.02553943172097206, -0.045762065798044205, 0.0053063370287418365, 0.021984854713082314, -0.05941999703645706, -0.08168014138936996, 0.014465839602053165, 0.0167384073138237, -0.012451174668967724, -0.03427790105342865, -0.010406231507658958, -0.007711965590715408, -0.0364302359521389, 0.028812803328037262, -0.016452206298708916, 0.03270217776298523, -0.007829910144209862, 0.009897207841277122, 0.03343275561928749, -0.03558097407221794, -0.008569729514420033, 0.03750263899564743, 0.028666459023952484, -0.04269193485379219, 0.031938862055540085, 0.07513225823640823, 0.09007571637630463, -0.025460077449679375, 0.05985701084136963, 0.04689532145857811, 0.021416116505861282, -0.017098145559430122, 0.005060179159045219, 0.004180768970400095, 0.03299778327345848, -0.04603727161884308, 0.0007577255601063371, -0.0923929363489151, -0.004349183291196823, -0.015161239542067051, -0.008853048086166382, 0.028408819809556007, 0.011192811653017998, -0.06006385385990143, -0.01147390715777874, 0.0064151999540627, -0.058960672467947006, -0.04006895795464516, 0.016129665076732635, 0.00144318793900311, -0.025276310741901398, -0.058895133435726166, 0.04652707651257515, 0.02483035996556282, -0.026402944698929787, 0.006397586315870285, 0.04336420074105263, 0.006277980748564005, 0.03336013853549957, 0.0019260946428403258, 0.01260937750339508, -0.017701683565974236, -0.022861050441861153, -0.02618071623146534, -0.054260917007923126, 0.02331496588885784, -0.028514688834547997, -0.04930796101689339, -0.027665002271533012, 0.0012143562780693173, -0.0279413890093565, -0.011008060537278652, 0.025020984932780266, 0.05994977802038193, 0.008654760196805, -0.037382397800683975, -0.06296157091856003, -0.005276531912386417, -0.009566787630319595, 0.002994297072291374, -0.007261926773935556, 0.029018647968769073, 0.00259810290299356, 0.0018491842783987522, -0.02294243313372135, -0.024893810972571373, 0.01860176958143711, -0.010110566392540932, -0.034700196236371994, -0.02373884618282318, -0.015570446848869324, -0.010347165167331696, 0.009171180427074432, -0.00451429421082139, -0.004816425032913685, -0.08443338423967361, -0.05322340503334999, 0.02084844931960106, 0.04584982618689537, -0.06840991228818893, -0.06021394953131676, -0.04891685023903847, -0.013524393551051617, 0.02602536976337433, 0.0685998946428299, -0.06546878069639206, 0.0025493744760751724, -0.010587972588837147, 0.023884600028395653, -0.0026503761764615774, -0.04806983843445778, 0.020686939358711243, -0.044451385736465454, 0.0004952483577653766, -0.04189557582139969, 0.04556789621710777, -0.055680710822343826, 0.021834298968315125, -0.05611748993396759, 0.029483381658792496, -0.02155139297246933, -0.004371499177068472, -0.0007979813381098211, -0.04885685443878174, -0.005613965447992086, 0.03869928792119026, -0.009127914905548096, -0.004735685884952545, -0.009278621524572372, 0.011811777949333191, -0.02773747406899929, -0.015540880151093006, 0.006341369356960058, 0.031758878380060196, 0.03479846194386482, 0.011719344183802605, 0.1096959337592125, -0.009017013013362885, 0.027761997655034065, 0.006078625563532114, 0.07582826167345047, -0.048318542540073395, -0.0075013767927885056, -0.013122252188622952, -0.03684789314866066, -0.00839598011225462]\n",
      "\n"
     ]
    }
   ],
   "source": [
    "# Function to display a selected record\n",
    "def display_record(record_number):\n",
    "    record = df.iloc[record_number]\n",
    "    display_data = {\n",
    "        \"ID\": record.get(\"id\", \"N/A\"),\n",
    "        \"Metadata\": record.get(\"metadata\", \"N/A\"),\n",
    "        \"Text\": record.get(\"text\", \"N/A\"),\n",
    "        \"Embedding\": record.get(\"embedding\", \"N/A\")\n",
    "    }\n",
    "\n",
    "    # Print the ID\n",
    "    print(\"ID:\")\n",
    "    print(display_data[\"ID\"])\n",
    "    print()\n",
    "\n",
    "    # Print the metadata in a structured format\n",
    "    print(\"Metadata:\")\n",
    "    metadata = display_data[\"Metadata\"]\n",
    "    if isinstance(metadata, list):\n",
    "        for item in metadata:\n",
    "            for key, value in item.items():\n",
    "                print(f\"{key}: {value}\")\n",
    "            print()\n",
    "    else:\n",
    "        print(metadata)\n",
    "    print()\n",
    "\n",
    "    # Print the text\n",
    "    print(\"Text:\")\n",
    "    print(display_data[\"Text\"])\n",
    "    print()\n",
    "\n",
    "    # Print the embedding\n",
    "    print(\"Embedding:\")\n",
    "    print(display_data[\"Embedding\"])\n",
    "    print()\n",
    "\n",
    "# Example usage\n",
    "rec = 0  # Replace with the desired record number\n",
    "display_record(rec)"
   ]
  },
  {
   "cell_type": "markdown",
   "id": "6ed12f4d",
   "metadata": {},
   "source": [
    "## Update original documents"
   ]
  },
  {
   "cell_type": "code",
   "execution_count": 31,
   "id": "43db8e1d",
   "metadata": {},
   "outputs": [],
   "source": [
    "from llama_index.core import Document\n",
    "\n",
    "# Ensure 'text' column is of type string\n",
    "df['text'] = df['text'].astype(str)\n",
    "# Create documents with IDs\n",
    "documents = [Document(text=row['text'], doc_id=str(row['id'])) for _, row in df.iterrows()]"
   ]
  },
  {
   "cell_type": "markdown",
   "id": "4383ad27",
   "metadata": {},
   "source": [
    "## Knowledge Graph Index-based RAG\n",
    "\n",
    "### Generating the Knowledge Graph Index"
   ]
  },
  {
   "cell_type": "code",
   "execution_count": null,
   "id": "c274ad20",
   "metadata": {},
   "outputs": [],
   "source": [
    "from llama_index.core import KnowledgeGraphIndex, Settings\n",
    "from llama_index.llms.openai import OpenAI\n",
    "import time\n",
    "# Start the timer\n",
    "start_time = time.time()\n",
    "\n",
    "Settings.llm = OpenAI(\n",
    "    api_key=os.getenv(\"MISTRAL_API_KEY\"),\n",
    "    model=\"ministral-8b-latest\"\n",
    ")\n",
    "\n",
    "# Graph index with embeddings\n",
    "os.environ[\"OPENAI_API_KEY\"] = \"sk-1234567890\"\n",
    "graph_index = KnowledgeGraphIndex.from_documents(\n",
    "    documents,\n",
    "    max_triplets_per_chunk=2,\n",
    "    include_embeddings=True,\n",
    ")\n",
    "\n",
    "# Stop the timer\n",
    "end_time = time.time()\n",
    "\n",
    "# Calculate and print the execution time\n",
    "elapsed_time = end_time - start_time\n",
    "print(f\"Index creation time: {elapsed_time:.4f} seconds\")"
   ]
  }
 ],
 "metadata": {
  "kernelspec": {
   "display_name": ".venv",
   "language": "python",
   "name": "python3"
  },
  "language_info": {
   "codemirror_mode": {
    "name": "ipython",
    "version": 3
   },
   "file_extension": ".py",
   "mimetype": "text/x-python",
   "name": "python",
   "nbconvert_exporter": "python",
   "pygments_lexer": "ipython3",
   "version": "3.13.4"
  }
 },
 "nbformat": 4,
 "nbformat_minor": 5
}
